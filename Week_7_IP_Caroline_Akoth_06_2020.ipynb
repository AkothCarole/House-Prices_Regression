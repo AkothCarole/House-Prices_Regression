{
  "nbformat": 4,
  "nbformat_minor": 0,
  "metadata": {
    "colab": {
      "name": "Week 7_IP_Caroline Akoth_06_2020.ipynb",
      "provenance": [],
      "collapsed_sections": [],
      "authorship_tag": "ABX9TyNh87p3iU7FCSwVuIKj8nmh",
      "include_colab_link": true
    },
    "kernelspec": {
      "name": "python3",
      "display_name": "Python 3"
    }
  },
  "cells": [
    {
      "cell_type": "markdown",
      "metadata": {
        "id": "view-in-github",
        "colab_type": "text"
      },
      "source": [
        "<a href=\"https://colab.research.google.com/github/AkothCarole/House-Prices_Regression/blob/master/Week_7_IP_Caroline_Akoth_06_2020.ipynb\" target=\"_parent\"><img src=\"https://colab.research.google.com/assets/colab-badge.svg\" alt=\"Open In Colab\"/></a>"
      ]
    },
    {
      "cell_type": "markdown",
      "metadata": {
        "id": "wJs4OeQKBY-_",
        "colab_type": "text"
      },
      "source": [
        "#Defining the problem\n",
        "\n",
        "As a Data Scientist, you work for Hass Consulting Company which is a real estate leader with over 25 years of experience. You have been tasked to study the factors that affect housing prices using the given information on real estate properties that was collected over the past few months.\n",
        "\n",
        "Later onwards, create a model that would allow the company to accurately predict the sale of prices upon being provided with the predictor variables. "
      ]
    },
    {
      "cell_type": "markdown",
      "metadata": {
        "id": "hqj-MB2HB2td",
        "colab_type": "text"
      },
      "source": [
        "**Define the question**"
      ]
    },
    {
      "cell_type": "markdown",
      "metadata": {
        "id": "bgJF8e-VB5_q",
        "colab_type": "text"
      },
      "source": [
        "**Metric for success**"
      ]
    },
    {
      "cell_type": "markdown",
      "metadata": {
        "id": "k_SZ_AwMB_Gi",
        "colab_type": "text"
      },
      "source": [
        "**Experimental design taken**"
      ]
    },
    {
      "cell_type": "markdown",
      "metadata": {
        "id": "ikBdmQLPCFv0",
        "colab_type": "text"
      },
      "source": [
        "#Explore the dataset"
      ]
    },
    {
      "cell_type": "code",
      "metadata": {
        "id": "V3dR_ergEyqs",
        "colab_type": "code",
        "colab": {}
      },
      "source": [
        "#Import Libraries\n",
        "import pandas as pd\n",
        "import numpy as np\n",
        "import seaborn as sns\n",
        "import matplotlib as plt"
      ],
      "execution_count": 0,
      "outputs": []
    },
    {
      "cell_type": "code",
      "metadata": {
        "id": "CbTgN4FHE6JS",
        "colab_type": "code",
        "outputId": "42a448ac-731a-4368-99b6-612f37e870c4",
        "colab": {
          "base_uri": "https://localhost:8080/",
          "height": 215
        }
      },
      "source": [
        "#Read the data\n",
        "#Dataset URL = http://bit.ly/IndependentProjectWeek7Dataset\n",
        "\n",
        "data = pd.read_csv('http://bit.ly/IndependentProjectWeek7Dataset')\n",
        "data.head()"
      ],
      "execution_count": 0,
      "outputs": [
        {
          "output_type": "execute_result",
          "data": {
            "text/html": [
              "<div>\n",
              "<style scoped>\n",
              "    .dataframe tbody tr th:only-of-type {\n",
              "        vertical-align: middle;\n",
              "    }\n",
              "\n",
              "    .dataframe tbody tr th {\n",
              "        vertical-align: top;\n",
              "    }\n",
              "\n",
              "    .dataframe thead th {\n",
              "        text-align: right;\n",
              "    }\n",
              "</style>\n",
              "<table border=\"1\" class=\"dataframe\">\n",
              "  <thead>\n",
              "    <tr style=\"text-align: right;\">\n",
              "      <th></th>\n",
              "      <th>id</th>\n",
              "      <th>price</th>\n",
              "      <th>bedrooms</th>\n",
              "      <th>bathrooms</th>\n",
              "      <th>sqft_living</th>\n",
              "      <th>sqft_lot</th>\n",
              "      <th>floors</th>\n",
              "      <th>waterfront</th>\n",
              "      <th>view</th>\n",
              "      <th>condition</th>\n",
              "      <th>grade</th>\n",
              "      <th>sqft_above</th>\n",
              "      <th>sqft_basement</th>\n",
              "      <th>yr_built</th>\n",
              "      <th>yr_renovated</th>\n",
              "      <th>zipcode</th>\n",
              "      <th>lat</th>\n",
              "      <th>long</th>\n",
              "      <th>sqft_living15</th>\n",
              "      <th>sqft_lot15</th>\n",
              "    </tr>\n",
              "  </thead>\n",
              "  <tbody>\n",
              "    <tr>\n",
              "      <th>0</th>\n",
              "      <td>7129300520</td>\n",
              "      <td>221900.0</td>\n",
              "      <td>3</td>\n",
              "      <td>1.00</td>\n",
              "      <td>1180</td>\n",
              "      <td>5650</td>\n",
              "      <td>1.0</td>\n",
              "      <td>0</td>\n",
              "      <td>0</td>\n",
              "      <td>3</td>\n",
              "      <td>7</td>\n",
              "      <td>1180</td>\n",
              "      <td>0</td>\n",
              "      <td>1955</td>\n",
              "      <td>0</td>\n",
              "      <td>98178</td>\n",
              "      <td>47.5112</td>\n",
              "      <td>-122.257</td>\n",
              "      <td>1340</td>\n",
              "      <td>5650</td>\n",
              "    </tr>\n",
              "    <tr>\n",
              "      <th>1</th>\n",
              "      <td>6414100192</td>\n",
              "      <td>538000.0</td>\n",
              "      <td>3</td>\n",
              "      <td>2.25</td>\n",
              "      <td>2570</td>\n",
              "      <td>7242</td>\n",
              "      <td>2.0</td>\n",
              "      <td>0</td>\n",
              "      <td>0</td>\n",
              "      <td>3</td>\n",
              "      <td>7</td>\n",
              "      <td>2170</td>\n",
              "      <td>400</td>\n",
              "      <td>1951</td>\n",
              "      <td>1991</td>\n",
              "      <td>98125</td>\n",
              "      <td>47.7210</td>\n",
              "      <td>-122.319</td>\n",
              "      <td>1690</td>\n",
              "      <td>7639</td>\n",
              "    </tr>\n",
              "    <tr>\n",
              "      <th>2</th>\n",
              "      <td>5631500400</td>\n",
              "      <td>180000.0</td>\n",
              "      <td>2</td>\n",
              "      <td>1.00</td>\n",
              "      <td>770</td>\n",
              "      <td>10000</td>\n",
              "      <td>1.0</td>\n",
              "      <td>0</td>\n",
              "      <td>0</td>\n",
              "      <td>3</td>\n",
              "      <td>6</td>\n",
              "      <td>770</td>\n",
              "      <td>0</td>\n",
              "      <td>1933</td>\n",
              "      <td>0</td>\n",
              "      <td>98028</td>\n",
              "      <td>47.7379</td>\n",
              "      <td>-122.233</td>\n",
              "      <td>2720</td>\n",
              "      <td>8062</td>\n",
              "    </tr>\n",
              "    <tr>\n",
              "      <th>3</th>\n",
              "      <td>2487200875</td>\n",
              "      <td>604000.0</td>\n",
              "      <td>4</td>\n",
              "      <td>3.00</td>\n",
              "      <td>1960</td>\n",
              "      <td>5000</td>\n",
              "      <td>1.0</td>\n",
              "      <td>0</td>\n",
              "      <td>0</td>\n",
              "      <td>5</td>\n",
              "      <td>7</td>\n",
              "      <td>1050</td>\n",
              "      <td>910</td>\n",
              "      <td>1965</td>\n",
              "      <td>0</td>\n",
              "      <td>98136</td>\n",
              "      <td>47.5208</td>\n",
              "      <td>-122.393</td>\n",
              "      <td>1360</td>\n",
              "      <td>5000</td>\n",
              "    </tr>\n",
              "    <tr>\n",
              "      <th>4</th>\n",
              "      <td>1954400510</td>\n",
              "      <td>510000.0</td>\n",
              "      <td>3</td>\n",
              "      <td>2.00</td>\n",
              "      <td>1680</td>\n",
              "      <td>8080</td>\n",
              "      <td>1.0</td>\n",
              "      <td>0</td>\n",
              "      <td>0</td>\n",
              "      <td>3</td>\n",
              "      <td>8</td>\n",
              "      <td>1680</td>\n",
              "      <td>0</td>\n",
              "      <td>1987</td>\n",
              "      <td>0</td>\n",
              "      <td>98074</td>\n",
              "      <td>47.6168</td>\n",
              "      <td>-122.045</td>\n",
              "      <td>1800</td>\n",
              "      <td>7503</td>\n",
              "    </tr>\n",
              "  </tbody>\n",
              "</table>\n",
              "</div>"
            ],
            "text/plain": [
              "           id     price  bedrooms  ...     long  sqft_living15  sqft_lot15\n",
              "0  7129300520  221900.0         3  ... -122.257           1340        5650\n",
              "1  6414100192  538000.0         3  ... -122.319           1690        7639\n",
              "2  5631500400  180000.0         2  ... -122.233           2720        8062\n",
              "3  2487200875  604000.0         4  ... -122.393           1360        5000\n",
              "4  1954400510  510000.0         3  ... -122.045           1800        7503\n",
              "\n",
              "[5 rows x 20 columns]"
            ]
          },
          "metadata": {
            "tags": []
          },
          "execution_count": 19
        }
      ]
    },
    {
      "cell_type": "code",
      "metadata": {
        "id": "Y8WWRMjfGUWZ",
        "colab_type": "code",
        "outputId": "8c6a7d4f-7c5b-423c-af7e-1b21942bd9bf",
        "colab": {
          "base_uri": "https://localhost:8080/",
          "height": 34
        }
      },
      "source": [
        "data.shape"
      ],
      "execution_count": 0,
      "outputs": [
        {
          "output_type": "execute_result",
          "data": {
            "text/plain": [
              "(21613, 20)"
            ]
          },
          "metadata": {
            "tags": []
          },
          "execution_count": 20
        }
      ]
    },
    {
      "cell_type": "code",
      "metadata": {
        "id": "UBOQNvofGWwv",
        "colab_type": "code",
        "outputId": "937887af-62e0-47d0-c88c-c2666343110b",
        "colab": {
          "base_uri": "https://localhost:8080/",
          "height": 470
        }
      },
      "source": [
        "data.info()"
      ],
      "execution_count": 0,
      "outputs": [
        {
          "output_type": "stream",
          "text": [
            "<class 'pandas.core.frame.DataFrame'>\n",
            "RangeIndex: 21613 entries, 0 to 21612\n",
            "Data columns (total 20 columns):\n",
            " #   Column         Non-Null Count  Dtype  \n",
            "---  ------         --------------  -----  \n",
            " 0   id             21613 non-null  int64  \n",
            " 1   price          21613 non-null  float64\n",
            " 2   bedrooms       21613 non-null  int64  \n",
            " 3   bathrooms      21613 non-null  float64\n",
            " 4   sqft_living    21613 non-null  int64  \n",
            " 5   sqft_lot       21613 non-null  int64  \n",
            " 6   floors         21613 non-null  float64\n",
            " 7   waterfront     21613 non-null  int64  \n",
            " 8   view           21613 non-null  int64  \n",
            " 9   condition      21613 non-null  int64  \n",
            " 10  grade          21613 non-null  int64  \n",
            " 11  sqft_above     21613 non-null  int64  \n",
            " 12  sqft_basement  21613 non-null  int64  \n",
            " 13  yr_built       21613 non-null  int64  \n",
            " 14  yr_renovated   21613 non-null  int64  \n",
            " 15  zipcode        21613 non-null  int64  \n",
            " 16  lat            21613 non-null  float64\n",
            " 17  long           21613 non-null  float64\n",
            " 18  sqft_living15  21613 non-null  int64  \n",
            " 19  sqft_lot15     21613 non-null  int64  \n",
            "dtypes: float64(5), int64(15)\n",
            "memory usage: 3.3 MB\n"
          ],
          "name": "stdout"
        }
      ]
    },
    {
      "cell_type": "markdown",
      "metadata": {
        "id": "OZMdrgr7CKYk",
        "colab_type": "text"
      },
      "source": [
        "**Define appropriateness of the data to answer questions**"
      ]
    },
    {
      "cell_type": "markdown",
      "metadata": {
        "id": "a3hSLoKPIv1q",
        "colab_type": "text"
      },
      "source": [
        "Data has the right columns, These columns are in the right data types. Also has location to check on the influence of location on price"
      ]
    },
    {
      "cell_type": "markdown",
      "metadata": {
        "id": "ls6lwSoMCRDp",
        "colab_type": "text"
      },
      "source": [
        "#**Clean the data**"
      ]
    },
    {
      "cell_type": "code",
      "metadata": {
        "id": "V-t3BU-GOh8q",
        "colab_type": "code",
        "outputId": "182b1e9d-b74a-4378-992a-bf6dd81226d5",
        "colab": {
          "base_uri": "https://localhost:8080/",
          "height": 370
        }
      },
      "source": [
        "#Find null values\n",
        "data.isnull().sum()"
      ],
      "execution_count": 0,
      "outputs": [
        {
          "output_type": "execute_result",
          "data": {
            "text/plain": [
              "id               0\n",
              "price            0\n",
              "bedrooms         0\n",
              "bathrooms        0\n",
              "sqft_living      0\n",
              "sqft_lot         0\n",
              "floors           0\n",
              "waterfront       0\n",
              "view             0\n",
              "condition        0\n",
              "grade            0\n",
              "sqft_above       0\n",
              "sqft_basement    0\n",
              "yr_built         0\n",
              "yr_renovated     0\n",
              "zipcode          0\n",
              "lat              0\n",
              "long             0\n",
              "sqft_living15    0\n",
              "sqft_lot15       0\n",
              "dtype: int64"
            ]
          },
          "metadata": {
            "tags": []
          },
          "execution_count": 22
        }
      ]
    },
    {
      "cell_type": "markdown",
      "metadata": {
        "id": "LaMvsJkHOnRT",
        "colab_type": "text"
      },
      "source": [
        "No Null values"
      ]
    },
    {
      "cell_type": "code",
      "metadata": {
        "id": "ZeTOWV-FSbbJ",
        "colab_type": "code",
        "outputId": "f9b97e16-a4eb-424d-a8b2-521e8e4bd0bd",
        "colab": {
          "base_uri": "https://localhost:8080/",
          "height": 218
        }
      },
      "source": [
        "data.duplicated()\n",
        "#No Duplicates"
      ],
      "execution_count": 0,
      "outputs": [
        {
          "output_type": "execute_result",
          "data": {
            "text/plain": [
              "0        False\n",
              "1        False\n",
              "2        False\n",
              "3        False\n",
              "4        False\n",
              "         ...  \n",
              "21608    False\n",
              "21609    False\n",
              "21610    False\n",
              "21611    False\n",
              "21612    False\n",
              "Length: 21613, dtype: bool"
            ]
          },
          "metadata": {
            "tags": []
          },
          "execution_count": 23
        }
      ]
    },
    {
      "cell_type": "code",
      "metadata": {
        "id": "tkcPV4PEOp13",
        "colab_type": "code",
        "outputId": "9ba35d4a-4e8b-47f7-8e21-144269ae178b",
        "colab": {
          "base_uri": "https://localhost:8080/",
          "height": 370
        }
      },
      "source": [
        "#Find Anomalies\n",
        "data.nunique()\n",
        "#Alot of columns don't have unique values as seen below. But since we dont need them to be unique we shall use them that way. "
      ],
      "execution_count": 0,
      "outputs": [
        {
          "output_type": "execute_result",
          "data": {
            "text/plain": [
              "id               21436\n",
              "price             3625\n",
              "bedrooms            13\n",
              "bathrooms           30\n",
              "sqft_living       1038\n",
              "sqft_lot          9782\n",
              "floors               6\n",
              "waterfront           2\n",
              "view                 5\n",
              "condition            5\n",
              "grade               12\n",
              "sqft_above         946\n",
              "sqft_basement      306\n",
              "yr_built           116\n",
              "yr_renovated        70\n",
              "zipcode             70\n",
              "lat               5034\n",
              "long               752\n",
              "sqft_living15      777\n",
              "sqft_lot15        8689\n",
              "dtype: int64"
            ]
          },
          "metadata": {
            "tags": []
          },
          "execution_count": 24
        }
      ]
    },
    {
      "cell_type": "code",
      "metadata": {
        "id": "MJwef7VfO3jR",
        "colab_type": "code",
        "outputId": "c60583d9-a843-4901-849c-ceb24c9b5c9a",
        "colab": {
          "base_uri": "https://localhost:8080/",
          "height": 34
        }
      },
      "source": [
        "data.shape"
      ],
      "execution_count": 0,
      "outputs": [
        {
          "output_type": "execute_result",
          "data": {
            "text/plain": [
              "(21613, 20)"
            ]
          },
          "metadata": {
            "tags": []
          },
          "execution_count": 25
        }
      ]
    },
    {
      "cell_type": "code",
      "metadata": {
        "id": "q9Zjf5uKUarp",
        "colab_type": "code",
        "colab": {}
      },
      "source": [
        "#Visualize Outliers\n",
        "#defining a funtion that takes the dataset name and numeric columns list as arguments \n",
        "#then returns a visual for the columns_list \n",
        "def outlier_visualiser(data, numeric_columns_list, width=10, height=5):\n",
        "    \n",
        "    fig_size = plt.rcParams[\"figure.figsize\"]\n",
        "    fig_size[0] = width\n",
        "    fig_size[1] = height\n",
        "    plt.rcParams[\"figure.figsize\"] = fig_size\n",
        "    plt.style.use('bmh')\n",
        "    \n",
        "    next_figure = 1\n",
        "    for col in numeric_columns_list:\n",
        "        plt.subplot(1, len(numeric_columns_list), next_figure)\n",
        "        dataset_name.boxplot(col, grid=False)\n",
        "        next_figure = next_figure + 1\n",
        "    plt.show()"
      ],
      "execution_count": 0,
      "outputs": []
    },
    {
      "cell_type": "code",
      "metadata": {
        "id": "BzOOPI6VO2m4",
        "colab_type": "code",
        "outputId": "b0d52b8b-e1cd-4acf-be44-49bb3db9c39f",
        "colab": {
          "base_uri": "https://localhost:8080/",
          "height": 353
        }
      },
      "source": [
        "# Counting the number of outliers for each\n",
        "#counting number of outliers in our data columns and cheking the percentage for each\n",
        "def detect_outlier(data):\n",
        "    outliers=[]\n",
        "    threshold=3\n",
        "    mean_1 = np.mean(data)\n",
        "    std_1 =np.std(data)\n",
        "    \n",
        "    for y in data:\n",
        "        z_score= (y - mean_1)/std_1 \n",
        "        if np.abs(z_score) > threshold:\n",
        "            outliers.append(y)\n",
        "    return outliers\n",
        "for col_val in data:\n",
        "    rows, columns = data.shape\n",
        "    outliers = detect_outlier(data[col_val])\n",
        "    outliers_count = len(outliers)\n",
        "    outliers_percentage = (outliers_count/rows)* 100\n",
        "    print(f\"{col_val} has {outliers_count} outliers in total, which is {outliers_percentage:.2}% of data\")"
      ],
      "execution_count": 0,
      "outputs": [
        {
          "output_type": "stream",
          "text": [
            "id has 0 outliers in total, which is 0.0% of data\n",
            "price has 406 outliers in total, which is 1.9% of data\n",
            "bedrooms has 75 outliers in total, which is 0.35% of data\n",
            "bathrooms has 187 outliers in total, which is 0.87% of data\n",
            "sqft_living has 248 outliers in total, which is 1.1% of data\n",
            "sqft_lot has 347 outliers in total, which is 1.6% of data\n",
            "floors has 8 outliers in total, which is 0.037% of data\n",
            "waterfront has 163 outliers in total, which is 0.75% of data\n",
            "view has 829 outliers in total, which is 3.8% of data\n",
            "condition has 30 outliers in total, which is 0.14% of data\n",
            "grade has 136 outliers in total, which is 0.63% of data\n",
            "sqft_above has 254 outliers in total, which is 1.2% of data\n",
            "sqft_basement has 247 outliers in total, which is 1.1% of data\n",
            "yr_built has 0 outliers in total, which is 0.0% of data\n",
            "yr_renovated has 914 outliers in total, which is 4.2% of data\n",
            "zipcode has 0 outliers in total, which is 0.0% of data\n",
            "lat has 0 outliers in total, which is 0.0% of data\n",
            "long has 233 outliers in total, which is 1.1% of data\n",
            "sqft_living15 has 237 outliers in total, which is 1.1% of data\n",
            "sqft_lot15 has 363 outliers in total, which is 1.7% of data\n"
          ],
          "name": "stdout"
        }
      ]
    },
    {
      "cell_type": "code",
      "metadata": {
        "id": "GS5o9Av3Ol7p",
        "colab_type": "code",
        "colab": {}
      },
      "source": [
        "#Drop Outliers using IQR\n",
        "#q3 = \n",
        "#q1 =\n",
        "#iqr = q3-q1\n",
        "#fin_outliers = data[~((data < (q1 - 1.5 * iqr)) |(data> (q3 + 1.5 * iqr))).any(axis=1)]\n",
        "#print(fin_outliers.shape)\n",
        "\n"
      ],
      "execution_count": 0,
      "outputs": []
    },
    {
      "cell_type": "markdown",
      "metadata": {
        "id": "yJDIjf1TRCjU",
        "colab_type": "text"
      },
      "source": [
        "# Univariate, Bivariate and Multivariate Analysis"
      ]
    },
    {
      "cell_type": "code",
      "metadata": {
        "id": "Ju8Vyl72CXmW",
        "colab_type": "code",
        "colab": {}
      },
      "source": [
        "#Univariate, Bivariate and Multivariate Analysis"
      ],
      "execution_count": 0,
      "outputs": []
    },
    {
      "cell_type": "code",
      "metadata": {
        "id": "27PBfYZyRRUg",
        "colab_type": "code",
        "outputId": "2697a387-7662-42e4-f3e7-d42ea84e458d",
        "colab": {
          "base_uri": "https://localhost:8080/",
          "height": 1000
        }
      },
      "source": [
        "!apt install libspatialindex-c4v5\n",
        "!pip install pysal"
      ],
      "execution_count": 0,
      "outputs": [
        {
          "output_type": "stream",
          "text": [
            "Reading package lists... Done\n",
            "Building dependency tree       \n",
            "Reading state information... Done\n",
            "libspatialindex-c4v5 is already the newest version (1.8.5-5).\n",
            "0 upgraded, 0 newly installed, 0 to remove and 32 not upgraded.\n",
            "Requirement already satisfied: pysal in /usr/local/lib/python3.6/dist-packages (2.2.0)\n",
            "Requirement already satisfied: segregation>=1.2.0 in /usr/local/lib/python3.6/dist-packages (from pysal) (1.2.0)\n",
            "Requirement already satisfied: urllib3<1.25 in /usr/local/lib/python3.6/dist-packages (from pysal) (1.24.3)\n",
            "Requirement already satisfied: spreg>=1.0.4 in /usr/local/lib/python3.6/dist-packages (from pysal) (1.1.1)\n",
            "Requirement already satisfied: mapclassify>=2.2.0 in /usr/local/lib/python3.6/dist-packages (from pysal) (2.2.0)\n",
            "Requirement already satisfied: tobler>=0.2.0 in /usr/local/lib/python3.6/dist-packages (from pysal) (0.3.0)\n",
            "Requirement already satisfied: inequality>=1.0.0 in /usr/local/lib/python3.6/dist-packages (from pysal) (1.0.0)\n",
            "Requirement already satisfied: pointpats>=2.1.0 in /usr/local/lib/python3.6/dist-packages (from pysal) (2.1.0)\n",
            "Requirement already satisfied: libpysal>=4.2.2 in /usr/local/lib/python3.6/dist-packages (from pysal) (4.2.2)\n",
            "Requirement already satisfied: spaghetti>=1.4.1 in /usr/local/lib/python3.6/dist-packages (from pysal) (1.5.0)\n",
            "Requirement already satisfied: spvcm>=0.3.0 in /usr/local/lib/python3.6/dist-packages (from pysal) (0.3.0)\n",
            "Requirement already satisfied: spglm>=1.0.7 in /usr/local/lib/python3.6/dist-packages (from pysal) (1.0.7)\n",
            "Requirement already satisfied: splot>=1.1.2 in /usr/local/lib/python3.6/dist-packages (from pysal) (1.1.3)\n",
            "Requirement already satisfied: spint>=1.0.6 in /usr/local/lib/python3.6/dist-packages (from pysal) (1.0.6)\n",
            "Requirement already satisfied: giddy>=2.3.0 in /usr/local/lib/python3.6/dist-packages (from pysal) (2.3.0)\n",
            "Requirement already satisfied: python-dateutil<=2.8.0 in /usr/local/lib/python3.6/dist-packages (from pysal) (2.8.0)\n",
            "Requirement already satisfied: mgwr>=2.1.1 in /usr/local/lib/python3.6/dist-packages (from pysal) (2.1.1)\n",
            "Requirement already satisfied: esda>=2.2.1 in /usr/local/lib/python3.6/dist-packages (from pysal) (2.2.1)\n",
            "Requirement already satisfied: pandas in /usr/local/lib/python3.6/dist-packages (from segregation>=1.2.0->pysal) (1.0.4)\n",
            "Requirement already satisfied: seaborn in /usr/local/lib/python3.6/dist-packages (from segregation>=1.2.0->pysal) (0.10.1)\n",
            "Requirement already satisfied: scipy in /usr/local/lib/python3.6/dist-packages (from segregation>=1.2.0->pysal) (1.4.1)\n",
            "Requirement already satisfied: geopandas in /usr/local/lib/python3.6/dist-packages (from segregation>=1.2.0->pysal) (0.7.0)\n",
            "Requirement already satisfied: matplotlib in /usr/local/lib/python3.6/dist-packages (from segregation>=1.2.0->pysal) (3.2.1)\n",
            "Requirement already satisfied: numpy in /usr/local/lib/python3.6/dist-packages (from segregation>=1.2.0->pysal) (1.18.4)\n",
            "Requirement already satisfied: tqdm in /usr/local/lib/python3.6/dist-packages (from segregation>=1.2.0->pysal) (4.41.1)\n",
            "Requirement already satisfied: scikit-learn>=0.21.3 in /usr/local/lib/python3.6/dist-packages (from segregation>=1.2.0->pysal) (0.22.2.post1)\n",
            "Requirement already satisfied: deprecated in /usr/local/lib/python3.6/dist-packages (from mapclassify>=2.2.0->pysal) (1.2.10)\n",
            "Requirement already satisfied: rasterstats in /usr/local/lib/python3.6/dist-packages (from tobler>=0.2.0->pysal) (0.14.0)\n",
            "Requirement already satisfied: statsmodels in /usr/local/lib/python3.6/dist-packages (from tobler>=0.2.0->pysal) (0.10.2)\n",
            "Requirement already satisfied: rasterio in /usr/local/lib/python3.6/dist-packages (from tobler>=0.2.0->pysal) (1.1.5)\n",
            "Requirement already satisfied: requests in /usr/local/lib/python3.6/dist-packages (from libpysal>=4.2.2->pysal) (2.23.0)\n",
            "Requirement already satisfied: jinja2 in /usr/local/lib/python3.6/dist-packages (from libpysal>=4.2.2->pysal) (2.11.2)\n",
            "Requirement already satisfied: bs4 in /usr/local/lib/python3.6/dist-packages (from libpysal>=4.2.2->pysal) (0.0.1)\n",
            "Requirement already satisfied: rtree in /usr/local/lib/python3.6/dist-packages (from spaghetti>=1.4.1->pysal) (0.9.4)\n",
            "Requirement already satisfied: descartes in /usr/local/lib/python3.6/dist-packages (from splot>=1.1.2->pysal) (1.1.0)\n",
            "Requirement already satisfied: quantecon in /usr/local/lib/python3.6/dist-packages (from giddy>=2.3.0->pysal) (0.4.7)\n",
            "Requirement already satisfied: six>=1.5 in /usr/local/lib/python3.6/dist-packages (from python-dateutil<=2.8.0->pysal) (1.12.0)\n",
            "Requirement already satisfied: pytz>=2017.2 in /usr/local/lib/python3.6/dist-packages (from pandas->segregation>=1.2.0->pysal) (2018.9)\n",
            "Requirement already satisfied: shapely in /usr/local/lib/python3.6/dist-packages (from geopandas->segregation>=1.2.0->pysal) (1.7.0)\n",
            "Requirement already satisfied: pyproj>=2.2.0 in /usr/local/lib/python3.6/dist-packages (from geopandas->segregation>=1.2.0->pysal) (2.6.1.post1)\n",
            "Requirement already satisfied: fiona in /usr/local/lib/python3.6/dist-packages (from geopandas->segregation>=1.2.0->pysal) (1.8.13.post1)\n",
            "Requirement already satisfied: pyparsing!=2.0.4,!=2.1.2,!=2.1.6,>=2.0.1 in /usr/local/lib/python3.6/dist-packages (from matplotlib->segregation>=1.2.0->pysal) (2.4.7)\n",
            "Requirement already satisfied: cycler>=0.10 in /usr/local/lib/python3.6/dist-packages (from matplotlib->segregation>=1.2.0->pysal) (0.10.0)\n",
            "Requirement already satisfied: kiwisolver>=1.0.1 in /usr/local/lib/python3.6/dist-packages (from matplotlib->segregation>=1.2.0->pysal) (1.2.0)\n",
            "Requirement already satisfied: joblib>=0.11 in /usr/local/lib/python3.6/dist-packages (from scikit-learn>=0.21.3->segregation>=1.2.0->pysal) (0.15.1)\n",
            "Requirement already satisfied: wrapt<2,>=1.10 in /usr/local/lib/python3.6/dist-packages (from deprecated->mapclassify>=2.2.0->pysal) (1.12.1)\n",
            "Requirement already satisfied: affine<3.0 in /usr/local/lib/python3.6/dist-packages (from rasterstats->tobler>=0.2.0->pysal) (2.3.0)\n",
            "Requirement already satisfied: simplejson in /usr/local/lib/python3.6/dist-packages (from rasterstats->tobler>=0.2.0->pysal) (3.17.0)\n",
            "Requirement already satisfied: cligj>=0.4 in /usr/local/lib/python3.6/dist-packages (from rasterstats->tobler>=0.2.0->pysal) (0.5.0)\n",
            "Requirement already satisfied: patsy>=0.4.0 in /usr/local/lib/python3.6/dist-packages (from statsmodels->tobler>=0.2.0->pysal) (0.5.1)\n",
            "Requirement already satisfied: click<8,>=4.0 in /usr/local/lib/python3.6/dist-packages (from rasterio->tobler>=0.2.0->pysal) (7.1.2)\n",
            "Requirement already satisfied: attrs in /usr/local/lib/python3.6/dist-packages (from rasterio->tobler>=0.2.0->pysal) (19.3.0)\n",
            "Requirement already satisfied: snuggs>=1.4.1 in /usr/local/lib/python3.6/dist-packages (from rasterio->tobler>=0.2.0->pysal) (1.4.7)\n",
            "Requirement already satisfied: click-plugins in /usr/local/lib/python3.6/dist-packages (from rasterio->tobler>=0.2.0->pysal) (1.1.1)\n",
            "Requirement already satisfied: idna<3,>=2.5 in /usr/local/lib/python3.6/dist-packages (from requests->libpysal>=4.2.2->pysal) (2.9)\n",
            "Requirement already satisfied: certifi>=2017.4.17 in /usr/local/lib/python3.6/dist-packages (from requests->libpysal>=4.2.2->pysal) (2020.4.5.1)\n",
            "Requirement already satisfied: chardet<4,>=3.0.2 in /usr/local/lib/python3.6/dist-packages (from requests->libpysal>=4.2.2->pysal) (3.0.4)\n",
            "Requirement already satisfied: MarkupSafe>=0.23 in /usr/local/lib/python3.6/dist-packages (from jinja2->libpysal>=4.2.2->pysal) (1.1.1)\n",
            "Requirement already satisfied: beautifulsoup4 in /usr/local/lib/python3.6/dist-packages (from bs4->libpysal>=4.2.2->pysal) (4.6.3)\n",
            "Requirement already satisfied: setuptools in /usr/local/lib/python3.6/dist-packages (from rtree->spaghetti>=1.4.1->pysal) (47.1.1)\n",
            "Requirement already satisfied: sympy in /usr/local/lib/python3.6/dist-packages (from quantecon->giddy>=2.3.0->pysal) (1.1.1)\n",
            "Requirement already satisfied: numba>=0.38 in /usr/local/lib/python3.6/dist-packages (from quantecon->giddy>=2.3.0->pysal) (0.48.0)\n",
            "Requirement already satisfied: munch in /usr/local/lib/python3.6/dist-packages (from fiona->geopandas->segregation>=1.2.0->pysal) (2.5.0)\n",
            "Requirement already satisfied: mpmath>=0.19 in /usr/local/lib/python3.6/dist-packages (from sympy->quantecon->giddy>=2.3.0->pysal) (1.1.0)\n",
            "Requirement already satisfied: llvmlite<0.32.0,>=0.31.0dev0 in /usr/local/lib/python3.6/dist-packages (from numba>=0.38->quantecon->giddy>=2.3.0->pysal) (0.31.0)\n"
          ],
          "name": "stdout"
        }
      ]
    },
    {
      "cell_type": "code",
      "metadata": {
        "id": "7doLajnrg_iW",
        "colab_type": "code",
        "outputId": "bb53878f-a233-459b-9090-859302eeea8b",
        "colab": {
          "base_uri": "https://localhost:8080/",
          "height": 50
        }
      },
      "source": [
        "pip install pysal.contrib.viz\n"
      ],
      "execution_count": 0,
      "outputs": [
        {
          "output_type": "stream",
          "text": [
            "\u001b[31mERROR: Could not find a version that satisfies the requirement pysal.contrib.viz (from versions: none)\u001b[0m\n",
            "\u001b[31mERROR: No matching distribution found for pysal.contrib.viz\u001b[0m\n"
          ],
          "name": "stdout"
        }
      ]
    },
    {
      "cell_type": "code",
      "metadata": {
        "id": "ETy66JvxeCgE",
        "colab_type": "code",
        "colab": {}
      },
      "source": [
        "from pysal.contrib.viz import mapping as maps"
      ],
      "execution_count": 0,
      "outputs": []
    },
    {
      "cell_type": "code",
      "metadata": {
        "id": "MJTb_WchRZ6Y",
        "colab_type": "code",
        "colab": {}
      },
      "source": [
        "import seaborn as sns\n",
        "import matplotlib.pyplot as plt\n",
        "import pysal as ps\n",
        "import geopandas as gpd\n"
      ],
      "execution_count": 0,
      "outputs": []
    },
    {
      "cell_type": "code",
      "metadata": {
        "id": "wV8Hr7rJUm5d",
        "colab_type": "code",
        "colab": {}
      },
      "source": [
        "#plt.style.use('dark_background')\n",
        "sns.set(style=\"whitegrid\")"
      ],
      "execution_count": 0,
      "outputs": []
    },
    {
      "cell_type": "code",
      "metadata": {
        "id": "XEzm_w_aWJa0",
        "colab_type": "code",
        "outputId": "8a99d973-aee8-4c6c-e619-c2d414b55d23",
        "colab": {
          "base_uri": "https://localhost:8080/",
          "height": 101
        }
      },
      "source": [
        "data.columns"
      ],
      "execution_count": 0,
      "outputs": [
        {
          "output_type": "execute_result",
          "data": {
            "text/plain": [
              "Index(['id', 'price', 'bedrooms', 'bathrooms', 'sqft_living', 'sqft_lot',\n",
              "       'floors', 'waterfront', 'view', 'condition', 'grade', 'sqft_above',\n",
              "       'sqft_basement', 'yr_built', 'yr_renovated', 'zipcode', 'lat', 'long',\n",
              "       'sqft_living15', 'sqft_lot15'],\n",
              "      dtype='object')"
            ]
          },
          "metadata": {
            "tags": []
          },
          "execution_count": 34
        }
      ]
    },
    {
      "cell_type": "code",
      "metadata": {
        "id": "FtCF7JAiUznK",
        "colab_type": "code",
        "outputId": "0d332ff7-9d8a-4efd-b0e7-2f54ac5e444d",
        "colab": {
          "base_uri": "https://localhost:8080/",
          "height": 34
        }
      },
      "source": [
        "#Create bounding box \n",
        "#This defines spatial extent of houses based in lat,long\n",
        "BBox = (data.long.min(),\n",
        "         data.long.max(),      \n",
        "         data.lat.min(),\n",
        "         data.lat.max())\n",
        "BBox"
      ],
      "execution_count": 0,
      "outputs": [
        {
          "output_type": "execute_result",
          "data": {
            "text/plain": [
              "(-122.51899999999999, -121.315, 47.1559, 47.7776)"
            ]
          },
          "metadata": {
            "tags": []
          },
          "execution_count": 35
        }
      ]
    },
    {
      "cell_type": "code",
      "metadata": {
        "id": "KwVC0m8uUzl_",
        "colab_type": "code",
        "outputId": "09c8c66c-510f-4ca4-dd8f-871edf96d33a",
        "colab": {
          "base_uri": "https://localhost:8080/",
          "height": 626
        }
      },
      "source": [
        "#Plot the points\n",
        "\n",
        "fig, ax = plt.subplots(figsize = (8,7)) ## Plot the x and Y to see areas that are underserved\n",
        "ax.scatter(data.long, data.lat, zorder=1, alpha= 0.2, c='b', s=10)\n",
        "ax.set_title('Plotting Spatial Distribution of Houses in the area')\n",
        "ax.set_xlim(BBox[0],BBox[1])\n",
        "ax.set_ylim(BBox[2],BBox[3])\n",
        "ax.imshow(X, zorder=0, extent = BBox, aspect= 'equal')"
      ],
      "execution_count": 0,
      "outputs": [
        {
          "output_type": "error",
          "ename": "NameError",
          "evalue": "ignored",
          "traceback": [
            "\u001b[0;31m---------------------------------------------------------------------------\u001b[0m",
            "\u001b[0;31mNameError\u001b[0m                                 Traceback (most recent call last)",
            "\u001b[0;32m<ipython-input-36-b54c11d3e1e8>\u001b[0m in \u001b[0;36m<module>\u001b[0;34m()\u001b[0m\n\u001b[1;32m      6\u001b[0m \u001b[0max\u001b[0m\u001b[0;34m.\u001b[0m\u001b[0mset_xlim\u001b[0m\u001b[0;34m(\u001b[0m\u001b[0mBBox\u001b[0m\u001b[0;34m[\u001b[0m\u001b[0;36m0\u001b[0m\u001b[0;34m]\u001b[0m\u001b[0;34m,\u001b[0m\u001b[0mBBox\u001b[0m\u001b[0;34m[\u001b[0m\u001b[0;36m1\u001b[0m\u001b[0;34m]\u001b[0m\u001b[0;34m)\u001b[0m\u001b[0;34m\u001b[0m\u001b[0;34m\u001b[0m\u001b[0m\n\u001b[1;32m      7\u001b[0m \u001b[0max\u001b[0m\u001b[0;34m.\u001b[0m\u001b[0mset_ylim\u001b[0m\u001b[0;34m(\u001b[0m\u001b[0mBBox\u001b[0m\u001b[0;34m[\u001b[0m\u001b[0;36m2\u001b[0m\u001b[0;34m]\u001b[0m\u001b[0;34m,\u001b[0m\u001b[0mBBox\u001b[0m\u001b[0;34m[\u001b[0m\u001b[0;36m3\u001b[0m\u001b[0;34m]\u001b[0m\u001b[0;34m)\u001b[0m\u001b[0;34m\u001b[0m\u001b[0;34m\u001b[0m\u001b[0m\n\u001b[0;32m----> 8\u001b[0;31m \u001b[0max\u001b[0m\u001b[0;34m.\u001b[0m\u001b[0mimshow\u001b[0m\u001b[0;34m(\u001b[0m\u001b[0mX\u001b[0m\u001b[0;34m,\u001b[0m \u001b[0mzorder\u001b[0m\u001b[0;34m=\u001b[0m\u001b[0;36m0\u001b[0m\u001b[0;34m,\u001b[0m \u001b[0mextent\u001b[0m \u001b[0;34m=\u001b[0m \u001b[0mBBox\u001b[0m\u001b[0;34m,\u001b[0m \u001b[0maspect\u001b[0m\u001b[0;34m=\u001b[0m \u001b[0;34m'equal'\u001b[0m\u001b[0;34m)\u001b[0m\u001b[0;34m\u001b[0m\u001b[0;34m\u001b[0m\u001b[0m\n\u001b[0m",
            "\u001b[0;31mNameError\u001b[0m: name 'X' is not defined"
          ]
        },
        {
          "output_type": "display_data",
          "data": {
            "image/png": "[encoded data removed]",
            "text/plain": [
              "<Figure size 576x504 with 1 Axes>"
            ]
          },
          "metadata": {
            "tags": []
          }
        }
      ]
    },
    {
      "cell_type": "markdown",
      "metadata": {
        "id": "Vd9Yo2zTY5Mb",
        "colab_type": "text"
      },
      "source": [
        "This helps us understand the spatial distribution of house. \n",
        "In theory, sparse distribution of houses could mean two things:\n",
        "1. Area lacks utilities and services thus not inviting development and therefore houses are cheap\n",
        "2. Area is a high end development area thus prices are relative high\n",
        "\n",
        "We can determine this by visualizing the distribution of houses based on price"
      ]
    },
    {
      "cell_type": "code",
      "metadata": {
        "id": "stNoK47EZcQQ",
        "colab_type": "code",
        "outputId": "8fc75da9-28f5-4738-be32-825e816d7007",
        "colab": {
          "base_uri": "https://localhost:8080/",
          "height": 930
        }
      },
      "source": [
        "# Select column to be used for visualisation\n",
        "variable = 'price'\n",
        "# Set range of the map , this will determine the size of the map\n",
        "vmin, vmax = 0, 50\n",
        "#Create figure and axes for matplotlib\n",
        "f, ax = plt.subplots(1, figsize=(30, 10))\n",
        "ax.axis('off')\n",
        "# Add title and set data sources\n",
        "ax.set_title('Distribution of houses by Price', fontdict={'fontsize': '25', 'fontweight' : '3'})\n",
        "#ax.annotate('colured by price', xy=(0.6, .05), xycoords='figure fraction', fontsize=12, color='#555555')\n",
        "sm = plt.cm.ScalarMappable(cmap='Blues', norm=plt.Normalize(vmin=vmin, vmax=vmax))\n",
        "f.colorbar(sm)\n",
        "sm.set_array([])\n",
        "data.plot(variable, cmap='Blues',linewidth=0.8 , ax=ax, edgecolor=0.1);\n",
        "plt.axis('equal')\n",
        "plt.show"
      ],
      "execution_count": 0,
      "outputs": [
        {
          "output_type": "error",
          "ename": "AttributeError",
          "evalue": "ignored",
          "traceback": [
            "\u001b[0;31m---------------------------------------------------------------------------\u001b[0m",
            "\u001b[0;31mAttributeError\u001b[0m                            Traceback (most recent call last)",
            "\u001b[0;32m<ipython-input-37-afb8677081bb>\u001b[0m in \u001b[0;36m<module>\u001b[0;34m()\u001b[0m\n\u001b[1;32m     12\u001b[0m \u001b[0mf\u001b[0m\u001b[0;34m.\u001b[0m\u001b[0mcolorbar\u001b[0m\u001b[0;34m(\u001b[0m\u001b[0msm\u001b[0m\u001b[0;34m)\u001b[0m\u001b[0;34m\u001b[0m\u001b[0;34m\u001b[0m\u001b[0m\n\u001b[1;32m     13\u001b[0m \u001b[0msm\u001b[0m\u001b[0;34m.\u001b[0m\u001b[0mset_array\u001b[0m\u001b[0;34m(\u001b[0m\u001b[0;34m[\u001b[0m\u001b[0;34m]\u001b[0m\u001b[0;34m)\u001b[0m\u001b[0;34m\u001b[0m\u001b[0;34m\u001b[0m\u001b[0m\n\u001b[0;32m---> 14\u001b[0;31m \u001b[0mdata\u001b[0m\u001b[0;34m.\u001b[0m\u001b[0mplot\u001b[0m\u001b[0;34m(\u001b[0m\u001b[0mvariable\u001b[0m\u001b[0;34m,\u001b[0m \u001b[0mcmap\u001b[0m\u001b[0;34m=\u001b[0m\u001b[0;34m'Blues'\u001b[0m\u001b[0;34m,\u001b[0m\u001b[0mlinewidth\u001b[0m\u001b[0;34m=\u001b[0m\u001b[0;36m0.8\u001b[0m \u001b[0;34m,\u001b[0m \u001b[0max\u001b[0m\u001b[0;34m=\u001b[0m\u001b[0max\u001b[0m\u001b[0;34m,\u001b[0m \u001b[0medgecolor\u001b[0m\u001b[0;34m=\u001b[0m\u001b[0;36m0.1\u001b[0m\u001b[0;34m)\u001b[0m\u001b[0;34m;\u001b[0m\u001b[0;34m\u001b[0m\u001b[0;34m\u001b[0m\u001b[0m\n\u001b[0m\u001b[1;32m     15\u001b[0m \u001b[0mplt\u001b[0m\u001b[0;34m.\u001b[0m\u001b[0maxis\u001b[0m\u001b[0;34m(\u001b[0m\u001b[0;34m'equal'\u001b[0m\u001b[0;34m)\u001b[0m\u001b[0;34m\u001b[0m\u001b[0;34m\u001b[0m\u001b[0m\n\u001b[1;32m     16\u001b[0m \u001b[0mplt\u001b[0m\u001b[0;34m.\u001b[0m\u001b[0mshow\u001b[0m\u001b[0;34m\u001b[0m\u001b[0;34m\u001b[0m\u001b[0m\n",
            "\u001b[0;32m/usr/local/lib/python3.6/dist-packages/pandas/plotting/_core.py\u001b[0m in \u001b[0;36m__call__\u001b[0;34m(self, *args, **kwargs)\u001b[0m\n\u001b[1;32m    845\u001b[0m                     \u001b[0mdata\u001b[0m\u001b[0;34m.\u001b[0m\u001b[0mcolumns\u001b[0m \u001b[0;34m=\u001b[0m \u001b[0mlabel_name\u001b[0m\u001b[0;34m\u001b[0m\u001b[0;34m\u001b[0m\u001b[0m\n\u001b[1;32m    846\u001b[0m \u001b[0;34m\u001b[0m\u001b[0m\n\u001b[0;32m--> 847\u001b[0;31m         \u001b[0;32mreturn\u001b[0m \u001b[0mplot_backend\u001b[0m\u001b[0;34m.\u001b[0m\u001b[0mplot\u001b[0m\u001b[0;34m(\u001b[0m\u001b[0mdata\u001b[0m\u001b[0;34m,\u001b[0m \u001b[0mkind\u001b[0m\u001b[0;34m=\u001b[0m\u001b[0mkind\u001b[0m\u001b[0;34m,\u001b[0m \u001b[0;34m**\u001b[0m\u001b[0mkwargs\u001b[0m\u001b[0;34m)\u001b[0m\u001b[0;34m\u001b[0m\u001b[0;34m\u001b[0m\u001b[0m\n\u001b[0m\u001b[1;32m    848\u001b[0m \u001b[0;34m\u001b[0m\u001b[0m\n\u001b[1;32m    849\u001b[0m     \u001b[0m__call__\u001b[0m\u001b[0;34m.\u001b[0m\u001b[0m__doc__\u001b[0m \u001b[0;34m=\u001b[0m \u001b[0m__doc__\u001b[0m\u001b[0;34m\u001b[0m\u001b[0;34m\u001b[0m\u001b[0m\n",
            "\u001b[0;32m/usr/local/lib/python3.6/dist-packages/pandas/plotting/_matplotlib/__init__.py\u001b[0m in \u001b[0;36mplot\u001b[0;34m(data, kind, **kwargs)\u001b[0m\n\u001b[1;32m     59\u001b[0m             \u001b[0mkwargs\u001b[0m\u001b[0;34m[\u001b[0m\u001b[0;34m\"ax\"\u001b[0m\u001b[0;34m]\u001b[0m \u001b[0;34m=\u001b[0m \u001b[0mgetattr\u001b[0m\u001b[0;34m(\u001b[0m\u001b[0max\u001b[0m\u001b[0;34m,\u001b[0m \u001b[0;34m\"left_ax\"\u001b[0m\u001b[0;34m,\u001b[0m \u001b[0max\u001b[0m\u001b[0;34m)\u001b[0m\u001b[0;34m\u001b[0m\u001b[0;34m\u001b[0m\u001b[0m\n\u001b[1;32m     60\u001b[0m     \u001b[0mplot_obj\u001b[0m \u001b[0;34m=\u001b[0m \u001b[0mPLOT_CLASSES\u001b[0m\u001b[0;34m[\u001b[0m\u001b[0mkind\u001b[0m\u001b[0;34m]\u001b[0m\u001b[0;34m(\u001b[0m\u001b[0mdata\u001b[0m\u001b[0;34m,\u001b[0m \u001b[0;34m**\u001b[0m\u001b[0mkwargs\u001b[0m\u001b[0;34m)\u001b[0m\u001b[0;34m\u001b[0m\u001b[0;34m\u001b[0m\u001b[0m\n\u001b[0;32m---> 61\u001b[0;31m     \u001b[0mplot_obj\u001b[0m\u001b[0;34m.\u001b[0m\u001b[0mgenerate\u001b[0m\u001b[0;34m(\u001b[0m\u001b[0;34m)\u001b[0m\u001b[0;34m\u001b[0m\u001b[0;34m\u001b[0m\u001b[0m\n\u001b[0m\u001b[1;32m     62\u001b[0m     \u001b[0mplot_obj\u001b[0m\u001b[0;34m.\u001b[0m\u001b[0mdraw\u001b[0m\u001b[0;34m(\u001b[0m\u001b[0;34m)\u001b[0m\u001b[0;34m\u001b[0m\u001b[0;34m\u001b[0m\u001b[0m\n\u001b[1;32m     63\u001b[0m     \u001b[0;32mreturn\u001b[0m \u001b[0mplot_obj\u001b[0m\u001b[0;34m.\u001b[0m\u001b[0mresult\u001b[0m\u001b[0;34m\u001b[0m\u001b[0;34m\u001b[0m\u001b[0m\n",
            "\u001b[0;32m/usr/local/lib/python3.6/dist-packages/pandas/plotting/_matplotlib/core.py\u001b[0m in \u001b[0;36mgenerate\u001b[0;34m(self)\u001b[0m\n\u001b[1;32m    261\u001b[0m         \u001b[0mself\u001b[0m\u001b[0;34m.\u001b[0m\u001b[0m_compute_plot_data\u001b[0m\u001b[0;34m(\u001b[0m\u001b[0;34m)\u001b[0m\u001b[0;34m\u001b[0m\u001b[0;34m\u001b[0m\u001b[0m\n\u001b[1;32m    262\u001b[0m         \u001b[0mself\u001b[0m\u001b[0;34m.\u001b[0m\u001b[0m_setup_subplots\u001b[0m\u001b[0;34m(\u001b[0m\u001b[0;34m)\u001b[0m\u001b[0;34m\u001b[0m\u001b[0;34m\u001b[0m\u001b[0m\n\u001b[0;32m--> 263\u001b[0;31m         \u001b[0mself\u001b[0m\u001b[0;34m.\u001b[0m\u001b[0m_make_plot\u001b[0m\u001b[0;34m(\u001b[0m\u001b[0;34m)\u001b[0m\u001b[0;34m\u001b[0m\u001b[0;34m\u001b[0m\u001b[0m\n\u001b[0m\u001b[1;32m    264\u001b[0m         \u001b[0mself\u001b[0m\u001b[0;34m.\u001b[0m\u001b[0m_add_table\u001b[0m\u001b[0;34m(\u001b[0m\u001b[0;34m)\u001b[0m\u001b[0;34m\u001b[0m\u001b[0;34m\u001b[0m\u001b[0m\n\u001b[1;32m    265\u001b[0m         \u001b[0mself\u001b[0m\u001b[0;34m.\u001b[0m\u001b[0m_make_legend\u001b[0m\u001b[0;34m(\u001b[0m\u001b[0;34m)\u001b[0m\u001b[0;34m\u001b[0m\u001b[0;34m\u001b[0m\u001b[0m\n",
            "\u001b[0;32m/usr/local/lib/python3.6/dist-packages/pandas/plotting/_matplotlib/core.py\u001b[0m in \u001b[0;36m_make_plot\u001b[0;34m(self)\u001b[0m\n\u001b[1;32m   1083\u001b[0m                 \u001b[0mstacking_id\u001b[0m\u001b[0;34m=\u001b[0m\u001b[0mstacking_id\u001b[0m\u001b[0;34m,\u001b[0m\u001b[0;34m\u001b[0m\u001b[0;34m\u001b[0m\u001b[0m\n\u001b[1;32m   1084\u001b[0m                 \u001b[0mis_errorbar\u001b[0m\u001b[0;34m=\u001b[0m\u001b[0mis_errorbar\u001b[0m\u001b[0;34m,\u001b[0m\u001b[0;34m\u001b[0m\u001b[0;34m\u001b[0m\u001b[0m\n\u001b[0;32m-> 1085\u001b[0;31m                 \u001b[0;34m**\u001b[0m\u001b[0mkwds\u001b[0m\u001b[0;34m,\u001b[0m\u001b[0;34m\u001b[0m\u001b[0;34m\u001b[0m\u001b[0m\n\u001b[0m\u001b[1;32m   1086\u001b[0m             )\n\u001b[1;32m   1087\u001b[0m             \u001b[0mself\u001b[0m\u001b[0;34m.\u001b[0m\u001b[0m_add_legend_handle\u001b[0m\u001b[0;34m(\u001b[0m\u001b[0mnewlines\u001b[0m\u001b[0;34m[\u001b[0m\u001b[0;36m0\u001b[0m\u001b[0;34m]\u001b[0m\u001b[0;34m,\u001b[0m \u001b[0mlabel\u001b[0m\u001b[0;34m,\u001b[0m \u001b[0mindex\u001b[0m\u001b[0;34m=\u001b[0m\u001b[0mi\u001b[0m\u001b[0;34m)\u001b[0m\u001b[0;34m\u001b[0m\u001b[0;34m\u001b[0m\u001b[0m\n",
            "\u001b[0;32m/usr/local/lib/python3.6/dist-packages/pandas/plotting/_matplotlib/core.py\u001b[0m in \u001b[0;36m_plot\u001b[0;34m(cls, ax, x, y, style, column_num, stacking_id, **kwds)\u001b[0m\n\u001b[1;32m   1102\u001b[0m             \u001b[0mcls\u001b[0m\u001b[0;34m.\u001b[0m\u001b[0m_initialize_stacker\u001b[0m\u001b[0;34m(\u001b[0m\u001b[0max\u001b[0m\u001b[0;34m,\u001b[0m \u001b[0mstacking_id\u001b[0m\u001b[0;34m,\u001b[0m \u001b[0mlen\u001b[0m\u001b[0;34m(\u001b[0m\u001b[0my\u001b[0m\u001b[0;34m)\u001b[0m\u001b[0;34m)\u001b[0m\u001b[0;34m\u001b[0m\u001b[0;34m\u001b[0m\u001b[0m\n\u001b[1;32m   1103\u001b[0m         \u001b[0my_values\u001b[0m \u001b[0;34m=\u001b[0m \u001b[0mcls\u001b[0m\u001b[0;34m.\u001b[0m\u001b[0m_get_stacked_values\u001b[0m\u001b[0;34m(\u001b[0m\u001b[0max\u001b[0m\u001b[0;34m,\u001b[0m \u001b[0mstacking_id\u001b[0m\u001b[0;34m,\u001b[0m \u001b[0my\u001b[0m\u001b[0;34m,\u001b[0m \u001b[0mkwds\u001b[0m\u001b[0;34m[\u001b[0m\u001b[0;34m\"label\"\u001b[0m\u001b[0;34m]\u001b[0m\u001b[0;34m)\u001b[0m\u001b[0;34m\u001b[0m\u001b[0;34m\u001b[0m\u001b[0m\n\u001b[0;32m-> 1104\u001b[0;31m         \u001b[0mlines\u001b[0m \u001b[0;34m=\u001b[0m \u001b[0mMPLPlot\u001b[0m\u001b[0;34m.\u001b[0m\u001b[0m_plot\u001b[0m\u001b[0;34m(\u001b[0m\u001b[0max\u001b[0m\u001b[0;34m,\u001b[0m \u001b[0mx\u001b[0m\u001b[0;34m,\u001b[0m \u001b[0my_values\u001b[0m\u001b[0;34m,\u001b[0m \u001b[0mstyle\u001b[0m\u001b[0;34m=\u001b[0m\u001b[0mstyle\u001b[0m\u001b[0;34m,\u001b[0m \u001b[0;34m**\u001b[0m\u001b[0mkwds\u001b[0m\u001b[0;34m)\u001b[0m\u001b[0;34m\u001b[0m\u001b[0;34m\u001b[0m\u001b[0m\n\u001b[0m\u001b[1;32m   1105\u001b[0m         \u001b[0mcls\u001b[0m\u001b[0;34m.\u001b[0m\u001b[0m_update_stacker\u001b[0m\u001b[0;34m(\u001b[0m\u001b[0max\u001b[0m\u001b[0;34m,\u001b[0m \u001b[0mstacking_id\u001b[0m\u001b[0;34m,\u001b[0m \u001b[0my\u001b[0m\u001b[0;34m)\u001b[0m\u001b[0;34m\u001b[0m\u001b[0;34m\u001b[0m\u001b[0m\n\u001b[1;32m   1106\u001b[0m         \u001b[0;32mreturn\u001b[0m \u001b[0mlines\u001b[0m\u001b[0;34m\u001b[0m\u001b[0;34m\u001b[0m\u001b[0m\n",
            "\u001b[0;32m/usr/local/lib/python3.6/dist-packages/pandas/plotting/_matplotlib/converter.py\u001b[0m in \u001b[0;36mwrapper\u001b[0;34m(*args, **kwargs)\u001b[0m\n\u001b[1;32m     64\u001b[0m     \u001b[0;32mdef\u001b[0m \u001b[0mwrapper\u001b[0m\u001b[0;34m(\u001b[0m\u001b[0;34m*\u001b[0m\u001b[0margs\u001b[0m\u001b[0;34m,\u001b[0m \u001b[0;34m**\u001b[0m\u001b[0mkwargs\u001b[0m\u001b[0;34m)\u001b[0m\u001b[0;34m:\u001b[0m\u001b[0;34m\u001b[0m\u001b[0;34m\u001b[0m\u001b[0m\n\u001b[1;32m     65\u001b[0m         \u001b[0;32mwith\u001b[0m \u001b[0mpandas_converters\u001b[0m\u001b[0;34m(\u001b[0m\u001b[0;34m)\u001b[0m\u001b[0;34m:\u001b[0m\u001b[0;34m\u001b[0m\u001b[0;34m\u001b[0m\u001b[0m\n\u001b[0;32m---> 66\u001b[0;31m             \u001b[0;32mreturn\u001b[0m \u001b[0mfunc\u001b[0m\u001b[0;34m(\u001b[0m\u001b[0;34m*\u001b[0m\u001b[0margs\u001b[0m\u001b[0;34m,\u001b[0m \u001b[0;34m**\u001b[0m\u001b[0mkwargs\u001b[0m\u001b[0;34m)\u001b[0m\u001b[0;34m\u001b[0m\u001b[0;34m\u001b[0m\u001b[0m\n\u001b[0m\u001b[1;32m     67\u001b[0m \u001b[0;34m\u001b[0m\u001b[0m\n\u001b[1;32m     68\u001b[0m     \u001b[0;32mreturn\u001b[0m \u001b[0mwrapper\u001b[0m\u001b[0;34m\u001b[0m\u001b[0;34m\u001b[0m\u001b[0m\n",
            "\u001b[0;32m/usr/local/lib/python3.6/dist-packages/pandas/plotting/_matplotlib/core.py\u001b[0m in \u001b[0;36m_plot\u001b[0;34m(cls, ax, x, y, style, is_errorbar, **kwds)\u001b[0m\n\u001b[1;32m    654\u001b[0m             \u001b[0;32melse\u001b[0m\u001b[0;34m:\u001b[0m\u001b[0;34m\u001b[0m\u001b[0;34m\u001b[0m\u001b[0m\n\u001b[1;32m    655\u001b[0m                 \u001b[0margs\u001b[0m \u001b[0;34m=\u001b[0m \u001b[0;34m(\u001b[0m\u001b[0mx\u001b[0m\u001b[0;34m,\u001b[0m \u001b[0my\u001b[0m\u001b[0;34m)\u001b[0m\u001b[0;34m\u001b[0m\u001b[0;34m\u001b[0m\u001b[0m\n\u001b[0;32m--> 656\u001b[0;31m             \u001b[0;32mreturn\u001b[0m \u001b[0max\u001b[0m\u001b[0;34m.\u001b[0m\u001b[0mplot\u001b[0m\u001b[0;34m(\u001b[0m\u001b[0;34m*\u001b[0m\u001b[0margs\u001b[0m\u001b[0;34m,\u001b[0m \u001b[0;34m**\u001b[0m\u001b[0mkwds\u001b[0m\u001b[0;34m)\u001b[0m\u001b[0;34m\u001b[0m\u001b[0;34m\u001b[0m\u001b[0m\n\u001b[0m\u001b[1;32m    657\u001b[0m \u001b[0;34m\u001b[0m\u001b[0m\n\u001b[1;32m    658\u001b[0m     \u001b[0;32mdef\u001b[0m \u001b[0m_get_index_name\u001b[0m\u001b[0;34m(\u001b[0m\u001b[0mself\u001b[0m\u001b[0;34m)\u001b[0m\u001b[0;34m:\u001b[0m\u001b[0;34m\u001b[0m\u001b[0;34m\u001b[0m\u001b[0m\n",
            "\u001b[0;32m/usr/local/lib/python3.6/dist-packages/matplotlib/axes/_axes.py\u001b[0m in \u001b[0;36mplot\u001b[0;34m(self, scalex, scaley, data, *args, **kwargs)\u001b[0m\n\u001b[1;32m   1644\u001b[0m         \"\"\"\n\u001b[1;32m   1645\u001b[0m         \u001b[0mkwargs\u001b[0m \u001b[0;34m=\u001b[0m \u001b[0mcbook\u001b[0m\u001b[0;34m.\u001b[0m\u001b[0mnormalize_kwargs\u001b[0m\u001b[0;34m(\u001b[0m\u001b[0mkwargs\u001b[0m\u001b[0;34m,\u001b[0m \u001b[0mmlines\u001b[0m\u001b[0;34m.\u001b[0m\u001b[0mLine2D\u001b[0m\u001b[0;34m)\u001b[0m\u001b[0;34m\u001b[0m\u001b[0;34m\u001b[0m\u001b[0m\n\u001b[0;32m-> 1646\u001b[0;31m         \u001b[0mlines\u001b[0m \u001b[0;34m=\u001b[0m \u001b[0;34m[\u001b[0m\u001b[0;34m*\u001b[0m\u001b[0mself\u001b[0m\u001b[0;34m.\u001b[0m\u001b[0m_get_lines\u001b[0m\u001b[0;34m(\u001b[0m\u001b[0;34m*\u001b[0m\u001b[0margs\u001b[0m\u001b[0;34m,\u001b[0m \u001b[0mdata\u001b[0m\u001b[0;34m=\u001b[0m\u001b[0mdata\u001b[0m\u001b[0;34m,\u001b[0m \u001b[0;34m**\u001b[0m\u001b[0mkwargs\u001b[0m\u001b[0;34m)\u001b[0m\u001b[0;34m]\u001b[0m\u001b[0;34m\u001b[0m\u001b[0;34m\u001b[0m\u001b[0m\n\u001b[0m\u001b[1;32m   1647\u001b[0m         \u001b[0;32mfor\u001b[0m \u001b[0mline\u001b[0m \u001b[0;32min\u001b[0m \u001b[0mlines\u001b[0m\u001b[0;34m:\u001b[0m\u001b[0;34m\u001b[0m\u001b[0;34m\u001b[0m\u001b[0m\n\u001b[1;32m   1648\u001b[0m             \u001b[0mself\u001b[0m\u001b[0;34m.\u001b[0m\u001b[0madd_line\u001b[0m\u001b[0;34m(\u001b[0m\u001b[0mline\u001b[0m\u001b[0;34m)\u001b[0m\u001b[0;34m\u001b[0m\u001b[0;34m\u001b[0m\u001b[0m\n",
            "\u001b[0;32m/usr/local/lib/python3.6/dist-packages/matplotlib/axes/_base.py\u001b[0m in \u001b[0;36m__call__\u001b[0;34m(self, *args, **kwargs)\u001b[0m\n\u001b[1;32m    214\u001b[0m                 \u001b[0mthis\u001b[0m \u001b[0;34m+=\u001b[0m \u001b[0margs\u001b[0m\u001b[0;34m[\u001b[0m\u001b[0;36m0\u001b[0m\u001b[0;34m]\u001b[0m\u001b[0;34m,\u001b[0m\u001b[0;34m\u001b[0m\u001b[0;34m\u001b[0m\u001b[0m\n\u001b[1;32m    215\u001b[0m                 \u001b[0margs\u001b[0m \u001b[0;34m=\u001b[0m \u001b[0margs\u001b[0m\u001b[0;34m[\u001b[0m\u001b[0;36m1\u001b[0m\u001b[0;34m:\u001b[0m\u001b[0;34m]\u001b[0m\u001b[0;34m\u001b[0m\u001b[0;34m\u001b[0m\u001b[0m\n\u001b[0;32m--> 216\u001b[0;31m             \u001b[0;32myield\u001b[0m \u001b[0;32mfrom\u001b[0m \u001b[0mself\u001b[0m\u001b[0;34m.\u001b[0m\u001b[0m_plot_args\u001b[0m\u001b[0;34m(\u001b[0m\u001b[0mthis\u001b[0m\u001b[0;34m,\u001b[0m \u001b[0mkwargs\u001b[0m\u001b[0;34m)\u001b[0m\u001b[0;34m\u001b[0m\u001b[0;34m\u001b[0m\u001b[0m\n\u001b[0m\u001b[1;32m    217\u001b[0m \u001b[0;34m\u001b[0m\u001b[0m\n\u001b[1;32m    218\u001b[0m     \u001b[0;32mdef\u001b[0m \u001b[0mget_next_color\u001b[0m\u001b[0;34m(\u001b[0m\u001b[0mself\u001b[0m\u001b[0;34m)\u001b[0m\u001b[0;34m:\u001b[0m\u001b[0;34m\u001b[0m\u001b[0;34m\u001b[0m\u001b[0m\n",
            "\u001b[0;32m/usr/local/lib/python3.6/dist-packages/matplotlib/axes/_base.py\u001b[0m in \u001b[0;36m_plot_args\u001b[0;34m(self, tup, kwargs)\u001b[0m\n\u001b[1;32m    362\u001b[0m                 \"non-matching shapes is deprecated.\")\n\u001b[1;32m    363\u001b[0m         return [func(x[:, j % ncx], y[:, j % ncy], kw, kwargs)\n\u001b[0;32m--> 364\u001b[0;31m                 for j in range(max(ncx, ncy))]\n\u001b[0m\u001b[1;32m    365\u001b[0m \u001b[0;34m\u001b[0m\u001b[0m\n\u001b[1;32m    366\u001b[0m \u001b[0;34m\u001b[0m\u001b[0m\n",
            "\u001b[0;32m/usr/local/lib/python3.6/dist-packages/matplotlib/axes/_base.py\u001b[0m in \u001b[0;36m<listcomp>\u001b[0;34m(.0)\u001b[0m\n\u001b[1;32m    362\u001b[0m                 \"non-matching shapes is deprecated.\")\n\u001b[1;32m    363\u001b[0m         return [func(x[:, j % ncx], y[:, j % ncy], kw, kwargs)\n\u001b[0;32m--> 364\u001b[0;31m                 for j in range(max(ncx, ncy))]\n\u001b[0m\u001b[1;32m    365\u001b[0m \u001b[0;34m\u001b[0m\u001b[0m\n\u001b[1;32m    366\u001b[0m \u001b[0;34m\u001b[0m\u001b[0m\n",
            "\u001b[0;32m/usr/local/lib/python3.6/dist-packages/matplotlib/axes/_base.py\u001b[0m in \u001b[0;36m_makeline\u001b[0;34m(self, x, y, kw, kwargs)\u001b[0m\n\u001b[1;32m    253\u001b[0m         \u001b[0mdefault_dict\u001b[0m \u001b[0;34m=\u001b[0m \u001b[0mself\u001b[0m\u001b[0;34m.\u001b[0m\u001b[0m_getdefaults\u001b[0m\u001b[0;34m(\u001b[0m\u001b[0mset\u001b[0m\u001b[0;34m(\u001b[0m\u001b[0;34m)\u001b[0m\u001b[0;34m,\u001b[0m \u001b[0mkw\u001b[0m\u001b[0;34m)\u001b[0m\u001b[0;34m\u001b[0m\u001b[0;34m\u001b[0m\u001b[0m\n\u001b[1;32m    254\u001b[0m         \u001b[0mself\u001b[0m\u001b[0;34m.\u001b[0m\u001b[0m_setdefaults\u001b[0m\u001b[0;34m(\u001b[0m\u001b[0mdefault_dict\u001b[0m\u001b[0;34m,\u001b[0m \u001b[0mkw\u001b[0m\u001b[0;34m)\u001b[0m\u001b[0;34m\u001b[0m\u001b[0;34m\u001b[0m\u001b[0m\n\u001b[0;32m--> 255\u001b[0;31m         \u001b[0mseg\u001b[0m \u001b[0;34m=\u001b[0m \u001b[0mmlines\u001b[0m\u001b[0;34m.\u001b[0m\u001b[0mLine2D\u001b[0m\u001b[0;34m(\u001b[0m\u001b[0mx\u001b[0m\u001b[0;34m,\u001b[0m \u001b[0my\u001b[0m\u001b[0;34m,\u001b[0m \u001b[0;34m**\u001b[0m\u001b[0mkw\u001b[0m\u001b[0;34m)\u001b[0m\u001b[0;34m\u001b[0m\u001b[0;34m\u001b[0m\u001b[0m\n\u001b[0m\u001b[1;32m    256\u001b[0m         \u001b[0;32mreturn\u001b[0m \u001b[0mseg\u001b[0m\u001b[0;34m\u001b[0m\u001b[0;34m\u001b[0m\u001b[0m\n\u001b[1;32m    257\u001b[0m \u001b[0;34m\u001b[0m\u001b[0m\n",
            "\u001b[0;32m/usr/local/lib/python3.6/dist-packages/matplotlib/lines.py\u001b[0m in \u001b[0;36m__init__\u001b[0;34m(self, xdata, ydata, linewidth, linestyle, color, marker, markersize, markeredgewidth, markeredgecolor, markerfacecolor, markerfacecoloralt, fillstyle, antialiased, dash_capstyle, solid_capstyle, dash_joinstyle, solid_joinstyle, pickradius, drawstyle, markevery, **kwargs)\u001b[0m\n\u001b[1;32m    398\u001b[0m         \u001b[0;31m# update kwargs before updating data to give the caller a\u001b[0m\u001b[0;34m\u001b[0m\u001b[0;34m\u001b[0m\u001b[0;34m\u001b[0m\u001b[0m\n\u001b[1;32m    399\u001b[0m         \u001b[0;31m# chance to init axes (and hence unit support)\u001b[0m\u001b[0;34m\u001b[0m\u001b[0;34m\u001b[0m\u001b[0;34m\u001b[0m\u001b[0m\n\u001b[0;32m--> 400\u001b[0;31m         \u001b[0mself\u001b[0m\u001b[0;34m.\u001b[0m\u001b[0mupdate\u001b[0m\u001b[0;34m(\u001b[0m\u001b[0mkwargs\u001b[0m\u001b[0;34m)\u001b[0m\u001b[0;34m\u001b[0m\u001b[0;34m\u001b[0m\u001b[0m\n\u001b[0m\u001b[1;32m    401\u001b[0m         \u001b[0mself\u001b[0m\u001b[0;34m.\u001b[0m\u001b[0mpickradius\u001b[0m \u001b[0;34m=\u001b[0m \u001b[0mpickradius\u001b[0m\u001b[0;34m\u001b[0m\u001b[0;34m\u001b[0m\u001b[0m\n\u001b[1;32m    402\u001b[0m         \u001b[0mself\u001b[0m\u001b[0;34m.\u001b[0m\u001b[0mind_offset\u001b[0m \u001b[0;34m=\u001b[0m \u001b[0;36m0\u001b[0m\u001b[0;34m\u001b[0m\u001b[0;34m\u001b[0m\u001b[0m\n",
            "\u001b[0;32m/usr/local/lib/python3.6/dist-packages/matplotlib/artist.py\u001b[0m in \u001b[0;36mupdate\u001b[0;34m(self, props)\u001b[0m\n\u001b[1;32m   1004\u001b[0m \u001b[0;34m\u001b[0m\u001b[0m\n\u001b[1;32m   1005\u001b[0m         \u001b[0;32mwith\u001b[0m \u001b[0mcbook\u001b[0m\u001b[0;34m.\u001b[0m\u001b[0m_setattr_cm\u001b[0m\u001b[0;34m(\u001b[0m\u001b[0mself\u001b[0m\u001b[0;34m,\u001b[0m \u001b[0meventson\u001b[0m\u001b[0;34m=\u001b[0m\u001b[0;32mFalse\u001b[0m\u001b[0;34m)\u001b[0m\u001b[0;34m:\u001b[0m\u001b[0;34m\u001b[0m\u001b[0;34m\u001b[0m\u001b[0m\n\u001b[0;32m-> 1006\u001b[0;31m             \u001b[0mret\u001b[0m \u001b[0;34m=\u001b[0m \u001b[0;34m[\u001b[0m\u001b[0m_update_property\u001b[0m\u001b[0;34m(\u001b[0m\u001b[0mself\u001b[0m\u001b[0;34m,\u001b[0m \u001b[0mk\u001b[0m\u001b[0;34m,\u001b[0m \u001b[0mv\u001b[0m\u001b[0;34m)\u001b[0m \u001b[0;32mfor\u001b[0m \u001b[0mk\u001b[0m\u001b[0;34m,\u001b[0m \u001b[0mv\u001b[0m \u001b[0;32min\u001b[0m \u001b[0mprops\u001b[0m\u001b[0;34m.\u001b[0m\u001b[0mitems\u001b[0m\u001b[0;34m(\u001b[0m\u001b[0;34m)\u001b[0m\u001b[0;34m]\u001b[0m\u001b[0;34m\u001b[0m\u001b[0;34m\u001b[0m\u001b[0m\n\u001b[0m\u001b[1;32m   1007\u001b[0m \u001b[0;34m\u001b[0m\u001b[0m\n\u001b[1;32m   1008\u001b[0m         \u001b[0;32mif\u001b[0m \u001b[0mlen\u001b[0m\u001b[0;34m(\u001b[0m\u001b[0mret\u001b[0m\u001b[0;34m)\u001b[0m\u001b[0;34m:\u001b[0m\u001b[0;34m\u001b[0m\u001b[0;34m\u001b[0m\u001b[0m\n",
            "\u001b[0;32m/usr/local/lib/python3.6/dist-packages/matplotlib/artist.py\u001b[0m in \u001b[0;36m<listcomp>\u001b[0;34m(.0)\u001b[0m\n\u001b[1;32m   1004\u001b[0m \u001b[0;34m\u001b[0m\u001b[0m\n\u001b[1;32m   1005\u001b[0m         \u001b[0;32mwith\u001b[0m \u001b[0mcbook\u001b[0m\u001b[0;34m.\u001b[0m\u001b[0m_setattr_cm\u001b[0m\u001b[0;34m(\u001b[0m\u001b[0mself\u001b[0m\u001b[0;34m,\u001b[0m \u001b[0meventson\u001b[0m\u001b[0;34m=\u001b[0m\u001b[0;32mFalse\u001b[0m\u001b[0;34m)\u001b[0m\u001b[0;34m:\u001b[0m\u001b[0;34m\u001b[0m\u001b[0;34m\u001b[0m\u001b[0m\n\u001b[0;32m-> 1006\u001b[0;31m             \u001b[0mret\u001b[0m \u001b[0;34m=\u001b[0m \u001b[0;34m[\u001b[0m\u001b[0m_update_property\u001b[0m\u001b[0;34m(\u001b[0m\u001b[0mself\u001b[0m\u001b[0;34m,\u001b[0m \u001b[0mk\u001b[0m\u001b[0;34m,\u001b[0m \u001b[0mv\u001b[0m\u001b[0;34m)\u001b[0m \u001b[0;32mfor\u001b[0m \u001b[0mk\u001b[0m\u001b[0;34m,\u001b[0m \u001b[0mv\u001b[0m \u001b[0;32min\u001b[0m \u001b[0mprops\u001b[0m\u001b[0;34m.\u001b[0m\u001b[0mitems\u001b[0m\u001b[0;34m(\u001b[0m\u001b[0;34m)\u001b[0m\u001b[0;34m]\u001b[0m\u001b[0;34m\u001b[0m\u001b[0;34m\u001b[0m\u001b[0m\n\u001b[0m\u001b[1;32m   1007\u001b[0m \u001b[0;34m\u001b[0m\u001b[0m\n\u001b[1;32m   1008\u001b[0m         \u001b[0;32mif\u001b[0m \u001b[0mlen\u001b[0m\u001b[0;34m(\u001b[0m\u001b[0mret\u001b[0m\u001b[0;34m)\u001b[0m\u001b[0;34m:\u001b[0m\u001b[0;34m\u001b[0m\u001b[0;34m\u001b[0m\u001b[0m\n",
            "\u001b[0;32m/usr/local/lib/python3.6/dist-packages/matplotlib/artist.py\u001b[0m in \u001b[0;36m_update_property\u001b[0;34m(self, k, v)\u001b[0m\n\u001b[1;32m   1000\u001b[0m                 \u001b[0;32mif\u001b[0m \u001b[0;32mnot\u001b[0m \u001b[0mcallable\u001b[0m\u001b[0;34m(\u001b[0m\u001b[0mfunc\u001b[0m\u001b[0;34m)\u001b[0m\u001b[0;34m:\u001b[0m\u001b[0;34m\u001b[0m\u001b[0;34m\u001b[0m\u001b[0m\n\u001b[1;32m   1001\u001b[0m                     raise AttributeError('{!r} object has no property {!r}'\n\u001b[0;32m-> 1002\u001b[0;31m                                          .format(type(self).__name__, k))\n\u001b[0m\u001b[1;32m   1003\u001b[0m                 \u001b[0;32mreturn\u001b[0m \u001b[0mfunc\u001b[0m\u001b[0;34m(\u001b[0m\u001b[0mv\u001b[0m\u001b[0;34m)\u001b[0m\u001b[0;34m\u001b[0m\u001b[0;34m\u001b[0m\u001b[0m\n\u001b[1;32m   1004\u001b[0m \u001b[0;34m\u001b[0m\u001b[0m\n",
            "\u001b[0;31mAttributeError\u001b[0m: 'Line2D' object has no property 'edgecolor'"
          ]
        },
        {
          "output_type": "display_data",
          "data": {
            "image/png": "[encoded data removed]",
            "text/plain": [
              "<Figure size 2160x720 with 2 Axes>"
            ]
          },
          "metadata": {
            "tags": []
          }
        }
      ]
    },
    {
      "cell_type": "code",
      "metadata": {
        "id": "X7kM5QkOjhj-",
        "colab_type": "code",
        "outputId": "29181ae5-9fb5-43eb-8073-26b4cb0f3ced",
        "colab": {
          "base_uri": "https://localhost:8080/",
          "height": 101
        }
      },
      "source": [
        "data.columns"
      ],
      "execution_count": 0,
      "outputs": [
        {
          "output_type": "execute_result",
          "data": {
            "text/plain": [
              "Index(['id', 'price', 'bedrooms', 'bathrooms', 'sqft_living', 'sqft_lot',\n",
              "       'floors', 'waterfront', 'view', 'condition', 'grade', 'sqft_above',\n",
              "       'sqft_basement', 'yr_built', 'yr_renovated', 'zipcode', 'lat', 'long',\n",
              "       'sqft_living15', 'sqft_lot15'],\n",
              "      dtype='object')"
            ]
          },
          "metadata": {
            "tags": []
          },
          "execution_count": 38
        }
      ]
    },
    {
      "cell_type": "code",
      "metadata": {
        "id": "ztMFAgRwkZ7m",
        "colab_type": "code",
        "outputId": "86f1db12-912c-463b-ad6b-7a9c4cc4f573",
        "colab": {
          "base_uri": "https://localhost:8080/",
          "height": 34
        }
      },
      "source": [
        "data['floors'].unique()"
      ],
      "execution_count": 0,
      "outputs": [
        {
          "output_type": "execute_result",
          "data": {
            "text/plain": [
              "array([1. , 2. , 1.5, 3. , 2.5, 3.5])"
            ]
          },
          "metadata": {
            "tags": []
          },
          "execution_count": 39
        }
      ]
    },
    {
      "cell_type": "code",
      "metadata": {
        "id": "O5BJynl0ffwt",
        "colab_type": "code",
        "outputId": "d2494a9c-cfa9-4600-89a1-03a48d54600d",
        "colab": {
          "base_uri": "https://localhost:8080/",
          "height": 398
        }
      },
      "source": [
        "#Pie chart of Price by Floors\n",
        "floors=data.groupby(['floors'])['price'].sum()\n",
        "print(floors)\n",
        "\n",
        "labels = ['1 Floor','1.5 Floors','2 Floors','2.5 Floors','3 floors','3.5 Floors']\n",
        "\n",
        "plt.pie(floors, labels = labels, shadow = False, startangle = 140)\n",
        "plt.axis('equal')\n",
        "plt.title('Pie Chart of House Prices by Number of Floors')\n",
        "plt.show()"
      ],
      "execution_count": 0,
      "outputs": [
        {
          "output_type": "stream",
          "text": [
            "floors\n",
            "1.0    4.722905e+09\n",
            "1.5    1.067776e+09\n",
            "2.0    5.348834e+09\n",
            "2.5    1.708244e+08\n",
            "3.0    3.571461e+08\n",
            "3.5    7.471500e+06\n",
            "Name: price, dtype: float64\n"
          ],
          "name": "stdout"
        },
        {
          "output_type": "display_data",
          "data": {
            "image/png": "[encoded data removed]",
            "text/plain": [
              "<Figure size 432x288 with 1 Axes>"
            ]
          },
          "metadata": {
            "tags": []
          }
        }
      ]
    },
    {
      "cell_type": "code",
      "metadata": {
        "id": "8YRcxKiQn2GC",
        "colab_type": "code",
        "outputId": "091cf784-4252-41a6-91c5-6cbfed314d7d",
        "colab": {
          "base_uri": "https://localhost:8080/",
          "height": 301
        }
      },
      "source": [
        "#PLot of prices\n",
        "plt.hist(data['price'],bins = 10, histtype='bar',rwidth=0.8)\n",
        "plt.xlabel('Prices')\n",
        "plt.ylabel('')\n",
        "plt.title('Plot of Prices')\n",
        "plt.show()"
      ],
      "execution_count": 0,
      "outputs": [
        {
          "output_type": "display_data",
          "data": {
            "image/png": "[encoded data removed]",
            "text/plain": [
              "<Figure size 432x288 with 1 Axes>"
            ]
          },
          "metadata": {
            "tags": []
          }
        }
      ]
    },
    {
      "cell_type": "code",
      "metadata": {
        "id": "H6isUQhPoJkr",
        "colab_type": "code",
        "outputId": "291b0a66-636f-4b02-c764-f2fd26fa20d8",
        "colab": {
          "base_uri": "https://localhost:8080/",
          "height": 659
        }
      },
      "source": [
        "#Find Correlations\n",
        "data.corr() "
      ],
      "execution_count": 0,
      "outputs": [
        {
          "output_type": "execute_result",
          "data": {
            "text/html": [
              "<div>\n",
              "<style scoped>\n",
              "    .dataframe tbody tr th:only-of-type {\n",
              "        vertical-align: middle;\n",
              "    }\n",
              "\n",
              "    .dataframe tbody tr th {\n",
              "        vertical-align: top;\n",
              "    }\n",
              "\n",
              "    .dataframe thead th {\n",
              "        text-align: right;\n",
              "    }\n",
              "</style>\n",
              "<table border=\"1\" class=\"dataframe\">\n",
              "  <thead>\n",
              "    <tr style=\"text-align: right;\">\n",
              "      <th></th>\n",
              "      <th>id</th>\n",
              "      <th>price</th>\n",
              "      <th>bedrooms</th>\n",
              "      <th>bathrooms</th>\n",
              "      <th>sqft_living</th>\n",
              "      <th>sqft_lot</th>\n",
              "      <th>floors</th>\n",
              "      <th>waterfront</th>\n",
              "      <th>view</th>\n",
              "      <th>condition</th>\n",
              "      <th>grade</th>\n",
              "      <th>sqft_above</th>\n",
              "      <th>sqft_basement</th>\n",
              "      <th>yr_built</th>\n",
              "      <th>yr_renovated</th>\n",
              "      <th>zipcode</th>\n",
              "      <th>lat</th>\n",
              "      <th>long</th>\n",
              "      <th>sqft_living15</th>\n",
              "      <th>sqft_lot15</th>\n",
              "    </tr>\n",
              "  </thead>\n",
              "  <tbody>\n",
              "    <tr>\n",
              "      <th>id</th>\n",
              "      <td>1.000000</td>\n",
              "      <td>-0.016797</td>\n",
              "      <td>0.001286</td>\n",
              "      <td>0.005160</td>\n",
              "      <td>-0.012258</td>\n",
              "      <td>-0.132109</td>\n",
              "      <td>0.018525</td>\n",
              "      <td>-0.002721</td>\n",
              "      <td>0.011592</td>\n",
              "      <td>-0.023783</td>\n",
              "      <td>0.008130</td>\n",
              "      <td>-0.010842</td>\n",
              "      <td>-0.005151</td>\n",
              "      <td>0.021380</td>\n",
              "      <td>-0.016907</td>\n",
              "      <td>-0.008224</td>\n",
              "      <td>-0.001891</td>\n",
              "      <td>0.020799</td>\n",
              "      <td>-0.002901</td>\n",
              "      <td>-0.138798</td>\n",
              "    </tr>\n",
              "    <tr>\n",
              "      <th>price</th>\n",
              "      <td>-0.016797</td>\n",
              "      <td>1.000000</td>\n",
              "      <td>0.308338</td>\n",
              "      <td>0.525134</td>\n",
              "      <td>0.702044</td>\n",
              "      <td>0.089655</td>\n",
              "      <td>0.256786</td>\n",
              "      <td>0.266331</td>\n",
              "      <td>0.397346</td>\n",
              "      <td>0.036392</td>\n",
              "      <td>0.667463</td>\n",
              "      <td>0.605566</td>\n",
              "      <td>0.323837</td>\n",
              "      <td>0.053982</td>\n",
              "      <td>0.126442</td>\n",
              "      <td>-0.053168</td>\n",
              "      <td>0.306919</td>\n",
              "      <td>0.021571</td>\n",
              "      <td>0.585374</td>\n",
              "      <td>0.082456</td>\n",
              "    </tr>\n",
              "    <tr>\n",
              "      <th>bedrooms</th>\n",
              "      <td>0.001286</td>\n",
              "      <td>0.308338</td>\n",
              "      <td>1.000000</td>\n",
              "      <td>0.515884</td>\n",
              "      <td>0.576671</td>\n",
              "      <td>0.031703</td>\n",
              "      <td>0.175429</td>\n",
              "      <td>-0.006582</td>\n",
              "      <td>0.079532</td>\n",
              "      <td>0.028472</td>\n",
              "      <td>0.356967</td>\n",
              "      <td>0.477600</td>\n",
              "      <td>0.303093</td>\n",
              "      <td>0.154178</td>\n",
              "      <td>0.018841</td>\n",
              "      <td>-0.152668</td>\n",
              "      <td>-0.008931</td>\n",
              "      <td>0.129473</td>\n",
              "      <td>0.391638</td>\n",
              "      <td>0.029244</td>\n",
              "    </tr>\n",
              "    <tr>\n",
              "      <th>bathrooms</th>\n",
              "      <td>0.005160</td>\n",
              "      <td>0.525134</td>\n",
              "      <td>0.515884</td>\n",
              "      <td>1.000000</td>\n",
              "      <td>0.754665</td>\n",
              "      <td>0.087740</td>\n",
              "      <td>0.500653</td>\n",
              "      <td>0.063744</td>\n",
              "      <td>0.187737</td>\n",
              "      <td>-0.124982</td>\n",
              "      <td>0.664983</td>\n",
              "      <td>0.685342</td>\n",
              "      <td>0.283770</td>\n",
              "      <td>0.506019</td>\n",
              "      <td>0.050739</td>\n",
              "      <td>-0.203866</td>\n",
              "      <td>0.024573</td>\n",
              "      <td>0.223042</td>\n",
              "      <td>0.568634</td>\n",
              "      <td>0.087175</td>\n",
              "    </tr>\n",
              "    <tr>\n",
              "      <th>sqft_living</th>\n",
              "      <td>-0.012258</td>\n",
              "      <td>0.702044</td>\n",
              "      <td>0.576671</td>\n",
              "      <td>0.754665</td>\n",
              "      <td>1.000000</td>\n",
              "      <td>0.172826</td>\n",
              "      <td>0.353949</td>\n",
              "      <td>0.103818</td>\n",
              "      <td>0.284611</td>\n",
              "      <td>-0.058753</td>\n",
              "      <td>0.762704</td>\n",
              "      <td>0.876597</td>\n",
              "      <td>0.435043</td>\n",
              "      <td>0.318049</td>\n",
              "      <td>0.055363</td>\n",
              "      <td>-0.199430</td>\n",
              "      <td>0.052529</td>\n",
              "      <td>0.240223</td>\n",
              "      <td>0.756420</td>\n",
              "      <td>0.183286</td>\n",
              "    </tr>\n",
              "    <tr>\n",
              "      <th>sqft_lot</th>\n",
              "      <td>-0.132109</td>\n",
              "      <td>0.089655</td>\n",
              "      <td>0.031703</td>\n",
              "      <td>0.087740</td>\n",
              "      <td>0.172826</td>\n",
              "      <td>1.000000</td>\n",
              "      <td>-0.005201</td>\n",
              "      <td>0.021604</td>\n",
              "      <td>0.074710</td>\n",
              "      <td>-0.008958</td>\n",
              "      <td>0.113621</td>\n",
              "      <td>0.183512</td>\n",
              "      <td>0.015286</td>\n",
              "      <td>0.053080</td>\n",
              "      <td>0.007644</td>\n",
              "      <td>-0.129574</td>\n",
              "      <td>-0.085683</td>\n",
              "      <td>0.229521</td>\n",
              "      <td>0.144608</td>\n",
              "      <td>0.718557</td>\n",
              "    </tr>\n",
              "    <tr>\n",
              "      <th>floors</th>\n",
              "      <td>0.018525</td>\n",
              "      <td>0.256786</td>\n",
              "      <td>0.175429</td>\n",
              "      <td>0.500653</td>\n",
              "      <td>0.353949</td>\n",
              "      <td>-0.005201</td>\n",
              "      <td>1.000000</td>\n",
              "      <td>0.023698</td>\n",
              "      <td>0.029444</td>\n",
              "      <td>-0.263768</td>\n",
              "      <td>0.458183</td>\n",
              "      <td>0.523885</td>\n",
              "      <td>-0.245705</td>\n",
              "      <td>0.489319</td>\n",
              "      <td>0.006338</td>\n",
              "      <td>-0.059121</td>\n",
              "      <td>0.049614</td>\n",
              "      <td>0.125419</td>\n",
              "      <td>0.279885</td>\n",
              "      <td>-0.011269</td>\n",
              "    </tr>\n",
              "    <tr>\n",
              "      <th>waterfront</th>\n",
              "      <td>-0.002721</td>\n",
              "      <td>0.266331</td>\n",
              "      <td>-0.006582</td>\n",
              "      <td>0.063744</td>\n",
              "      <td>0.103818</td>\n",
              "      <td>0.021604</td>\n",
              "      <td>0.023698</td>\n",
              "      <td>1.000000</td>\n",
              "      <td>0.401857</td>\n",
              "      <td>0.016653</td>\n",
              "      <td>0.082775</td>\n",
              "      <td>0.072075</td>\n",
              "      <td>0.080588</td>\n",
              "      <td>-0.026161</td>\n",
              "      <td>0.092885</td>\n",
              "      <td>0.030285</td>\n",
              "      <td>-0.014274</td>\n",
              "      <td>-0.041910</td>\n",
              "      <td>0.086463</td>\n",
              "      <td>0.030703</td>\n",
              "    </tr>\n",
              "    <tr>\n",
              "      <th>view</th>\n",
              "      <td>0.011592</td>\n",
              "      <td>0.397346</td>\n",
              "      <td>0.079532</td>\n",
              "      <td>0.187737</td>\n",
              "      <td>0.284611</td>\n",
              "      <td>0.074710</td>\n",
              "      <td>0.029444</td>\n",
              "      <td>0.401857</td>\n",
              "      <td>1.000000</td>\n",
              "      <td>0.045990</td>\n",
              "      <td>0.251321</td>\n",
              "      <td>0.167649</td>\n",
              "      <td>0.276947</td>\n",
              "      <td>-0.053440</td>\n",
              "      <td>0.103917</td>\n",
              "      <td>0.084827</td>\n",
              "      <td>0.006157</td>\n",
              "      <td>-0.078400</td>\n",
              "      <td>0.280439</td>\n",
              "      <td>0.072575</td>\n",
              "    </tr>\n",
              "    <tr>\n",
              "      <th>condition</th>\n",
              "      <td>-0.023783</td>\n",
              "      <td>0.036392</td>\n",
              "      <td>0.028472</td>\n",
              "      <td>-0.124982</td>\n",
              "      <td>-0.058753</td>\n",
              "      <td>-0.008958</td>\n",
              "      <td>-0.263768</td>\n",
              "      <td>0.016653</td>\n",
              "      <td>0.045990</td>\n",
              "      <td>1.000000</td>\n",
              "      <td>-0.144674</td>\n",
              "      <td>-0.158214</td>\n",
              "      <td>0.174105</td>\n",
              "      <td>-0.361417</td>\n",
              "      <td>-0.060618</td>\n",
              "      <td>0.003026</td>\n",
              "      <td>-0.014941</td>\n",
              "      <td>-0.106500</td>\n",
              "      <td>-0.092824</td>\n",
              "      <td>-0.003406</td>\n",
              "    </tr>\n",
              "    <tr>\n",
              "      <th>grade</th>\n",
              "      <td>0.008130</td>\n",
              "      <td>0.667463</td>\n",
              "      <td>0.356967</td>\n",
              "      <td>0.664983</td>\n",
              "      <td>0.762704</td>\n",
              "      <td>0.113621</td>\n",
              "      <td>0.458183</td>\n",
              "      <td>0.082775</td>\n",
              "      <td>0.251321</td>\n",
              "      <td>-0.144674</td>\n",
              "      <td>1.000000</td>\n",
              "      <td>0.755923</td>\n",
              "      <td>0.168392</td>\n",
              "      <td>0.446963</td>\n",
              "      <td>0.014414</td>\n",
              "      <td>-0.184862</td>\n",
              "      <td>0.114084</td>\n",
              "      <td>0.198372</td>\n",
              "      <td>0.713202</td>\n",
              "      <td>0.119248</td>\n",
              "    </tr>\n",
              "    <tr>\n",
              "      <th>sqft_above</th>\n",
              "      <td>-0.010842</td>\n",
              "      <td>0.605566</td>\n",
              "      <td>0.477600</td>\n",
              "      <td>0.685342</td>\n",
              "      <td>0.876597</td>\n",
              "      <td>0.183512</td>\n",
              "      <td>0.523885</td>\n",
              "      <td>0.072075</td>\n",
              "      <td>0.167649</td>\n",
              "      <td>-0.158214</td>\n",
              "      <td>0.755923</td>\n",
              "      <td>1.000000</td>\n",
              "      <td>-0.051943</td>\n",
              "      <td>0.423898</td>\n",
              "      <td>0.023285</td>\n",
              "      <td>-0.261190</td>\n",
              "      <td>-0.000816</td>\n",
              "      <td>0.343803</td>\n",
              "      <td>0.731870</td>\n",
              "      <td>0.194050</td>\n",
              "    </tr>\n",
              "    <tr>\n",
              "      <th>sqft_basement</th>\n",
              "      <td>-0.005151</td>\n",
              "      <td>0.323837</td>\n",
              "      <td>0.303093</td>\n",
              "      <td>0.283770</td>\n",
              "      <td>0.435043</td>\n",
              "      <td>0.015286</td>\n",
              "      <td>-0.245705</td>\n",
              "      <td>0.080588</td>\n",
              "      <td>0.276947</td>\n",
              "      <td>0.174105</td>\n",
              "      <td>0.168392</td>\n",
              "      <td>-0.051943</td>\n",
              "      <td>1.000000</td>\n",
              "      <td>-0.133124</td>\n",
              "      <td>0.071323</td>\n",
              "      <td>0.074845</td>\n",
              "      <td>0.110538</td>\n",
              "      <td>-0.144765</td>\n",
              "      <td>0.200355</td>\n",
              "      <td>0.017276</td>\n",
              "    </tr>\n",
              "    <tr>\n",
              "      <th>yr_built</th>\n",
              "      <td>0.021380</td>\n",
              "      <td>0.053982</td>\n",
              "      <td>0.154178</td>\n",
              "      <td>0.506019</td>\n",
              "      <td>0.318049</td>\n",
              "      <td>0.053080</td>\n",
              "      <td>0.489319</td>\n",
              "      <td>-0.026161</td>\n",
              "      <td>-0.053440</td>\n",
              "      <td>-0.361417</td>\n",
              "      <td>0.446963</td>\n",
              "      <td>0.423898</td>\n",
              "      <td>-0.133124</td>\n",
              "      <td>1.000000</td>\n",
              "      <td>-0.224874</td>\n",
              "      <td>-0.346869</td>\n",
              "      <td>-0.148122</td>\n",
              "      <td>0.409356</td>\n",
              "      <td>0.326229</td>\n",
              "      <td>0.070958</td>\n",
              "    </tr>\n",
              "    <tr>\n",
              "      <th>yr_renovated</th>\n",
              "      <td>-0.016907</td>\n",
              "      <td>0.126442</td>\n",
              "      <td>0.018841</td>\n",
              "      <td>0.050739</td>\n",
              "      <td>0.055363</td>\n",
              "      <td>0.007644</td>\n",
              "      <td>0.006338</td>\n",
              "      <td>0.092885</td>\n",
              "      <td>0.103917</td>\n",
              "      <td>-0.060618</td>\n",
              "      <td>0.014414</td>\n",
              "      <td>0.023285</td>\n",
              "      <td>0.071323</td>\n",
              "      <td>-0.224874</td>\n",
              "      <td>1.000000</td>\n",
              "      <td>0.064357</td>\n",
              "      <td>0.029398</td>\n",
              "      <td>-0.068372</td>\n",
              "      <td>-0.002673</td>\n",
              "      <td>0.007854</td>\n",
              "    </tr>\n",
              "    <tr>\n",
              "      <th>zipcode</th>\n",
              "      <td>-0.008224</td>\n",
              "      <td>-0.053168</td>\n",
              "      <td>-0.152668</td>\n",
              "      <td>-0.203866</td>\n",
              "      <td>-0.199430</td>\n",
              "      <td>-0.129574</td>\n",
              "      <td>-0.059121</td>\n",
              "      <td>0.030285</td>\n",
              "      <td>0.084827</td>\n",
              "      <td>0.003026</td>\n",
              "      <td>-0.184862</td>\n",
              "      <td>-0.261190</td>\n",
              "      <td>0.074845</td>\n",
              "      <td>-0.346869</td>\n",
              "      <td>0.064357</td>\n",
              "      <td>1.000000</td>\n",
              "      <td>0.267048</td>\n",
              "      <td>-0.564072</td>\n",
              "      <td>-0.279033</td>\n",
              "      <td>-0.147221</td>\n",
              "    </tr>\n",
              "    <tr>\n",
              "      <th>lat</th>\n",
              "      <td>-0.001891</td>\n",
              "      <td>0.306919</td>\n",
              "      <td>-0.008931</td>\n",
              "      <td>0.024573</td>\n",
              "      <td>0.052529</td>\n",
              "      <td>-0.085683</td>\n",
              "      <td>0.049614</td>\n",
              "      <td>-0.014274</td>\n",
              "      <td>0.006157</td>\n",
              "      <td>-0.014941</td>\n",
              "      <td>0.114084</td>\n",
              "      <td>-0.000816</td>\n",
              "      <td>0.110538</td>\n",
              "      <td>-0.148122</td>\n",
              "      <td>0.029398</td>\n",
              "      <td>0.267048</td>\n",
              "      <td>1.000000</td>\n",
              "      <td>-0.135512</td>\n",
              "      <td>0.048858</td>\n",
              "      <td>-0.086419</td>\n",
              "    </tr>\n",
              "    <tr>\n",
              "      <th>long</th>\n",
              "      <td>0.020799</td>\n",
              "      <td>0.021571</td>\n",
              "      <td>0.129473</td>\n",
              "      <td>0.223042</td>\n",
              "      <td>0.240223</td>\n",
              "      <td>0.229521</td>\n",
              "      <td>0.125419</td>\n",
              "      <td>-0.041910</td>\n",
              "      <td>-0.078400</td>\n",
              "      <td>-0.106500</td>\n",
              "      <td>0.198372</td>\n",
              "      <td>0.343803</td>\n",
              "      <td>-0.144765</td>\n",
              "      <td>0.409356</td>\n",
              "      <td>-0.068372</td>\n",
              "      <td>-0.564072</td>\n",
              "      <td>-0.135512</td>\n",
              "      <td>1.000000</td>\n",
              "      <td>0.334605</td>\n",
              "      <td>0.254451</td>\n",
              "    </tr>\n",
              "    <tr>\n",
              "      <th>sqft_living15</th>\n",
              "      <td>-0.002901</td>\n",
              "      <td>0.585374</td>\n",
              "      <td>0.391638</td>\n",
              "      <td>0.568634</td>\n",
              "      <td>0.756420</td>\n",
              "      <td>0.144608</td>\n",
              "      <td>0.279885</td>\n",
              "      <td>0.086463</td>\n",
              "      <td>0.280439</td>\n",
              "      <td>-0.092824</td>\n",
              "      <td>0.713202</td>\n",
              "      <td>0.731870</td>\n",
              "      <td>0.200355</td>\n",
              "      <td>0.326229</td>\n",
              "      <td>-0.002673</td>\n",
              "      <td>-0.279033</td>\n",
              "      <td>0.048858</td>\n",
              "      <td>0.334605</td>\n",
              "      <td>1.000000</td>\n",
              "      <td>0.183192</td>\n",
              "    </tr>\n",
              "    <tr>\n",
              "      <th>sqft_lot15</th>\n",
              "      <td>-0.138798</td>\n",
              "      <td>0.082456</td>\n",
              "      <td>0.029244</td>\n",
              "      <td>0.087175</td>\n",
              "      <td>0.183286</td>\n",
              "      <td>0.718557</td>\n",
              "      <td>-0.011269</td>\n",
              "      <td>0.030703</td>\n",
              "      <td>0.072575</td>\n",
              "      <td>-0.003406</td>\n",
              "      <td>0.119248</td>\n",
              "      <td>0.194050</td>\n",
              "      <td>0.017276</td>\n",
              "      <td>0.070958</td>\n",
              "      <td>0.007854</td>\n",
              "      <td>-0.147221</td>\n",
              "      <td>-0.086419</td>\n",
              "      <td>0.254451</td>\n",
              "      <td>0.183192</td>\n",
              "      <td>1.000000</td>\n",
              "    </tr>\n",
              "  </tbody>\n",
              "</table>\n",
              "</div>"
            ],
            "text/plain": [
              "                     id     price  ...  sqft_living15  sqft_lot15\n",
              "id             1.000000 -0.016797  ...      -0.002901   -0.138798\n",
              "price         -0.016797  1.000000  ...       0.585374    0.082456\n",
              "bedrooms       0.001286  0.308338  ...       0.391638    0.029244\n",
              "bathrooms      0.005160  0.525134  ...       0.568634    0.087175\n",
              "sqft_living   -0.012258  0.702044  ...       0.756420    0.183286\n",
              "sqft_lot      -0.132109  0.089655  ...       0.144608    0.718557\n",
              "floors         0.018525  0.256786  ...       0.279885   -0.011269\n",
              "waterfront    -0.002721  0.266331  ...       0.086463    0.030703\n",
              "view           0.011592  0.397346  ...       0.280439    0.072575\n",
              "condition     -0.023783  0.036392  ...      -0.092824   -0.003406\n",
              "grade          0.008130  0.667463  ...       0.713202    0.119248\n",
              "sqft_above    -0.010842  0.605566  ...       0.731870    0.194050\n",
              "sqft_basement -0.005151  0.323837  ...       0.200355    0.017276\n",
              "yr_built       0.021380  0.053982  ...       0.326229    0.070958\n",
              "yr_renovated  -0.016907  0.126442  ...      -0.002673    0.007854\n",
              "zipcode       -0.008224 -0.053168  ...      -0.279033   -0.147221\n",
              "lat           -0.001891  0.306919  ...       0.048858   -0.086419\n",
              "long           0.020799  0.021571  ...       0.334605    0.254451\n",
              "sqft_living15 -0.002901  0.585374  ...       1.000000    0.183192\n",
              "sqft_lot15    -0.138798  0.082456  ...       0.183192    1.000000\n",
              "\n",
              "[20 rows x 20 columns]"
            ]
          },
          "metadata": {
            "tags": []
          },
          "execution_count": 42
        }
      ]
    },
    {
      "cell_type": "code",
      "metadata": {
        "id": "w4p5qFXYoVB3",
        "colab_type": "code",
        "outputId": "6eaa90c6-efa3-4042-80ad-bcf837eca451",
        "colab": {
          "base_uri": "https://localhost:8080/",
          "height": 578
        }
      },
      "source": [
        "# Correlation Matrix\n",
        "f, ax = plt.subplots(figsize=(10,8))\n",
        "corr = data.corr()\n",
        "sns.heatmap(corr,\\\n",
        "           xticklabels=corr.columns.values,\\\n",
        "           yticklabels=corr.columns.values)"
      ],
      "execution_count": 0,
      "outputs": [
        {
          "output_type": "execute_result",
          "data": {
            "text/plain": [
              "<matplotlib.axes._subplots.AxesSubplot at 0x7f375f864860>"
            ]
          },
          "metadata": {
            "tags": []
          },
          "execution_count": 43
        },
        {
          "output_type": "display_data",
          "data": {
            "image/png": "[encoded data removed]",
            "text/plain": [
              "<Figure size 720x576 with 2 Axes>"
            ]
          },
          "metadata": {
            "tags": []
          }
        }
      ]
    },
    {
      "cell_type": "markdown",
      "metadata": {
        "id": "HT0XBZHcCd9e",
        "colab_type": "text"
      },
      "source": [
        "#Regression Analysis\n",
        "\n",
        "Incorporating categorical independent variables into the model\n",
        "\n",
        "Check Multicollinearity"
      ]
    },
    {
      "cell_type": "markdown",
      "metadata": {
        "id": "1J8Qs7thDSZA",
        "colab_type": "text"
      },
      "source": [
        "Provide observations and recommendations on the suitability of each tested model\n"
      ]
    },
    {
      "cell_type": "markdown",
      "metadata": {
        "id": "o0CTzCGjD992",
        "colab_type": "text"
      },
      "source": [
        "1. Multiple Linear Regression"
      ]
    },
    {
      "cell_type": "code",
      "metadata": {
        "id": "a9FzvulNsL6x",
        "colab_type": "code",
        "outputId": "0d686959-721f-484b-b1fd-454a50ce896c",
        "colab": {
          "base_uri": "https://localhost:8080/",
          "height": 215
        }
      },
      "source": [
        "#Preview dataset\n",
        "data.head()"
      ],
      "execution_count": 0,
      "outputs": [
        {
          "output_type": "execute_result",
          "data": {
            "text/html": [
              "<div>\n",
              "<style scoped>\n",
              "    .dataframe tbody tr th:only-of-type {\n",
              "        vertical-align: middle;\n",
              "    }\n",
              "\n",
              "    .dataframe tbody tr th {\n",
              "        vertical-align: top;\n",
              "    }\n",
              "\n",
              "    .dataframe thead th {\n",
              "        text-align: right;\n",
              "    }\n",
              "</style>\n",
              "<table border=\"1\" class=\"dataframe\">\n",
              "  <thead>\n",
              "    <tr style=\"text-align: right;\">\n",
              "      <th></th>\n",
              "      <th>id</th>\n",
              "      <th>price</th>\n",
              "      <th>bedrooms</th>\n",
              "      <th>bathrooms</th>\n",
              "      <th>sqft_living</th>\n",
              "      <th>sqft_lot</th>\n",
              "      <th>floors</th>\n",
              "      <th>waterfront</th>\n",
              "      <th>view</th>\n",
              "      <th>condition</th>\n",
              "      <th>grade</th>\n",
              "      <th>sqft_above</th>\n",
              "      <th>sqft_basement</th>\n",
              "      <th>yr_built</th>\n",
              "      <th>yr_renovated</th>\n",
              "      <th>zipcode</th>\n",
              "      <th>lat</th>\n",
              "      <th>long</th>\n",
              "      <th>sqft_living15</th>\n",
              "      <th>sqft_lot15</th>\n",
              "    </tr>\n",
              "  </thead>\n",
              "  <tbody>\n",
              "    <tr>\n",
              "      <th>0</th>\n",
              "      <td>7129300520</td>\n",
              "      <td>221900.0</td>\n",
              "      <td>3</td>\n",
              "      <td>1.00</td>\n",
              "      <td>1180</td>\n",
              "      <td>5650</td>\n",
              "      <td>1.0</td>\n",
              "      <td>0</td>\n",
              "      <td>0</td>\n",
              "      <td>3</td>\n",
              "      <td>7</td>\n",
              "      <td>1180</td>\n",
              "      <td>0</td>\n",
              "      <td>1955</td>\n",
              "      <td>0</td>\n",
              "      <td>98178</td>\n",
              "      <td>47.5112</td>\n",
              "      <td>-122.257</td>\n",
              "      <td>1340</td>\n",
              "      <td>5650</td>\n",
              "    </tr>\n",
              "    <tr>\n",
              "      <th>1</th>\n",
              "      <td>6414100192</td>\n",
              "      <td>538000.0</td>\n",
              "      <td>3</td>\n",
              "      <td>2.25</td>\n",
              "      <td>2570</td>\n",
              "      <td>7242</td>\n",
              "      <td>2.0</td>\n",
              "      <td>0</td>\n",
              "      <td>0</td>\n",
              "      <td>3</td>\n",
              "      <td>7</td>\n",
              "      <td>2170</td>\n",
              "      <td>400</td>\n",
              "      <td>1951</td>\n",
              "      <td>1991</td>\n",
              "      <td>98125</td>\n",
              "      <td>47.7210</td>\n",
              "      <td>-122.319</td>\n",
              "      <td>1690</td>\n",
              "      <td>7639</td>\n",
              "    </tr>\n",
              "    <tr>\n",
              "      <th>2</th>\n",
              "      <td>5631500400</td>\n",
              "      <td>180000.0</td>\n",
              "      <td>2</td>\n",
              "      <td>1.00</td>\n",
              "      <td>770</td>\n",
              "      <td>10000</td>\n",
              "      <td>1.0</td>\n",
              "      <td>0</td>\n",
              "      <td>0</td>\n",
              "      <td>3</td>\n",
              "      <td>6</td>\n",
              "      <td>770</td>\n",
              "      <td>0</td>\n",
              "      <td>1933</td>\n",
              "      <td>0</td>\n",
              "      <td>98028</td>\n",
              "      <td>47.7379</td>\n",
              "      <td>-122.233</td>\n",
              "      <td>2720</td>\n",
              "      <td>8062</td>\n",
              "    </tr>\n",
              "    <tr>\n",
              "      <th>3</th>\n",
              "      <td>2487200875</td>\n",
              "      <td>604000.0</td>\n",
              "      <td>4</td>\n",
              "      <td>3.00</td>\n",
              "      <td>1960</td>\n",
              "      <td>5000</td>\n",
              "      <td>1.0</td>\n",
              "      <td>0</td>\n",
              "      <td>0</td>\n",
              "      <td>5</td>\n",
              "      <td>7</td>\n",
              "      <td>1050</td>\n",
              "      <td>910</td>\n",
              "      <td>1965</td>\n",
              "      <td>0</td>\n",
              "      <td>98136</td>\n",
              "      <td>47.5208</td>\n",
              "      <td>-122.393</td>\n",
              "      <td>1360</td>\n",
              "      <td>5000</td>\n",
              "    </tr>\n",
              "    <tr>\n",
              "      <th>4</th>\n",
              "      <td>1954400510</td>\n",
              "      <td>510000.0</td>\n",
              "      <td>3</td>\n",
              "      <td>2.00</td>\n",
              "      <td>1680</td>\n",
              "      <td>8080</td>\n",
              "      <td>1.0</td>\n",
              "      <td>0</td>\n",
              "      <td>0</td>\n",
              "      <td>3</td>\n",
              "      <td>8</td>\n",
              "      <td>1680</td>\n",
              "      <td>0</td>\n",
              "      <td>1987</td>\n",
              "      <td>0</td>\n",
              "      <td>98074</td>\n",
              "      <td>47.6168</td>\n",
              "      <td>-122.045</td>\n",
              "      <td>1800</td>\n",
              "      <td>7503</td>\n",
              "    </tr>\n",
              "  </tbody>\n",
              "</table>\n",
              "</div>"
            ],
            "text/plain": [
              "           id     price  bedrooms  ...     long  sqft_living15  sqft_lot15\n",
              "0  7129300520  221900.0         3  ... -122.257           1340        5650\n",
              "1  6414100192  538000.0         3  ... -122.319           1690        7639\n",
              "2  5631500400  180000.0         2  ... -122.233           2720        8062\n",
              "3  2487200875  604000.0         4  ... -122.393           1360        5000\n",
              "4  1954400510  510000.0         3  ... -122.045           1800        7503\n",
              "\n",
              "[5 rows x 20 columns]"
            ]
          },
          "metadata": {
            "tags": []
          },
          "execution_count": 44
        }
      ]
    },
    {
      "cell_type": "code",
      "metadata": {
        "id": "ZwiUJyCKz9F0",
        "colab_type": "code",
        "outputId": "12eb0578-dc79-4fdf-cbed-6cecd1a6ab13",
        "colab": {
          "base_uri": "https://localhost:8080/",
          "height": 304
        }
      },
      "source": [
        "#Preview Statistical details\n",
        "data.describe()"
      ],
      "execution_count": 0,
      "outputs": [
        {
          "output_type": "execute_result",
          "data": {
            "text/html": [
              "<div>\n",
              "<style scoped>\n",
              "    .dataframe tbody tr th:only-of-type {\n",
              "        vertical-align: middle;\n",
              "    }\n",
              "\n",
              "    .dataframe tbody tr th {\n",
              "        vertical-align: top;\n",
              "    }\n",
              "\n",
              "    .dataframe thead th {\n",
              "        text-align: right;\n",
              "    }\n",
              "</style>\n",
              "<table border=\"1\" class=\"dataframe\">\n",
              "  <thead>\n",
              "    <tr style=\"text-align: right;\">\n",
              "      <th></th>\n",
              "      <th>id</th>\n",
              "      <th>price</th>\n",
              "      <th>bedrooms</th>\n",
              "      <th>bathrooms</th>\n",
              "      <th>sqft_living</th>\n",
              "      <th>sqft_lot</th>\n",
              "      <th>floors</th>\n",
              "      <th>waterfront</th>\n",
              "      <th>view</th>\n",
              "      <th>condition</th>\n",
              "      <th>grade</th>\n",
              "      <th>sqft_above</th>\n",
              "      <th>sqft_basement</th>\n",
              "      <th>yr_built</th>\n",
              "      <th>yr_renovated</th>\n",
              "      <th>zipcode</th>\n",
              "      <th>lat</th>\n",
              "      <th>long</th>\n",
              "      <th>sqft_living15</th>\n",
              "      <th>sqft_lot15</th>\n",
              "    </tr>\n",
              "  </thead>\n",
              "  <tbody>\n",
              "    <tr>\n",
              "      <th>count</th>\n",
              "      <td>2.161300e+04</td>\n",
              "      <td>2.161300e+04</td>\n",
              "      <td>21613.000000</td>\n",
              "      <td>21613.000000</td>\n",
              "      <td>21613.000000</td>\n",
              "      <td>2.161300e+04</td>\n",
              "      <td>21613.000000</td>\n",
              "      <td>21613.000000</td>\n",
              "      <td>21613.000000</td>\n",
              "      <td>21613.000000</td>\n",
              "      <td>21613.000000</td>\n",
              "      <td>21613.000000</td>\n",
              "      <td>21613.000000</td>\n",
              "      <td>21613.000000</td>\n",
              "      <td>21613.000000</td>\n",
              "      <td>21613.000000</td>\n",
              "      <td>21613.000000</td>\n",
              "      <td>21613.000000</td>\n",
              "      <td>21613.000000</td>\n",
              "      <td>21613.000000</td>\n",
              "    </tr>\n",
              "    <tr>\n",
              "      <th>mean</th>\n",
              "      <td>4.580302e+09</td>\n",
              "      <td>5.401822e+05</td>\n",
              "      <td>3.370842</td>\n",
              "      <td>2.114757</td>\n",
              "      <td>2079.899736</td>\n",
              "      <td>1.510697e+04</td>\n",
              "      <td>1.494309</td>\n",
              "      <td>0.007542</td>\n",
              "      <td>0.234303</td>\n",
              "      <td>3.409430</td>\n",
              "      <td>7.656873</td>\n",
              "      <td>1788.390691</td>\n",
              "      <td>291.509045</td>\n",
              "      <td>1971.005136</td>\n",
              "      <td>84.402258</td>\n",
              "      <td>98077.939805</td>\n",
              "      <td>47.560053</td>\n",
              "      <td>-122.213896</td>\n",
              "      <td>1986.552492</td>\n",
              "      <td>12768.455652</td>\n",
              "    </tr>\n",
              "    <tr>\n",
              "      <th>std</th>\n",
              "      <td>2.876566e+09</td>\n",
              "      <td>3.673622e+05</td>\n",
              "      <td>0.930062</td>\n",
              "      <td>0.770163</td>\n",
              "      <td>918.440897</td>\n",
              "      <td>4.142051e+04</td>\n",
              "      <td>0.539989</td>\n",
              "      <td>0.086517</td>\n",
              "      <td>0.766318</td>\n",
              "      <td>0.650743</td>\n",
              "      <td>1.175459</td>\n",
              "      <td>828.090978</td>\n",
              "      <td>442.575043</td>\n",
              "      <td>29.373411</td>\n",
              "      <td>401.679240</td>\n",
              "      <td>53.505026</td>\n",
              "      <td>0.138564</td>\n",
              "      <td>0.140828</td>\n",
              "      <td>685.391304</td>\n",
              "      <td>27304.179631</td>\n",
              "    </tr>\n",
              "    <tr>\n",
              "      <th>min</th>\n",
              "      <td>1.000102e+06</td>\n",
              "      <td>7.500000e+04</td>\n",
              "      <td>0.000000</td>\n",
              "      <td>0.000000</td>\n",
              "      <td>290.000000</td>\n",
              "      <td>5.200000e+02</td>\n",
              "      <td>1.000000</td>\n",
              "      <td>0.000000</td>\n",
              "      <td>0.000000</td>\n",
              "      <td>1.000000</td>\n",
              "      <td>1.000000</td>\n",
              "      <td>290.000000</td>\n",
              "      <td>0.000000</td>\n",
              "      <td>1900.000000</td>\n",
              "      <td>0.000000</td>\n",
              "      <td>98001.000000</td>\n",
              "      <td>47.155900</td>\n",
              "      <td>-122.519000</td>\n",
              "      <td>399.000000</td>\n",
              "      <td>651.000000</td>\n",
              "    </tr>\n",
              "    <tr>\n",
              "      <th>25%</th>\n",
              "      <td>2.123049e+09</td>\n",
              "      <td>3.219500e+05</td>\n",
              "      <td>3.000000</td>\n",
              "      <td>1.750000</td>\n",
              "      <td>1427.000000</td>\n",
              "      <td>5.040000e+03</td>\n",
              "      <td>1.000000</td>\n",
              "      <td>0.000000</td>\n",
              "      <td>0.000000</td>\n",
              "      <td>3.000000</td>\n",
              "      <td>7.000000</td>\n",
              "      <td>1190.000000</td>\n",
              "      <td>0.000000</td>\n",
              "      <td>1951.000000</td>\n",
              "      <td>0.000000</td>\n",
              "      <td>98033.000000</td>\n",
              "      <td>47.471000</td>\n",
              "      <td>-122.328000</td>\n",
              "      <td>1490.000000</td>\n",
              "      <td>5100.000000</td>\n",
              "    </tr>\n",
              "    <tr>\n",
              "      <th>50%</th>\n",
              "      <td>3.904930e+09</td>\n",
              "      <td>4.500000e+05</td>\n",
              "      <td>3.000000</td>\n",
              "      <td>2.250000</td>\n",
              "      <td>1910.000000</td>\n",
              "      <td>7.618000e+03</td>\n",
              "      <td>1.500000</td>\n",
              "      <td>0.000000</td>\n",
              "      <td>0.000000</td>\n",
              "      <td>3.000000</td>\n",
              "      <td>7.000000</td>\n",
              "      <td>1560.000000</td>\n",
              "      <td>0.000000</td>\n",
              "      <td>1975.000000</td>\n",
              "      <td>0.000000</td>\n",
              "      <td>98065.000000</td>\n",
              "      <td>47.571800</td>\n",
              "      <td>-122.230000</td>\n",
              "      <td>1840.000000</td>\n",
              "      <td>7620.000000</td>\n",
              "    </tr>\n",
              "    <tr>\n",
              "      <th>75%</th>\n",
              "      <td>7.308900e+09</td>\n",
              "      <td>6.450000e+05</td>\n",
              "      <td>4.000000</td>\n",
              "      <td>2.500000</td>\n",
              "      <td>2550.000000</td>\n",
              "      <td>1.068800e+04</td>\n",
              "      <td>2.000000</td>\n",
              "      <td>0.000000</td>\n",
              "      <td>0.000000</td>\n",
              "      <td>4.000000</td>\n",
              "      <td>8.000000</td>\n",
              "      <td>2210.000000</td>\n",
              "      <td>560.000000</td>\n",
              "      <td>1997.000000</td>\n",
              "      <td>0.000000</td>\n",
              "      <td>98118.000000</td>\n",
              "      <td>47.678000</td>\n",
              "      <td>-122.125000</td>\n",
              "      <td>2360.000000</td>\n",
              "      <td>10083.000000</td>\n",
              "    </tr>\n",
              "    <tr>\n",
              "      <th>max</th>\n",
              "      <td>9.900000e+09</td>\n",
              "      <td>7.700000e+06</td>\n",
              "      <td>33.000000</td>\n",
              "      <td>8.000000</td>\n",
              "      <td>13540.000000</td>\n",
              "      <td>1.651359e+06</td>\n",
              "      <td>3.500000</td>\n",
              "      <td>1.000000</td>\n",
              "      <td>4.000000</td>\n",
              "      <td>5.000000</td>\n",
              "      <td>13.000000</td>\n",
              "      <td>9410.000000</td>\n",
              "      <td>4820.000000</td>\n",
              "      <td>2015.000000</td>\n",
              "      <td>2015.000000</td>\n",
              "      <td>98199.000000</td>\n",
              "      <td>47.777600</td>\n",
              "      <td>-121.315000</td>\n",
              "      <td>6210.000000</td>\n",
              "      <td>871200.000000</td>\n",
              "    </tr>\n",
              "  </tbody>\n",
              "</table>\n",
              "</div>"
            ],
            "text/plain": [
              "                 id         price  ...  sqft_living15     sqft_lot15\n",
              "count  2.161300e+04  2.161300e+04  ...   21613.000000   21613.000000\n",
              "mean   4.580302e+09  5.401822e+05  ...    1986.552492   12768.455652\n",
              "std    2.876566e+09  3.673622e+05  ...     685.391304   27304.179631\n",
              "min    1.000102e+06  7.500000e+04  ...     399.000000     651.000000\n",
              "25%    2.123049e+09  3.219500e+05  ...    1490.000000    5100.000000\n",
              "50%    3.904930e+09  4.500000e+05  ...    1840.000000    7620.000000\n",
              "75%    7.308900e+09  6.450000e+05  ...    2360.000000   10083.000000\n",
              "max    9.900000e+09  7.700000e+06  ...    6210.000000  871200.000000\n",
              "\n",
              "[8 rows x 20 columns]"
            ]
          },
          "metadata": {
            "tags": []
          },
          "execution_count": 45
        }
      ]
    },
    {
      "cell_type": "code",
      "metadata": {
        "id": "25bik50s0F8X",
        "colab_type": "code",
        "colab": {}
      },
      "source": [
        "#Divide data into x and Y\n",
        "X= data[['bedrooms','bathrooms','sqft_living','floors','waterfront','view','condition','grade','yr_renovated','sqft_living15','sqft_lot15']]\n",
        "y= data['price']"
      ],
      "execution_count": 0,
      "outputs": []
    },
    {
      "cell_type": "code",
      "metadata": {
        "id": "wJHMNYAs3dHU",
        "colab_type": "code",
        "colab": {}
      },
      "source": [
        "# Dividing our data into training and test sets\n",
        "# \n",
        "from sklearn.model_selection import train_test_split\n",
        "X_train, X_test, y_train, y_test = train_test_split(X, y, test_size=0.2, random_state=0)"
      ],
      "execution_count": 0,
      "outputs": []
    },
    {
      "cell_type": "code",
      "metadata": {
        "id": "Rc6XQbtu33sU",
        "colab_type": "code",
        "outputId": "0d0d95a7-5cac-4f2e-9afd-93cc73dac96b",
        "colab": {
          "base_uri": "https://localhost:8080/",
          "height": 34
        }
      },
      "source": [
        "# Training the Algorithm\n",
        "# ---\n",
        "# To train the algorithm we execute the same code as before, using the fit() method of the LinearRegression class\n",
        "# ---\n",
        "# \n",
        "from sklearn.linear_model import LinearRegression\n",
        "regressor = LinearRegression()\n",
        "regressor.fit(X_train, y_train)"
      ],
      "execution_count": 0,
      "outputs": [
        {
          "output_type": "execute_result",
          "data": {
            "text/plain": [
              "LinearRegression(copy_X=True, fit_intercept=True, n_jobs=None, normalize=False)"
            ]
          },
          "metadata": {
            "tags": []
          },
          "execution_count": 48
        }
      ]
    },
    {
      "cell_type": "code",
      "metadata": {
        "id": "1_Do-GJA4AXR",
        "colab_type": "code",
        "outputId": "ab4ee232-1e33-4715-976b-a2b167e5abc6",
        "colab": {
          "base_uri": "https://localhost:8080/",
          "height": 373
        }
      },
      "source": [
        "# In case of multivariable linear regression, the regression model has to \n",
        "# find the most optimal coefficients for all the attributes. \n",
        "# To see what coefficients our regression model has chosen, execute the following\n",
        "# \n",
        "coeff_df = pd.DataFrame(regressor.coef_, X.columns, columns=['Coefficient'])\n",
        "coeff_df\n",
        "\n",
        "# From the output, this means that for a unit increase in \"price\", \n",
        "# there is a decrease in bedrooms, bathrooms, sqft , floors\n",
        "# \n",
        "# We can see that \"sqft_lot15\" and \"sqft_living15\" have a very little effect on price"
      ],
      "execution_count": 0,
      "outputs": [
        {
          "output_type": "execute_result",
          "data": {
            "text/html": [
              "<div>\n",
              "<style scoped>\n",
              "    .dataframe tbody tr th:only-of-type {\n",
              "        vertical-align: middle;\n",
              "    }\n",
              "\n",
              "    .dataframe tbody tr th {\n",
              "        vertical-align: top;\n",
              "    }\n",
              "\n",
              "    .dataframe thead th {\n",
              "        text-align: right;\n",
              "    }\n",
              "</style>\n",
              "<table border=\"1\" class=\"dataframe\">\n",
              "  <thead>\n",
              "    <tr style=\"text-align: right;\">\n",
              "      <th></th>\n",
              "      <th>Coefficient</th>\n",
              "    </tr>\n",
              "  </thead>\n",
              "  <tbody>\n",
              "    <tr>\n",
              "      <th>bedrooms</th>\n",
              "      <td>-33103.874175</td>\n",
              "    </tr>\n",
              "    <tr>\n",
              "      <th>bathrooms</th>\n",
              "      <td>-14252.562379</td>\n",
              "    </tr>\n",
              "    <tr>\n",
              "      <th>sqft_living</th>\n",
              "      <td>195.995927</td>\n",
              "    </tr>\n",
              "    <tr>\n",
              "      <th>floors</th>\n",
              "      <td>-10153.351978</td>\n",
              "    </tr>\n",
              "    <tr>\n",
              "      <th>waterfront</th>\n",
              "      <td>585743.630604</td>\n",
              "    </tr>\n",
              "    <tr>\n",
              "      <th>view</th>\n",
              "      <td>59579.349779</td>\n",
              "    </tr>\n",
              "    <tr>\n",
              "      <th>condition</th>\n",
              "      <td>59665.973972</td>\n",
              "    </tr>\n",
              "    <tr>\n",
              "      <th>grade</th>\n",
              "      <td>97907.701414</td>\n",
              "    </tr>\n",
              "    <tr>\n",
              "      <th>yr_renovated</th>\n",
              "      <td>73.537623</td>\n",
              "    </tr>\n",
              "    <tr>\n",
              "      <th>sqft_living15</th>\n",
              "      <td>12.947441</td>\n",
              "    </tr>\n",
              "    <tr>\n",
              "      <th>sqft_lot15</th>\n",
              "      <td>-0.783153</td>\n",
              "    </tr>\n",
              "  </tbody>\n",
              "</table>\n",
              "</div>"
            ],
            "text/plain": [
              "                 Coefficient\n",
              "bedrooms       -33103.874175\n",
              "bathrooms      -14252.562379\n",
              "sqft_living       195.995927\n",
              "floors         -10153.351978\n",
              "waterfront     585743.630604\n",
              "view            59579.349779\n",
              "condition       59665.973972\n",
              "grade           97907.701414\n",
              "yr_renovated       73.537623\n",
              "sqft_living15      12.947441\n",
              "sqft_lot15         -0.783153"
            ]
          },
          "metadata": {
            "tags": []
          },
          "execution_count": 49
        }
      ]
    },
    {
      "cell_type": "code",
      "metadata": {
        "id": "S3g4hJlm4NVw",
        "colab_type": "code",
        "outputId": "37c96b9a-c64f-4c80-da8a-a718aa01919d",
        "colab": {
          "base_uri": "https://localhost:8080/",
          "height": 402
        }
      },
      "source": [
        "# Making Predictions\n",
        "# ---\n",
        "# To make pre-dictions on the test data, execute the following\n",
        "# ---\n",
        "y_pred = regressor.predict(X_test)\n",
        "\n",
        "# To compare the actual output values for X_test with the predicted values\n",
        "# \n",
        "df = pd.DataFrame({'Actual': y_test, 'Predicted': y_pred})\n",
        "df"
      ],
      "execution_count": 0,
      "outputs": [
        {
          "output_type": "execute_result",
          "data": {
            "text/html": [
              "<div>\n",
              "<style scoped>\n",
              "    .dataframe tbody tr th:only-of-type {\n",
              "        vertical-align: middle;\n",
              "    }\n",
              "\n",
              "    .dataframe tbody tr th {\n",
              "        vertical-align: top;\n",
              "    }\n",
              "\n",
              "    .dataframe thead th {\n",
              "        text-align: right;\n",
              "    }\n",
              "</style>\n",
              "<table border=\"1\" class=\"dataframe\">\n",
              "  <thead>\n",
              "    <tr style=\"text-align: right;\">\n",
              "      <th></th>\n",
              "      <th>Actual</th>\n",
              "      <th>Predicted</th>\n",
              "    </tr>\n",
              "  </thead>\n",
              "  <tbody>\n",
              "    <tr>\n",
              "      <th>17384</th>\n",
              "      <td>297000.0</td>\n",
              "      <td>3.413273e+05</td>\n",
              "    </tr>\n",
              "    <tr>\n",
              "      <th>722</th>\n",
              "      <td>1580000.0</td>\n",
              "      <td>1.449939e+06</td>\n",
              "    </tr>\n",
              "    <tr>\n",
              "      <th>2680</th>\n",
              "      <td>562100.0</td>\n",
              "      <td>3.723375e+05</td>\n",
              "    </tr>\n",
              "    <tr>\n",
              "      <th>18754</th>\n",
              "      <td>631500.0</td>\n",
              "      <td>4.695582e+05</td>\n",
              "    </tr>\n",
              "    <tr>\n",
              "      <th>14554</th>\n",
              "      <td>780000.0</td>\n",
              "      <td>9.314047e+05</td>\n",
              "    </tr>\n",
              "    <tr>\n",
              "      <th>...</th>\n",
              "      <td>...</td>\n",
              "      <td>...</td>\n",
              "    </tr>\n",
              "    <tr>\n",
              "      <th>5427</th>\n",
              "      <td>844000.0</td>\n",
              "      <td>8.521045e+05</td>\n",
              "    </tr>\n",
              "    <tr>\n",
              "      <th>16547</th>\n",
              "      <td>335500.0</td>\n",
              "      <td>2.886748e+05</td>\n",
              "    </tr>\n",
              "    <tr>\n",
              "      <th>4585</th>\n",
              "      <td>369950.0</td>\n",
              "      <td>2.843828e+05</td>\n",
              "    </tr>\n",
              "    <tr>\n",
              "      <th>17762</th>\n",
              "      <td>300000.0</td>\n",
              "      <td>1.316268e+05</td>\n",
              "    </tr>\n",
              "    <tr>\n",
              "      <th>16323</th>\n",
              "      <td>575950.0</td>\n",
              "      <td>3.533542e+05</td>\n",
              "    </tr>\n",
              "  </tbody>\n",
              "</table>\n",
              "<p>4323 rows × 2 columns</p>\n",
              "</div>"
            ],
            "text/plain": [
              "          Actual     Predicted\n",
              "17384   297000.0  3.413273e+05\n",
              "722    1580000.0  1.449939e+06\n",
              "2680    562100.0  3.723375e+05\n",
              "18754   631500.0  4.695582e+05\n",
              "14554   780000.0  9.314047e+05\n",
              "...          ...           ...\n",
              "5427    844000.0  8.521045e+05\n",
              "16547   335500.0  2.886748e+05\n",
              "4585    369950.0  2.843828e+05\n",
              "17762   300000.0  1.316268e+05\n",
              "16323   575950.0  3.533542e+05\n",
              "\n",
              "[4323 rows x 2 columns]"
            ]
          },
          "metadata": {
            "tags": []
          },
          "execution_count": 50
        }
      ]
    },
    {
      "cell_type": "code",
      "metadata": {
        "id": "C2qRE46T4U5q",
        "colab_type": "code",
        "outputId": "d9ddde16-c48e-477f-e0a3-1c5b6f2d6f6c",
        "colab": {
          "base_uri": "https://localhost:8080/",
          "height": 67
        }
      },
      "source": [
        "# Evaluating the Algorithm\n",
        "# \n",
        "from sklearn import metrics\n",
        "print('Mean Absolute Error:', metrics.mean_absolute_error(y_test, y_pred))\n",
        "print('Mean Squared Error:', metrics.mean_squared_error(y_test, y_pred))\n",
        "print('Root Mean Squared Error:', np.sqrt(metrics.mean_squared_error(y_test, y_pred)))\n",
        "\n",
        "# We can see that the value of root mean squared error is 60.07, \n",
        "# which is slightly greater than 10% of the mean value of the gas consumption in all states. \n",
        "# This means that our algorithm was not very accurate but can still make reasonably good predictions.\n",
        "# There are many factors that may have contributed to this inaccuracy, a few of which are :\n",
        "# 1. Need more data: Only one year worth of data isn't that much, \n",
        "#    whereas having multiple years worth could have helped us improve the accuracy quite a bit.\n",
        "# 2. Bad assumptions: We made the assumption that this data has a linear relationship, \n",
        "#    but that might not be the case. Visualizing the data may help you determine that. \n",
        "# 3. Poor features: The features we used may not have had a high enough correlation \n",
        "#    to the values we were trying to predict."
      ],
      "execution_count": 0,
      "outputs": [
        {
          "output_type": "stream",
          "text": [
            "Mean Absolute Error: 147344.56049336793\n",
            "Mean Squared Error: 47646686113.254105\n",
            "Root Mean Squared Error: 218281.20879556742\n"
          ],
          "name": "stdout"
        }
      ]
    },
    {
      "cell_type": "markdown",
      "metadata": {
        "id": "MA3AEQLrNHKf",
        "colab_type": "text"
      },
      "source": [
        "We are now doing to conduct Quantile, Lasso , Ridge and Elastic Net regression to find the best model for prediction"
      ]
    },
    {
      "cell_type": "code",
      "metadata": {
        "id": "cMiaq1dq7u0f",
        "colab_type": "code",
        "outputId": "5061b318-7900-4df3-ec92-9c5f4e56d1e9",
        "colab": {
          "base_uri": "https://localhost:8080/",
          "height": 286
        }
      },
      "source": [
        "from sklearn.model_selection import KFold\n",
        "\n",
        "# We will use the same  independent variables for this\n",
        "X= data[['bedrooms','bathrooms','sqft_living','floors','waterfront','view','condition','grade','yr_renovated','sqft_living15','sqft_lot15']].values\n",
        "y= data['price'].values\n",
        "\n",
        "folds = KFold(n_splits=5)\n",
        "\n",
        "# note that if you have a KFold object, you can figure out how many folds you set up \n",
        "# for it using get_n_splits\n",
        "print('we are using ' +str(folds.get_n_splits(X)) + ' folds')\n",
        "\n",
        "# We now create and assess 5 models based on the folds we created.\n",
        "RMSES = [] # We will use this array to keep track of the RSME of each model\n",
        "count = 1 # This will just help \n",
        "for train_index, test_index in folds.split(X):\n",
        "  print('\\nTraining model ' + str(count))\n",
        "  \n",
        "  # set up the train and test based on the split determined by KFold\n",
        "  # With 5 folds, we will end up with 80% of our data in the training set, and 20% in the test set, just as above\n",
        "  X_train, X_test = X[train_index], X[test_index]\n",
        "  y_train, y_test = y[train_index], y[test_index]\n",
        "  \n",
        "  # fit a model accordingly\n",
        "  regressor = LinearRegression()  \n",
        "  regressor.fit(X_train, y_train)\n",
        "  \n",
        "  # assess the accuraccy of the model\n",
        "  y_pred = regressor.predict(X_test)\n",
        "  \n",
        "  rmse_value =  np.sqrt(metrics.mean_squared_error(y_test, y_pred))\n",
        "  RMSES.append(rmse_value)\n",
        "  \n",
        "  print('Model ' + str(count) + ' Root Mean Squared Error:',rmse_value)\n",
        "  count = count + 1"
      ],
      "execution_count": 0,
      "outputs": [
        {
          "output_type": "stream",
          "text": [
            "we are using 5 folds\n",
            "\n",
            "Training model 1\n",
            "Model 1 Root Mean Squared Error: 241030.48859687976\n",
            "\n",
            "Training model 2\n",
            "Model 2 Root Mean Squared Error: 235813.90816793792\n",
            "\n",
            "Training model 3\n",
            "Model 3 Root Mean Squared Error: 217540.37304949242\n",
            "\n",
            "Training model 4\n",
            "Model 4 Root Mean Squared Error: 221982.40658443197\n",
            "\n",
            "Training model 5\n",
            "Model 5 Root Mean Squared Error: 231220.94898288194\n"
          ],
          "name": "stdout"
        }
      ]
    },
    {
      "cell_type": "markdown",
      "metadata": {
        "id": "Ak6cXd3U8mot",
        "colab_type": "text"
      },
      "source": [
        "Model 3 is closest to our initial RMSE"
      ]
    },
    {
      "cell_type": "code",
      "metadata": {
        "id": "jmA8PpKK8gli",
        "colab_type": "code",
        "outputId": "094e2890-66f5-4300-c18a-490d0f9ddb78",
        "colab": {
          "base_uri": "https://localhost:8080/",
          "height": 34
        }
      },
      "source": [
        "np.mean(RMSES)"
      ],
      "execution_count": 0,
      "outputs": [
        {
          "output_type": "execute_result",
          "data": {
            "text/plain": [
              "229517.62507632482"
            ]
          },
          "metadata": {
            "tags": []
          },
          "execution_count": 53
        }
      ]
    },
    {
      "cell_type": "code",
      "metadata": {
        "id": "CmTxTHn89OAa",
        "colab_type": "code",
        "outputId": "8f6ae597-9165-45f8-c150-949606d61014",
        "colab": {
          "base_uri": "https://localhost:8080/",
          "height": 67
        }
      },
      "source": [
        "from sklearn.model_selection import LeaveOneOut\n",
        "\n",
        "# We will use the same 4 independent variables for this\n",
        "X= data[['bedrooms','bathrooms','sqft_living','floors','waterfront','view','condition','grade','yr_renovated','sqft_living15','sqft_lot15']].values\n",
        "y= data['price'].values\n",
        "\n",
        "folds = LeaveOneOut()\n",
        "\n",
        "# note that if you have a KFold object, you can figure out how many folds you set up \n",
        "# for it using get_n_splits\n",
        "print('we are using ' +str(folds.get_n_splits(X)) + ' folds')\n",
        "\n",
        "# We now create and assess 5 models based on the folds we created.\n",
        "RMSES = [] # We will use this array to keep track of the RSME of each model\n",
        "count = 0 # This will just help \n",
        "for train_index, test_index in folds.split(X):\n",
        "  \n",
        "  # set up the train and test based on the split determined by KFold\n",
        "  # With 5 folds, we will end up with 80% of our data in the training set, and 20% in the test set, just as above\n",
        "  X_train, X_test = X[train_index], X[test_index]\n",
        "  y_train, y_test = y[train_index], y[test_index]\n",
        "  \n",
        "  # fit a model accordingly\n",
        "  regressor = LinearRegression()  \n",
        "  regressor.fit(X_train, y_train)\n",
        "  \n",
        "  # assess the accuraccy of the model\n",
        "  y_pred = regressor.predict(X_test)\n",
        "  \n",
        "  rmse_value =  np.sqrt(metrics.mean_squared_error(y_test, y_pred))\n",
        "  RMSES.append(rmse_value)\n",
        "  \n",
        "  count = count + 1\n",
        "print('trained ' + str(count) + ' models' )\n",
        "np.mean(RMSES)"
      ],
      "execution_count": 0,
      "outputs": [
        {
          "output_type": "stream",
          "text": [
            "we are using 21613 folds\n",
            "trained 21613 models\n"
          ],
          "name": "stdout"
        },
        {
          "output_type": "execute_result",
          "data": {
            "text/plain": [
              "150959.4621660456"
            ]
          },
          "metadata": {
            "tags": []
          },
          "execution_count": 55
        }
      ]
    },
    {
      "cell_type": "code",
      "metadata": {
        "id": "WuY1Oc_-95m6",
        "colab_type": "code",
        "outputId": "5d2295cc-79d4-42f2-cfe5-7d7c607957b9",
        "colab": {
          "base_uri": "https://localhost:8080/",
          "height": 285
        }
      },
      "source": [
        "import matplotlib.pyplot as plt\n",
        "\n",
        "plt.plot(RMSES)\n",
        "plt.ylabel('RMSE value')\n",
        "plt.xlabel('model ID')\n",
        "plt.show()"
      ],
      "execution_count": 0,
      "outputs": [
        {
          "output_type": "display_data",
          "data": {
            "image/png": "[encoded data removed]",
            "text/plain": [
              "<Figure size 432x288 with 1 Axes>"
            ]
          },
          "metadata": {
            "tags": []
          }
        }
      ]
    },
    {
      "cell_type": "markdown",
      "metadata": {
        "id": "Ie5JUcHX9-ss",
        "colab_type": "text"
      },
      "source": [
        "This plot shows that it would be challenging to get a model that beats 150959.4621660456 average RMSE for this dataset."
      ]
    },
    {
      "cell_type": "markdown",
      "metadata": {
        "id": "6dmIL7AhEB_s",
        "colab_type": "text"
      },
      "source": [
        "2. Quantile Regression"
      ]
    },
    {
      "cell_type": "code",
      "metadata": {
        "id": "yzBLrIBI5svg",
        "colab_type": "code",
        "outputId": "58c35566-c606-4a40-8543-18548c55ac5b",
        "colab": {
          "base_uri": "https://localhost:8080/"
        }
      },
      "source": [
        "## Generating some data with constant variance /noise\n",
        "# This is the assumption of linear regression\n",
        "# \n",
        "x = np.arange(100).reshape(100,1)\n",
        "intercept_ = 6\n",
        "slope_ = 0.1\n",
        "\n",
        "## non constant error\n",
        "error_ = np.random.normal(size = (100,1), loc = 0.0, scale = 1)\n",
        "\n",
        "## Regression equation\n",
        "y = intercept_ + slope_ * x + error_\n",
        "\n",
        "plt.figure(1)\n",
        "plt.scatter(x, y)\n",
        "plt.xlabel(\"x\")\n",
        "plt.ylabel(\"y\")\n",
        "plt.title(\"Data with constant variance\")\n",
        "\n",
        "# When we move from left to right along the x-axis, \n",
        "# we won’t see a lot of variation in the values of y. \n",
        "# An linear regression would be the ideal candidate \n",
        "# here to model the data."
      ],
      "execution_count": 0,
      "outputs": [
        {
          "output_type": "execute_result",
          "data": {
            "text/plain": [
              "Text(0.5, 1.0, 'Data with constant variance')"
            ]
          },
          "metadata": {
            "tags": []
          },
          "execution_count": 56
        },
        {
          "output_type": "display_data",
          "data": {
            "image/png": "[encoded data removed]",
            "text/plain": [
              "<Figure size 432x288 with 1 Axes>"
            ]
          },
          "metadata": {
            "tags": []
          }
        }
      ]
    },
    {
      "cell_type": "markdown",
      "metadata": {
        "id": "mIZicDuPEFo5",
        "colab_type": "text"
      },
      "source": [
        "3. Ridge Regression"
      ]
    },
    {
      "cell_type": "code",
      "metadata": {
        "id": "H6gckKYK9-6a",
        "colab_type": "code",
        "colab": {}
      },
      "source": [
        "from sklearn.model_selection import GridSearchCV\n",
        "from sklearn.linear_model import Ridge\n",
        "from sklearn.linear_model import LinearRegression\n",
        "from sklearn.metrics import mean_squared_error"
      ],
      "execution_count": 0,
      "outputs": []
    },
    {
      "cell_type": "code",
      "metadata": {
        "id": "kHjsiCLk9G2v",
        "colab_type": "code",
        "outputId": "143e5ead-8ca0-4609-f1fd-c0e4b518c89c",
        "colab": {
          "base_uri": "https://localhost:8080/"
        }
      },
      "source": [
        "data.head()\n"
      ],
      "execution_count": 0,
      "outputs": [
        {
          "output_type": "execute_result",
          "data": {
            "text/html": [
              "<div>\n",
              "<style scoped>\n",
              "    .dataframe tbody tr th:only-of-type {\n",
              "        vertical-align: middle;\n",
              "    }\n",
              "\n",
              "    .dataframe tbody tr th {\n",
              "        vertical-align: top;\n",
              "    }\n",
              "\n",
              "    .dataframe thead th {\n",
              "        text-align: right;\n",
              "    }\n",
              "</style>\n",
              "<table border=\"1\" class=\"dataframe\">\n",
              "  <thead>\n",
              "    <tr style=\"text-align: right;\">\n",
              "      <th></th>\n",
              "      <th>id</th>\n",
              "      <th>price</th>\n",
              "      <th>bedrooms</th>\n",
              "      <th>bathrooms</th>\n",
              "      <th>sqft_living</th>\n",
              "      <th>sqft_lot</th>\n",
              "      <th>floors</th>\n",
              "      <th>waterfront</th>\n",
              "      <th>view</th>\n",
              "      <th>condition</th>\n",
              "      <th>grade</th>\n",
              "      <th>sqft_above</th>\n",
              "      <th>sqft_basement</th>\n",
              "      <th>yr_built</th>\n",
              "      <th>yr_renovated</th>\n",
              "      <th>zipcode</th>\n",
              "      <th>lat</th>\n",
              "      <th>long</th>\n",
              "      <th>sqft_living15</th>\n",
              "      <th>sqft_lot15</th>\n",
              "    </tr>\n",
              "  </thead>\n",
              "  <tbody>\n",
              "    <tr>\n",
              "      <th>0</th>\n",
              "      <td>7129300520</td>\n",
              "      <td>221900.0</td>\n",
              "      <td>3</td>\n",
              "      <td>1.00</td>\n",
              "      <td>1180</td>\n",
              "      <td>5650</td>\n",
              "      <td>1.0</td>\n",
              "      <td>0</td>\n",
              "      <td>0</td>\n",
              "      <td>3</td>\n",
              "      <td>7</td>\n",
              "      <td>1180</td>\n",
              "      <td>0</td>\n",
              "      <td>1955</td>\n",
              "      <td>0</td>\n",
              "      <td>98178</td>\n",
              "      <td>47.5112</td>\n",
              "      <td>-122.257</td>\n",
              "      <td>1340</td>\n",
              "      <td>5650</td>\n",
              "    </tr>\n",
              "    <tr>\n",
              "      <th>1</th>\n",
              "      <td>6414100192</td>\n",
              "      <td>538000.0</td>\n",
              "      <td>3</td>\n",
              "      <td>2.25</td>\n",
              "      <td>2570</td>\n",
              "      <td>7242</td>\n",
              "      <td>2.0</td>\n",
              "      <td>0</td>\n",
              "      <td>0</td>\n",
              "      <td>3</td>\n",
              "      <td>7</td>\n",
              "      <td>2170</td>\n",
              "      <td>400</td>\n",
              "      <td>1951</td>\n",
              "      <td>1991</td>\n",
              "      <td>98125</td>\n",
              "      <td>47.7210</td>\n",
              "      <td>-122.319</td>\n",
              "      <td>1690</td>\n",
              "      <td>7639</td>\n",
              "    </tr>\n",
              "    <tr>\n",
              "      <th>2</th>\n",
              "      <td>5631500400</td>\n",
              "      <td>180000.0</td>\n",
              "      <td>2</td>\n",
              "      <td>1.00</td>\n",
              "      <td>770</td>\n",
              "      <td>10000</td>\n",
              "      <td>1.0</td>\n",
              "      <td>0</td>\n",
              "      <td>0</td>\n",
              "      <td>3</td>\n",
              "      <td>6</td>\n",
              "      <td>770</td>\n",
              "      <td>0</td>\n",
              "      <td>1933</td>\n",
              "      <td>0</td>\n",
              "      <td>98028</td>\n",
              "      <td>47.7379</td>\n",
              "      <td>-122.233</td>\n",
              "      <td>2720</td>\n",
              "      <td>8062</td>\n",
              "    </tr>\n",
              "    <tr>\n",
              "      <th>3</th>\n",
              "      <td>2487200875</td>\n",
              "      <td>604000.0</td>\n",
              "      <td>4</td>\n",
              "      <td>3.00</td>\n",
              "      <td>1960</td>\n",
              "      <td>5000</td>\n",
              "      <td>1.0</td>\n",
              "      <td>0</td>\n",
              "      <td>0</td>\n",
              "      <td>5</td>\n",
              "      <td>7</td>\n",
              "      <td>1050</td>\n",
              "      <td>910</td>\n",
              "      <td>1965</td>\n",
              "      <td>0</td>\n",
              "      <td>98136</td>\n",
              "      <td>47.5208</td>\n",
              "      <td>-122.393</td>\n",
              "      <td>1360</td>\n",
              "      <td>5000</td>\n",
              "    </tr>\n",
              "    <tr>\n",
              "      <th>4</th>\n",
              "      <td>1954400510</td>\n",
              "      <td>510000.0</td>\n",
              "      <td>3</td>\n",
              "      <td>2.00</td>\n",
              "      <td>1680</td>\n",
              "      <td>8080</td>\n",
              "      <td>1.0</td>\n",
              "      <td>0</td>\n",
              "      <td>0</td>\n",
              "      <td>3</td>\n",
              "      <td>8</td>\n",
              "      <td>1680</td>\n",
              "      <td>0</td>\n",
              "      <td>1987</td>\n",
              "      <td>0</td>\n",
              "      <td>98074</td>\n",
              "      <td>47.6168</td>\n",
              "      <td>-122.045</td>\n",
              "      <td>1800</td>\n",
              "      <td>7503</td>\n",
              "    </tr>\n",
              "  </tbody>\n",
              "</table>\n",
              "</div>"
            ],
            "text/plain": [
              "           id     price  bedrooms  ...     long  sqft_living15  sqft_lot15\n",
              "0  7129300520  221900.0         3  ... -122.257           1340        5650\n",
              "1  6414100192  538000.0         3  ... -122.319           1690        7639\n",
              "2  5631500400  180000.0         2  ... -122.233           2720        8062\n",
              "3  2487200875  604000.0         4  ... -122.393           1360        5000\n",
              "4  1954400510  510000.0         3  ... -122.045           1800        7503\n",
              "\n",
              "[5 rows x 20 columns]"
            ]
          },
          "metadata": {
            "tags": []
          },
          "execution_count": 58
        }
      ]
    },
    {
      "cell_type": "code",
      "metadata": {
        "id": "nYYnOcGw9Ucs",
        "colab_type": "code",
        "colab": {}
      },
      "source": [
        "#Divide data into x and Y\n",
        "X= data[['bedrooms','bathrooms','sqft_living','floors','waterfront','condition','yr_renovated','sqft_living15','sqft_lot15']]\n",
        "y= data['price']"
      ],
      "execution_count": 0,
      "outputs": []
    },
    {
      "cell_type": "code",
      "metadata": {
        "id": "Tbp5R5za9jlA",
        "colab_type": "code",
        "outputId": "96014d7d-2564-4463-ac7b-2c86bc16c926",
        "colab": {
          "base_uri": "https://localhost:8080/"
        }
      },
      "source": [
        "# Creating our baseline regression model\n",
        "# This is a model that has no regularization to it\n",
        "# \n",
        "regression = LinearRegression()\n",
        "regression.fit(X,y)\n",
        "first_model = (mean_squared_error(y_true=y,y_pred=regression.predict(X)))\n",
        "print(first_model)\n",
        "\n",
        "#This value 58608311351.21163 will determine whether rideg regression is superior"
      ],
      "execution_count": 0,
      "outputs": [
        {
          "output_type": "stream",
          "text": [
            "58608311351.21163\n"
          ],
          "name": "stdout"
        }
      ]
    },
    {
      "cell_type": "code",
      "metadata": {
        "id": "pCMp7b0t-HJs",
        "colab_type": "code",
        "colab": {}
      },
      "source": [
        "# In order to create our ridge model we need to first determine the most appropriate value for the l2 regularization. \n",
        "# L2 is the name of the hyperparameter that is used in ridge regression. \n",
        "# Determining the value of a hyperparameter requires the use of a grid. \n",
        "# In the code below, we first create our ridge model and indicate normalization in order to get better estimates. \n",
        "# Next we setup the grid that we will use. \n",
        "# The search object has several arguments within it. Alpha is hyperparameter we are trying to set. \n",
        "# The log space is the range of values we want to test. \n",
        "# We want the log of -5 to 2, but we only get 8 values from within that range evenly spread out. \n",
        "# Are metric is the mean squared error. Refit set true means to adjust the parameters while modeling \n",
        "# and cv is the number of folds to develop for the cross-validation. \n",
        "#\n",
        "ridge = Ridge(normalize=True)\n",
        "search = GridSearchCV(estimator=ridge,param_grid={'alpha':np.logspace(-5,2,8)},scoring='neg_mean_squared_error',n_jobs=1,refit=True,cv=10)"
      ],
      "execution_count": 0,
      "outputs": []
    },
    {
      "cell_type": "code",
      "metadata": {
        "id": "pGAweqfI-dGd",
        "colab_type": "code",
        "outputId": "693ff3b5-bfb3-4c71-d191-10bf84977e11",
        "colab": {
          "base_uri": "https://localhost:8080/"
        }
      },
      "source": [
        "# We now use the .fit function to run the model and then use the .best_params_ and\n",
        "#  .best_scores_ function to determine the models strength. \n",
        "# \n",
        "search.fit(X,y)\n",
        "search.best_params_\n",
        "{'alpha': 0.01}\n",
        "abs(search.best_score_) \n",
        "print(search.best_params_)\n",
        "print(abs(search.best_score_) )\n",
        "\n",
        "# The best_params_ tells us what to set alpha too which in this case is 0.01. \n",
        "# The best_score_ tells us what the best possible mean squared error is. \n",
        "# In this case, the value of 59120000047.40755 is worse than what the baseline model was(58608311351.21163) "
      ],
      "execution_count": 0,
      "outputs": [
        {
          "output_type": "stream",
          "text": [
            "{'alpha': 0.001}\n",
            "59120000047.40755\n"
          ],
          "name": "stdout"
        }
      ]
    },
    {
      "cell_type": "code",
      "metadata": {
        "id": "4E_Q2C_m-3Kz",
        "colab_type": "code",
        "outputId": "90740493-4ba0-420b-d582-00879b694ad6",
        "colab": {
          "base_uri": "https://localhost:8080/"
        }
      },
      "source": [
        "# We can confirm this by fitting our model with the ridge information and finding the mean squared error below\n",
        "#\n",
        "ridge = Ridge(normalize=True,alpha=0.001)\n",
        "ridge.fit(X,y)\n",
        "second_model = (mean_squared_error(y_true=y,y_pred=ridge.predict(X)))\n",
        "print(second_model)"
      ],
      "execution_count": 0,
      "outputs": [
        {
          "output_type": "stream",
          "text": [
            "58608529780.80439\n"
          ],
          "name": "stdout"
        }
      ]
    },
    {
      "cell_type": "code",
      "metadata": {
        "id": "JwCswQ85-4Yw",
        "colab_type": "code",
        "outputId": "bc40ffd4-39b3-4efa-ec39-675ebcde390a",
        "colab": {
          "base_uri": "https://localhost:8080/"
        }
      },
      "source": [
        "# The 58628223920.07278 is lower than the 59120000047.40755. This is because the last results are not cross-validated. \n",
        "# In addition, these results indicate that there is little difference between the ridge and baseline models. \n",
        "# This is confirmed with the coefficients of each model found below.\n",
        "# \n",
        "coef_dict_baseline = {}\n",
        "for coef, feat in zip(regression.coef_,data.columns):\n",
        "    coef_dict_baseline[feat] = coef\n",
        "coef_dict_baseline\n",
        "\n",
        "# The coefficient values are about the same. This means that the penalization made little difference with this dataset."
      ],
      "execution_count": 0,
      "outputs": [
        {
          "output_type": "execute_result",
          "data": {
            "text/plain": [
              "{'bathrooms': 17117.034992417965,\n",
              " 'bedrooms': 259.8610460761847,\n",
              " 'floors': 75.49712120518213,\n",
              " 'id': -52973.37025885238,\n",
              " 'price': 8102.244891852998,\n",
              " 'sqft_living': 752371.9727497085,\n",
              " 'sqft_lot': 57350.52398947749,\n",
              " 'view': -0.8683281231751607,\n",
              " 'waterfront': 72.8522131507043}"
            ]
          },
          "metadata": {
            "tags": []
          },
          "execution_count": 64
        }
      ]
    },
    {
      "cell_type": "code",
      "metadata": {
        "id": "WOVCBEG9_RAe",
        "colab_type": "code",
        "outputId": "146c894e-0088-4c5a-8115-401a214db2bd",
        "colab": {
          "base_uri": "https://localhost:8080/"
        }
      },
      "source": [
        "#Ridge Regression Coeeficients\n",
        "coef_dict_ridge = {}\n",
        "for coef, feat in zip(ridge.coef_,data.columns):\n",
        "    coef_dict_ridge[feat] = coef\n",
        "coef_dict_ridge"
      ],
      "execution_count": 0,
      "outputs": [
        {
          "output_type": "execute_result",
          "data": {
            "text/plain": [
              "{'bathrooms': 17106.42365455012,\n",
              " 'bedrooms': 258.85723792971464,\n",
              " 'floors': 75.4917521150343,\n",
              " 'id': -52685.93136158393,\n",
              " 'price': 8572.319634083007,\n",
              " 'sqft_living': 752134.7279848623,\n",
              " 'sqft_lot': 57311.98204268284,\n",
              " 'view': -0.8648467950894508,\n",
              " 'waterfront': 73.31937390069865}"
            ]
          },
          "metadata": {
            "tags": []
          },
          "execution_count": 65
        }
      ]
    },
    {
      "cell_type": "markdown",
      "metadata": {
        "id": "HngOtYfnEI4U",
        "colab_type": "text"
      },
      "source": [
        "4. Lasso Regression"
      ]
    },
    {
      "cell_type": "code",
      "metadata": {
        "id": "EXoijVZOAHHG",
        "colab_type": "code",
        "colab": {}
      },
      "source": [
        "from sklearn.linear_model import Lasso\n",
        "from sklearn.datasets import load_boston\n",
        "from sklearn.preprocessing import StandardScaler"
      ],
      "execution_count": 0,
      "outputs": []
    },
    {
      "cell_type": "code",
      "metadata": {
        "id": "QTbLzQwcARc8",
        "colab_type": "code",
        "colab": {}
      },
      "source": [
        "# Before building the models, let's first scale data. \n",
        "# Lasso put constraints on the size of the coefficients associated to each variable. \n",
        "# But, this value depends on the magnitude of each variable and it is therefore \n",
        "# necessary to center and reduce, or standardize, the variables.\n",
        "# \n",
        "\n",
        "# Importing StandardScaler\n",
        "#\n",
        "from sklearn.preprocessing import StandardScaler\n",
        "\n",
        "# Creating features and target matrixes\n",
        "#\n",
        "X= data[['bedrooms','bathrooms','sqft_living','floors','waterfront','view',\t'grade','condition','yr_renovated','sqft_living15','sqft_lot15']]\n",
        "y= data['price']\n",
        "\n",
        "# Scaling data \n",
        "#\n",
        "scaler = StandardScaler()\n",
        "scaler.fit(X)\n",
        "X = scaler.transform(X)"
      ],
      "execution_count": 0,
      "outputs": []
    },
    {
      "cell_type": "code",
      "metadata": {
        "id": "de8gDf8fArQN",
        "colab_type": "code",
        "outputId": "02cf4d66-9025-4d48-d631-994e65d784fa",
        "colab": {
          "base_uri": "https://localhost:8080/"
        }
      },
      "source": [
        "# We can basically build the Lasso model. \n",
        "# But for now, we will train it on the whole dataset and look at an R-squared score and on the model coefficients. \n",
        "# Note, that we are not setting the alpha, it is defined as 1.\n",
        "# \n",
        "\n",
        "# Importing linear models\n",
        "# \n",
        "from sklearn import linear_model\n",
        "from sklearn.metrics import mean_squared_error\n",
        "\n",
        "# Creating lasso object\n",
        "# \n",
        "lasso = linear_model.Lasso() \n",
        "\n",
        "# Fitting the models\n",
        "# \n",
        "lasso.fit(X, y) \n",
        "\n",
        "# Print scores, MSE, and coefficients\n",
        "# \n",
        "print(\"lasso score:\", lasso.score(X, y)) \n",
        "print(\"lasso MSE:\", mean_squared_error(y, lasso.predict(X))) \n",
        "print(\"lasso coef:\", lasso.coef_) "
      ],
      "execution_count": 0,
      "outputs": [
        {
          "output_type": "stream",
          "text": [
            "lasso score: 0.6126205613193316\n",
            "lasso MSE: 52276376888.179825\n",
            "lasso coef: [-31708.62008314 -10367.77618004 176839.77309604  -6651.21096792\n",
            "  48579.1621309   45636.04102066 118332.17168571  38225.80770215\n",
            "  29363.10023781   7483.34704743 -20750.40552085]\n"
          ],
          "name": "stdout"
        }
      ]
    },
    {
      "cell_type": "code",
      "metadata": {
        "id": "ZfO-5Kw5BS1R",
        "colab_type": "code",
        "outputId": "30559377-6052-405f-df44-5459456c3d3e",
        "colab": {
          "base_uri": "https://localhost:8080/",
          "height": 202
        }
      },
      "source": [
        "# Splitting the data into training and test sets, building Lasso, \n",
        "# and choosing the regularization parameter with the help of GridSearch. \n",
        "# For that, we have to define the set of parameters for GridSearch. \n",
        "# In this case, a model with the highest R-squared score will give us the best parameters.\n",
        "# \n",
        "\n",
        "# Making necessary imports, split data into training and test sets, and choose a set of parameters \n",
        "from sklearn.model_selection import train_test_split\n",
        "from sklearn.model_selection import GridSearchCV\n",
        "import warnings\n",
        "warnings.filterwarnings(\"ignore\")\n",
        "\n",
        "X_train, X_test, y_train, y_test = train_test_split(X, y, test_size=0.25, random_state=101)\n",
        "parameters = {'alpha': np.concatenate((np.arange(0.1,2,0.1), np.arange(2, 5, 0.5), np.arange(5, 25, 1)))}\n",
        "\n",
        "linear = linear_model.LinearRegression()\n",
        "lasso = linear_model.Lasso() \n",
        "gridlasso = GridSearchCV(lasso, parameters, scoring ='r2') \n",
        "\n",
        "# Fitting models and print the best parameters, R-squared scores, MSE, and coefficients\n",
        "gridlasso.fit(X_train, y_train) \n",
        "linear.fit(X_train, y_train) \n",
        "print(\"lasso best parameters:\", gridlasso.best_params_) \n",
        "print(\"lasso score:\", gridlasso.score(X_test, y_test))\n",
        "print(\"linear score:\", linear.score(X_test, y_test)) \n",
        "print(\"lasso MSE:\", mean_squared_error(y_test, gridlasso.predict(X_test)))\n",
        "print(\"linear MSE:\", mean_squared_error(y_test, linear.predict(X_test))) \n",
        "print(\"lasso best estimator coef:\", gridlasso.best_estimator_.coef_)\n",
        "print(\"linear coef:\", linear.coef_)"
      ],
      "execution_count": 0,
      "outputs": [
        {
          "output_type": "stream",
          "text": [
            "lasso best parameters: {'alpha': 24.0}\n",
            "lasso score: 0.6268034219201519\n",
            "linear score: 0.6268019536105381\n",
            "lasso MSE: 52981551084.86276\n",
            "linear MSE: 52981759536.18677\n",
            "lasso best estimator coef: [-32146.80858872 -14291.11811797 176805.71053204  -3780.16221932\n",
            "  46343.6746784   44701.04697311 118515.82605713  40551.15139572\n",
            "  28709.23496846   8825.75931393 -19997.20532914]\n",
            "linear coef: [-32197.05361728 -14375.73975457 176905.40867942  -3801.06205257\n",
            "  46357.42271284  44700.51748845 118549.65528217  40572.59029462\n",
            "  28733.16022187   8832.33719895 -20036.2335669 ]\n"
          ],
          "name": "stdout"
        }
      ]
    },
    {
      "cell_type": "code",
      "metadata": {
        "id": "OOGAWTRjBz78",
        "colab_type": "code",
        "outputId": "ddb21070-9a21-4747-cc34-f536118d8e30",
        "colab": {
          "base_uri": "https://localhost:8080/",
          "height": 464
        }
      },
      "source": [
        "# Importing library for visualization\n",
        "#\n",
        "import matplotlib.pyplot as plt\n",
        "coefsLasso = [] \n",
        "\n",
        "# Building Lasso for 200 values of alpha and write the coefficients into array\n",
        "# \n",
        "alphasLasso = np.arange (0, 20, 0.1) \n",
        "for i in range(200):\n",
        "    lasso = linear_model.Lasso(alpha=alphasLasso[i])\n",
        "    lasso.fit(X_train, y_train)\n",
        "    coefsLasso.append(lasso.coef_) \n",
        "\n",
        "# Building Lasso coefficient plots\n",
        "# \n",
        "plt.figure(figsize = (16,7))\n",
        "\n",
        "plt.subplot(121)\n",
        "plt.plot(alphasLasso, coefsLasso)\n",
        "plt.title('Lasso coefficients')\n",
        "plt.xlabel('alpha')\n",
        "plt.ylabel('coefs')\n",
        "\n",
        "plt.show()\n",
        "\n",
        "# As we can see, Lasso influences less on the large coefficients, but the small ones Lasso reduces to zeroes. \n",
        "# Therefore Lasso can also be used to determine which features are important \n",
        "# to us and keeps the features that may influence the target variable"
      ],
      "execution_count": 0,
      "outputs": [
        {
          "output_type": "display_data",
          "data": {
            "image/png": "[encoded data removed]",
            "text/plain": [
              "<Figure size 1152x504 with 1 Axes>"
            ]
          },
          "metadata": {
            "tags": []
          }
        }
      ]
    },
    {
      "cell_type": "markdown",
      "metadata": {
        "id": "pIWUpZVLEL6b",
        "colab_type": "text"
      },
      "source": [
        "5. Elastic Net Regression"
      ]
    },
    {
      "cell_type": "code",
      "metadata": {
        "id": "NAODmsU1CecI",
        "colab_type": "code",
        "colab": {}
      },
      "source": [
        "#Import Libraries\n",
        "from sklearn.model_selection import GridSearchCV\n",
        "from sklearn.linear_model import ElasticNet\n",
        "from sklearn.linear_model import LinearRegression\n",
        "from sklearn.metrics import mean_squared_error"
      ],
      "execution_count": 0,
      "outputs": []
    },
    {
      "cell_type": "code",
      "metadata": {
        "id": "fDmMpHg9Cylh",
        "colab_type": "code",
        "colab": {}
      },
      "source": [
        "# Elastic Net Model\n",
        "# Elastic net, just like ridge and lasso regression, requires normalize data. \n",
        "# This argument  is set inside the ElasticNet function. \n",
        "# The second thing we need to do is create our grid.\n",
        "# \n",
        "elastic=ElasticNet(normalize=True)\n",
        "search=GridSearchCV(estimator=elastic,param_grid={'alpha':np.logspace(-5,2,8),'l1_ratio':[.2,.4,.6,.8]},scoring='neg_mean_squared_error',n_jobs=1,refit=True,cv=10)"
      ],
      "execution_count": 0,
      "outputs": []
    },
    {
      "cell_type": "code",
      "metadata": {
        "id": "VMV-6tHHC3cR",
        "colab_type": "code",
        "colab": {
          "base_uri": "https://localhost:8080/",
          "height": 50
        },
        "outputId": "a4b62480-7f84-4e7b-e44d-3c7d4a1b8ecd"
      },
      "source": [
        "# We will now fit our model and display the best parameters and the best results we can get with that setup.\n",
        "# \n",
        "search.fit(X,y)\n",
        "search.best_params_\n",
        "abs(search.best_score_)\n",
        "print(search.best_params_)\n",
        "print(abs(search.best_score_))\n"
      ],
      "execution_count": 74,
      "outputs": [
        {
          "output_type": "stream",
          "text": [
            "{'alpha': 1e-05, 'l1_ratio': 0.8}\n",
            "52800760819.56973\n"
          ],
          "name": "stdout"
        }
      ]
    },
    {
      "cell_type": "code",
      "metadata": {
        "id": "KkPC0VDxDA47",
        "colab_type": "code",
        "colab": {
          "base_uri": "https://localhost:8080/",
          "height": 34
        },
        "outputId": "a2a8174d-51ab-42c3-f7ef-0fa6ded5b06a"
      },
      "source": [
        "# The best hyperparameters was an alpha set to 0.001 and a l1_ratio of 0.8. \n",
        "# With these settings we got an MSE of 52465696081.85296. This is below our baseline model of MSE 52800760819.56973  for the baseline model. \n",
        "# Which means that elastic net is doing better than linear regression. \n",
        "# For clarity, we will set our hyperparameters to the recommended values and run on the data.\n",
        "# \n",
        "elastic=ElasticNet(normalize=True,alpha=1e-05,l1_ratio=0.8)\n",
        "elastic.fit(X,y)\n",
        "second_model=(mean_squared_error(y_true=y,y_pred=elastic.predict(X)))\n",
        "print(second_model)"
      ],
      "execution_count": 75,
      "outputs": [
        {
          "output_type": "stream",
          "text": [
            "52465696081.85296\n"
          ],
          "name": "stdout"
        }
      ]
    },
    {
      "cell_type": "markdown",
      "metadata": {
        "id": "z-ApW6LCywY9",
        "colab_type": "text"
      },
      "source": [
        "Residual Plots and Heteroskedasticity Test"
      ]
    },
    {
      "cell_type": "code",
      "metadata": {
        "id": "DQwXMkaBzAjN",
        "colab_type": "code",
        "colab": {}
      },
      "source": [
        "#Define Correlations\n",
        "correlations=data.corr()"
      ],
      "execution_count": 0,
      "outputs": []
    },
    {
      "cell_type": "code",
      "metadata": {
        "id": "w2EcT_UqzAht",
        "colab_type": "code",
        "colab": {
          "base_uri": "https://localhost:8080/",
          "height": 659
        },
        "outputId": "277bf035-9825-469b-b8a6-5451f55e5e02"
      },
      "source": [
        "#Dataframe with inverse of the correlation matrix\n",
        "pd.DataFrame(np.linalg.inv(correlations.values), index = correlations.index, columns=correlations.columns)"
      ],
      "execution_count": 77,
      "outputs": [
        {
          "output_type": "execute_result",
          "data": {
            "text/html": [
              "<div>\n",
              "<style scoped>\n",
              "    .dataframe tbody tr th:only-of-type {\n",
              "        vertical-align: middle;\n",
              "    }\n",
              "\n",
              "    .dataframe tbody tr th {\n",
              "        vertical-align: top;\n",
              "    }\n",
              "\n",
              "    .dataframe thead th {\n",
              "        text-align: right;\n",
              "    }\n",
              "</style>\n",
              "<table border=\"1\" class=\"dataframe\">\n",
              "  <thead>\n",
              "    <tr style=\"text-align: right;\">\n",
              "      <th></th>\n",
              "      <th>id</th>\n",
              "      <th>price</th>\n",
              "      <th>bedrooms</th>\n",
              "      <th>bathrooms</th>\n",
              "      <th>sqft_living</th>\n",
              "      <th>sqft_lot</th>\n",
              "      <th>floors</th>\n",
              "      <th>waterfront</th>\n",
              "      <th>view</th>\n",
              "      <th>condition</th>\n",
              "      <th>grade</th>\n",
              "      <th>sqft_above</th>\n",
              "      <th>sqft_basement</th>\n",
              "      <th>yr_built</th>\n",
              "      <th>yr_renovated</th>\n",
              "      <th>zipcode</th>\n",
              "      <th>lat</th>\n",
              "      <th>long</th>\n",
              "      <th>sqft_living15</th>\n",
              "      <th>sqft_lot15</th>\n",
              "    </tr>\n",
              "  </thead>\n",
              "  <tbody>\n",
              "    <tr>\n",
              "      <th>id</th>\n",
              "      <td>1.028542</td>\n",
              "      <td>0.033760</td>\n",
              "      <td>0.002267</td>\n",
              "      <td>-0.005352</td>\n",
              "      <td>9.295241e-03</td>\n",
              "      <td>0.077219</td>\n",
              "      <td>-0.011600</td>\n",
              "      <td>0.002765</td>\n",
              "      <td>-0.037849</td>\n",
              "      <td>0.022078</td>\n",
              "      <td>-0.048373</td>\n",
              "      <td>1.019747e-02</td>\n",
              "      <td>-1.098595e-02</td>\n",
              "      <td>0.023615</td>\n",
              "      <td>0.017859</td>\n",
              "      <td>0.000315</td>\n",
              "      <td>0.007458</td>\n",
              "      <td>-0.072914</td>\n",
              "      <td>0.009239</td>\n",
              "      <td>0.105511</td>\n",
              "    </tr>\n",
              "    <tr>\n",
              "      <th>price</th>\n",
              "      <td>0.033760</td>\n",
              "      <td>3.331694</td>\n",
              "      <td>0.301926</td>\n",
              "      <td>-0.287621</td>\n",
              "      <td>-1.059816e+00</td>\n",
              "      <td>-0.045685</td>\n",
              "      <td>-0.033158</td>\n",
              "      <td>-0.457218</td>\n",
              "      <td>-0.369007</td>\n",
              "      <td>-0.155106</td>\n",
              "      <td>-1.024505</td>\n",
              "      <td>-4.024468e-01</td>\n",
              "      <td>-9.300384e-02</td>\n",
              "      <td>0.699138</td>\n",
              "      <td>-0.071608</td>\n",
              "      <td>0.282609</td>\n",
              "      <td>-0.757054</td>\n",
              "      <td>0.272064</td>\n",
              "      <td>-0.134388</td>\n",
              "      <td>0.098140</td>\n",
              "    </tr>\n",
              "    <tr>\n",
              "      <th>bedrooms</th>\n",
              "      <td>0.002267</td>\n",
              "      <td>0.301926</td>\n",
              "      <td>1.679425</td>\n",
              "      <td>-0.487234</td>\n",
              "      <td>-2.914374e-01</td>\n",
              "      <td>0.045161</td>\n",
              "      <td>0.046698</td>\n",
              "      <td>0.021795</td>\n",
              "      <td>0.080697</td>\n",
              "      <td>-0.064841</td>\n",
              "      <td>0.214235</td>\n",
              "      <td>-7.339783e-01</td>\n",
              "      <td>-3.968862e-01</td>\n",
              "      <td>0.197843</td>\n",
              "      <td>0.038950</td>\n",
              "      <td>0.105724</td>\n",
              "      <td>-0.017829</td>\n",
              "      <td>0.042108</td>\n",
              "      <td>0.013026</td>\n",
              "      <td>0.094213</td>\n",
              "    </tr>\n",
              "    <tr>\n",
              "      <th>bathrooms</th>\n",
              "      <td>-0.005352</td>\n",
              "      <td>-0.287621</td>\n",
              "      <td>-0.487234</td>\n",
              "      <td>3.375628</td>\n",
              "      <td>-4.983419e+00</td>\n",
              "      <td>-0.020368</td>\n",
              "      <td>-0.672186</td>\n",
              "      <td>0.049214</td>\n",
              "      <td>-0.009708</td>\n",
              "      <td>-0.123686</td>\n",
              "      <td>-0.179471</td>\n",
              "      <td>3.339955e+00</td>\n",
              "      <td>1.373944e+00</td>\n",
              "      <td>-0.996174</td>\n",
              "      <td>-0.253644</td>\n",
              "      <td>0.017405</td>\n",
              "      <td>0.024363</td>\n",
              "      <td>0.030747</td>\n",
              "      <td>0.103709</td>\n",
              "      <td>0.062751</td>\n",
              "    </tr>\n",
              "    <tr>\n",
              "      <th>sqft_living</th>\n",
              "      <td>0.009202</td>\n",
              "      <td>-1.054373</td>\n",
              "      <td>-0.288261</td>\n",
              "      <td>-4.978829</td>\n",
              "      <td>-3.384707e+13</td>\n",
              "      <td>-0.106878</td>\n",
              "      <td>0.527039</td>\n",
              "      <td>0.597696</td>\n",
              "      <td>-0.479097</td>\n",
              "      <td>-0.315069</td>\n",
              "      <td>-0.453843</td>\n",
              "      <td>3.051743e+13</td>\n",
              "      <td>1.631011e+13</td>\n",
              "      <td>1.445337</td>\n",
              "      <td>0.088412</td>\n",
              "      <td>-0.235969</td>\n",
              "      <td>0.262880</td>\n",
              "      <td>-0.210571</td>\n",
              "      <td>-0.942696</td>\n",
              "      <td>-0.214327</td>\n",
              "    </tr>\n",
              "    <tr>\n",
              "      <th>sqft_lot</th>\n",
              "      <td>0.077219</td>\n",
              "      <td>-0.045685</td>\n",
              "      <td>0.045161</td>\n",
              "      <td>-0.020368</td>\n",
              "      <td>-1.071586e-01</td>\n",
              "      <td>2.109017</td>\n",
              "      <td>0.044866</td>\n",
              "      <td>0.034139</td>\n",
              "      <td>-0.056515</td>\n",
              "      <td>0.034475</td>\n",
              "      <td>-0.042674</td>\n",
              "      <td>-8.142180e-02</td>\n",
              "      <td>1.746460e-02</td>\n",
              "      <td>0.090425</td>\n",
              "      <td>0.023829</td>\n",
              "      <td>-0.006678</td>\n",
              "      <td>0.064889</td>\n",
              "      <td>-0.142610</td>\n",
              "      <td>0.166587</td>\n",
              "      <td>-1.452768</td>\n",
              "    </tr>\n",
              "    <tr>\n",
              "      <th>floors</th>\n",
              "      <td>-0.011600</td>\n",
              "      <td>-0.033158</td>\n",
              "      <td>0.046698</td>\n",
              "      <td>-0.672186</td>\n",
              "      <td>5.283104e-01</td>\n",
              "      <td>0.044866</td>\n",
              "      <td>2.012361</td>\n",
              "      <td>-0.000812</td>\n",
              "      <td>-0.036580</td>\n",
              "      <td>0.090957</td>\n",
              "      <td>-0.220239</td>\n",
              "      <td>-9.665754e-01</td>\n",
              "      <td>3.676039e-01</td>\n",
              "      <td>-0.488619</td>\n",
              "      <td>-0.080094</td>\n",
              "      <td>-0.173551</td>\n",
              "      <td>-0.120268</td>\n",
              "      <td>0.162189</td>\n",
              "      <td>0.273838</td>\n",
              "      <td>0.070537</td>\n",
              "    </tr>\n",
              "    <tr>\n",
              "      <th>waterfront</th>\n",
              "      <td>0.002765</td>\n",
              "      <td>-0.457218</td>\n",
              "      <td>0.021795</td>\n",
              "      <td>0.049214</td>\n",
              "      <td>5.972879e-01</td>\n",
              "      <td>0.034139</td>\n",
              "      <td>-0.000812</td>\n",
              "      <td>1.266565</td>\n",
              "      <td>-0.442151</td>\n",
              "      <td>0.008786</td>\n",
              "      <td>0.189562</td>\n",
              "      <td>-4.636230e-01</td>\n",
              "      <td>-2.087473e-01</td>\n",
              "      <td>-0.116876</td>\n",
              "      <td>-0.055442</td>\n",
              "      <td>-0.016250</td>\n",
              "      <td>0.113898</td>\n",
              "      <td>-0.010443</td>\n",
              "      <td>0.072970</td>\n",
              "      <td>-0.031186</td>\n",
              "    </tr>\n",
              "    <tr>\n",
              "      <th>view</th>\n",
              "      <td>-0.037849</td>\n",
              "      <td>-0.369007</td>\n",
              "      <td>0.080697</td>\n",
              "      <td>-0.009708</td>\n",
              "      <td>-4.781436e-01</td>\n",
              "      <td>-0.056515</td>\n",
              "      <td>-0.036580</td>\n",
              "      <td>-0.442151</td>\n",
              "      <td>1.477161</td>\n",
              "      <td>-0.005080</td>\n",
              "      <td>-0.070505</td>\n",
              "      <td>6.198854e-01</td>\n",
              "      <td>4.047917e-02</td>\n",
              "      <td>0.073637</td>\n",
              "      <td>-0.032922</td>\n",
              "      <td>-0.171895</td>\n",
              "      <td>0.201833</td>\n",
              "      <td>0.043886</td>\n",
              "      <td>-0.311082</td>\n",
              "      <td>-0.021830</td>\n",
              "    </tr>\n",
              "    <tr>\n",
              "      <th>condition</th>\n",
              "      <td>0.022078</td>\n",
              "      <td>-0.155106</td>\n",
              "      <td>-0.064841</td>\n",
              "      <td>-0.123686</td>\n",
              "      <td>-3.142170e-01</td>\n",
              "      <td>0.034475</td>\n",
              "      <td>0.090957</td>\n",
              "      <td>0.008786</td>\n",
              "      <td>-0.005080</td>\n",
              "      <td>1.257240</td>\n",
              "      <td>-0.007632</td>\n",
              "      <td>4.023978e-01</td>\n",
              "      <td>8.181785e-02</td>\n",
              "      <td>0.529381</td>\n",
              "      <td>0.210433</td>\n",
              "      <td>0.148053</td>\n",
              "      <td>0.099266</td>\n",
              "      <td>-0.021435</td>\n",
              "      <td>0.082361</td>\n",
              "      <td>-0.030419</td>\n",
              "    </tr>\n",
              "    <tr>\n",
              "      <th>grade</th>\n",
              "      <td>-0.048373</td>\n",
              "      <td>-1.024505</td>\n",
              "      <td>0.214235</td>\n",
              "      <td>-0.179471</td>\n",
              "      <td>-4.520963e-01</td>\n",
              "      <td>-0.042674</td>\n",
              "      <td>-0.220239</td>\n",
              "      <td>0.189562</td>\n",
              "      <td>-0.070505</td>\n",
              "      <td>-0.007632</td>\n",
              "      <td>3.733488</td>\n",
              "      <td>-7.855734e-01</td>\n",
              "      <td>-8.280973e-02</td>\n",
              "      <td>-0.854578</td>\n",
              "      <td>-0.050089</td>\n",
              "      <td>-0.003488</td>\n",
              "      <td>-0.098632</td>\n",
              "      <td>0.312970</td>\n",
              "      <td>-0.870669</td>\n",
              "      <td>0.037834</td>\n",
              "    </tr>\n",
              "    <tr>\n",
              "      <th>sqft_above</th>\n",
              "      <td>0.010263</td>\n",
              "      <td>-0.410185</td>\n",
              "      <td>-0.738599</td>\n",
              "      <td>3.333196</td>\n",
              "      <td>3.051743e+13</td>\n",
              "      <td>-0.081895</td>\n",
              "      <td>-0.966305</td>\n",
              "      <td>-0.464011</td>\n",
              "      <td>0.621166</td>\n",
              "      <td>0.403733</td>\n",
              "      <td>-0.783237</td>\n",
              "      <td>-2.751534e+13</td>\n",
              "      <td>-1.470563e+13</td>\n",
              "      <td>-1.068215</td>\n",
              "      <td>-0.050807</td>\n",
              "      <td>0.021525</td>\n",
              "      <td>0.253746</td>\n",
              "      <td>-0.265330</td>\n",
              "      <td>-0.630526</td>\n",
              "      <td>-0.019275</td>\n",
              "    </tr>\n",
              "    <tr>\n",
              "      <th>sqft_basement</th>\n",
              "      <td>-0.010950</td>\n",
              "      <td>-0.094814</td>\n",
              "      <td>-0.400115</td>\n",
              "      <td>1.371731</td>\n",
              "      <td>1.631011e+13</td>\n",
              "      <td>0.017138</td>\n",
              "      <td>0.367345</td>\n",
              "      <td>-0.208979</td>\n",
              "      <td>0.041226</td>\n",
              "      <td>0.082380</td>\n",
              "      <td>-0.082228</td>\n",
              "      <td>-1.470563e+13</td>\n",
              "      <td>-7.859457e+12</td>\n",
              "      <td>-0.577706</td>\n",
              "      <td>-0.043650</td>\n",
              "      <td>-0.018765</td>\n",
              "      <td>-0.070859</td>\n",
              "      <td>0.200045</td>\n",
              "      <td>0.007446</td>\n",
              "      <td>0.025908</td>\n",
              "    </tr>\n",
              "    <tr>\n",
              "      <th>yr_built</th>\n",
              "      <td>0.023615</td>\n",
              "      <td>0.699138</td>\n",
              "      <td>0.197843</td>\n",
              "      <td>-0.996174</td>\n",
              "      <td>1.443948e+00</td>\n",
              "      <td>0.090425</td>\n",
              "      <td>-0.488619</td>\n",
              "      <td>-0.116876</td>\n",
              "      <td>0.073637</td>\n",
              "      <td>0.529381</td>\n",
              "      <td>-0.854578</td>\n",
              "      <td>-1.066963e+00</td>\n",
              "      <td>-5.770365e-01</td>\n",
              "      <td>2.577625</td>\n",
              "      <td>0.519196</td>\n",
              "      <td>0.316127</td>\n",
              "      <td>0.151801</td>\n",
              "      <td>-0.449759</td>\n",
              "      <td>0.049684</td>\n",
              "      <td>-0.011465</td>\n",
              "    </tr>\n",
              "    <tr>\n",
              "      <th>yr_renovated</th>\n",
              "      <td>0.017859</td>\n",
              "      <td>-0.071608</td>\n",
              "      <td>0.038950</td>\n",
              "      <td>-0.253644</td>\n",
              "      <td>8.800112e-02</td>\n",
              "      <td>0.023829</td>\n",
              "      <td>-0.080094</td>\n",
              "      <td>-0.055442</td>\n",
              "      <td>-0.032922</td>\n",
              "      <td>0.210433</td>\n",
              "      <td>-0.050089</td>\n",
              "      <td>-5.043610e-02</td>\n",
              "      <td>-4.345160e-02</td>\n",
              "      <td>0.519196</td>\n",
              "      <td>1.152429</td>\n",
              "      <td>0.030728</td>\n",
              "      <td>0.062524</td>\n",
              "      <td>-0.061811</td>\n",
              "      <td>0.102271</td>\n",
              "      <td>-0.022452</td>\n",
              "    </tr>\n",
              "    <tr>\n",
              "      <th>zipcode</th>\n",
              "      <td>0.000315</td>\n",
              "      <td>0.282609</td>\n",
              "      <td>0.105724</td>\n",
              "      <td>0.017405</td>\n",
              "      <td>-2.366178e-01</td>\n",
              "      <td>-0.006678</td>\n",
              "      <td>-0.173551</td>\n",
              "      <td>-0.016250</td>\n",
              "      <td>-0.171895</td>\n",
              "      <td>0.148053</td>\n",
              "      <td>-0.003488</td>\n",
              "      <td>2.211013e-02</td>\n",
              "      <td>-1.845271e-02</td>\n",
              "      <td>0.316127</td>\n",
              "      <td>0.030728</td>\n",
              "      <td>1.686153</td>\n",
              "      <td>-0.372363</td>\n",
              "      <td>0.757222</td>\n",
              "      <td>0.198776</td>\n",
              "      <td>-0.007439</td>\n",
              "    </tr>\n",
              "    <tr>\n",
              "      <th>lat</th>\n",
              "      <td>0.007458</td>\n",
              "      <td>-0.757054</td>\n",
              "      <td>-0.017829</td>\n",
              "      <td>0.024363</td>\n",
              "      <td>2.649800e-01</td>\n",
              "      <td>0.064889</td>\n",
              "      <td>-0.120268</td>\n",
              "      <td>0.113898</td>\n",
              "      <td>0.201833</td>\n",
              "      <td>0.099266</td>\n",
              "      <td>-0.098632</td>\n",
              "      <td>2.518528e-01</td>\n",
              "      <td>-7.187094e-02</td>\n",
              "      <td>0.151801</td>\n",
              "      <td>0.062524</td>\n",
              "      <td>-0.372363</td>\n",
              "      <td>1.352876</td>\n",
              "      <td>-0.163840</td>\n",
              "      <td>-0.064109</td>\n",
              "      <td>0.015897</td>\n",
              "    </tr>\n",
              "    <tr>\n",
              "      <th>long</th>\n",
              "      <td>-0.072914</td>\n",
              "      <td>0.272064</td>\n",
              "      <td>0.042108</td>\n",
              "      <td>0.030747</td>\n",
              "      <td>-2.107559e-01</td>\n",
              "      <td>-0.142610</td>\n",
              "      <td>0.162189</td>\n",
              "      <td>-0.010443</td>\n",
              "      <td>0.043886</td>\n",
              "      <td>-0.021435</td>\n",
              "      <td>0.312970</td>\n",
              "      <td>-2.651631e-01</td>\n",
              "      <td>2.001347e-01</td>\n",
              "      <td>-0.449759</td>\n",
              "      <td>-0.061811</td>\n",
              "      <td>0.757222</td>\n",
              "      <td>-0.163840</td>\n",
              "      <td>1.853365</td>\n",
              "      <td>-0.366313</td>\n",
              "      <td>-0.160563</td>\n",
              "    </tr>\n",
              "    <tr>\n",
              "      <th>sqft_living15</th>\n",
              "      <td>0.009239</td>\n",
              "      <td>-0.134388</td>\n",
              "      <td>0.013026</td>\n",
              "      <td>0.103709</td>\n",
              "      <td>-9.559629e-01</td>\n",
              "      <td>0.166587</td>\n",
              "      <td>0.273838</td>\n",
              "      <td>0.072970</td>\n",
              "      <td>-0.311082</td>\n",
              "      <td>0.082361</td>\n",
              "      <td>-0.870669</td>\n",
              "      <td>-6.185643e-01</td>\n",
              "      <td>1.383955e-02</td>\n",
              "      <td>0.049684</td>\n",
              "      <td>0.102271</td>\n",
              "      <td>0.198776</td>\n",
              "      <td>-0.064109</td>\n",
              "      <td>-0.366313</td>\n",
              "      <td>2.985243</td>\n",
              "      <td>-0.128493</td>\n",
              "    </tr>\n",
              "    <tr>\n",
              "      <th>sqft_lot15</th>\n",
              "      <td>0.105511</td>\n",
              "      <td>0.098140</td>\n",
              "      <td>0.094213</td>\n",
              "      <td>0.062751</td>\n",
              "      <td>-2.154102e-01</td>\n",
              "      <td>-1.452768</td>\n",
              "      <td>0.070537</td>\n",
              "      <td>-0.031186</td>\n",
              "      <td>-0.021830</td>\n",
              "      <td>-0.030419</td>\n",
              "      <td>0.037834</td>\n",
              "      <td>-1.829785e-02</td>\n",
              "      <td>2.643026e-02</td>\n",
              "      <td>-0.011465</td>\n",
              "      <td>-0.022452</td>\n",
              "      <td>-0.007439</td>\n",
              "      <td>0.015897</td>\n",
              "      <td>-0.160563</td>\n",
              "      <td>-0.128493</td>\n",
              "      <td>2.149183</td>\n",
              "    </tr>\n",
              "  </tbody>\n",
              "</table>\n",
              "</div>"
            ],
            "text/plain": [
              "                     id     price  ...  sqft_living15  sqft_lot15\n",
              "id             1.028542  0.033760  ...       0.009239    0.105511\n",
              "price          0.033760  3.331694  ...      -0.134388    0.098140\n",
              "bedrooms       0.002267  0.301926  ...       0.013026    0.094213\n",
              "bathrooms     -0.005352 -0.287621  ...       0.103709    0.062751\n",
              "sqft_living    0.009202 -1.054373  ...      -0.942696   -0.214327\n",
              "sqft_lot       0.077219 -0.045685  ...       0.166587   -1.452768\n",
              "floors        -0.011600 -0.033158  ...       0.273838    0.070537\n",
              "waterfront     0.002765 -0.457218  ...       0.072970   -0.031186\n",
              "view          -0.037849 -0.369007  ...      -0.311082   -0.021830\n",
              "condition      0.022078 -0.155106  ...       0.082361   -0.030419\n",
              "grade         -0.048373 -1.024505  ...      -0.870669    0.037834\n",
              "sqft_above     0.010263 -0.410185  ...      -0.630526   -0.019275\n",
              "sqft_basement -0.010950 -0.094814  ...       0.007446    0.025908\n",
              "yr_built       0.023615  0.699138  ...       0.049684   -0.011465\n",
              "yr_renovated   0.017859 -0.071608  ...       0.102271   -0.022452\n",
              "zipcode        0.000315  0.282609  ...       0.198776   -0.007439\n",
              "lat            0.007458 -0.757054  ...      -0.064109    0.015897\n",
              "long          -0.072914  0.272064  ...      -0.366313   -0.160563\n",
              "sqft_living15  0.009239 -0.134388  ...       2.985243   -0.128493\n",
              "sqft_lot15     0.105511  0.098140  ...      -0.128493    2.149183\n",
              "\n",
              "[20 rows x 20 columns]"
            ]
          },
          "metadata": {
            "tags": []
          },
          "execution_count": 77
        }
      ]
    },
    {
      "cell_type": "code",
      "metadata": {
        "id": "rV4kIIrbzGN9",
        "colab_type": "code",
        "colab": {
          "base_uri": "https://localhost:8080/",
          "height": 630
        },
        "outputId": "1b8a3630-a28f-45e8-f576-58262781452a"
      },
      "source": [
        "revised = data.drop(columns=['sqft_lot15'])\n",
        "\n",
        "correlations = revised.corr()\n",
        "pd.DataFrame(np.linalg.inv(correlations.values), index = correlations.index, columns=correlations.columns)\n"
      ],
      "execution_count": 78,
      "outputs": [
        {
          "output_type": "execute_result",
          "data": {
            "text/html": [
              "<div>\n",
              "<style scoped>\n",
              "    .dataframe tbody tr th:only-of-type {\n",
              "        vertical-align: middle;\n",
              "    }\n",
              "\n",
              "    .dataframe tbody tr th {\n",
              "        vertical-align: top;\n",
              "    }\n",
              "\n",
              "    .dataframe thead th {\n",
              "        text-align: right;\n",
              "    }\n",
              "</style>\n",
              "<table border=\"1\" class=\"dataframe\">\n",
              "  <thead>\n",
              "    <tr style=\"text-align: right;\">\n",
              "      <th></th>\n",
              "      <th>id</th>\n",
              "      <th>price</th>\n",
              "      <th>bedrooms</th>\n",
              "      <th>bathrooms</th>\n",
              "      <th>sqft_living</th>\n",
              "      <th>sqft_lot</th>\n",
              "      <th>floors</th>\n",
              "      <th>waterfront</th>\n",
              "      <th>view</th>\n",
              "      <th>condition</th>\n",
              "      <th>grade</th>\n",
              "      <th>sqft_above</th>\n",
              "      <th>sqft_basement</th>\n",
              "      <th>yr_built</th>\n",
              "      <th>yr_renovated</th>\n",
              "      <th>zipcode</th>\n",
              "      <th>lat</th>\n",
              "      <th>long</th>\n",
              "      <th>sqft_living15</th>\n",
              "    </tr>\n",
              "  </thead>\n",
              "  <tbody>\n",
              "    <tr>\n",
              "      <th>id</th>\n",
              "      <td>1.023362</td>\n",
              "      <td>0.028942</td>\n",
              "      <td>-0.002358</td>\n",
              "      <td>-0.008433</td>\n",
              "      <td>1.969593e-02</td>\n",
              "      <td>0.148540</td>\n",
              "      <td>-0.015063</td>\n",
              "      <td>0.004296</td>\n",
              "      <td>-0.036777</td>\n",
              "      <td>0.023572</td>\n",
              "      <td>-0.050230</td>\n",
              "      <td>1.124136e-02</td>\n",
              "      <td>-1.225667e-02</td>\n",
              "      <td>0.024178</td>\n",
              "      <td>0.018961</td>\n",
              "      <td>0.000680</td>\n",
              "      <td>0.006678</td>\n",
              "      <td>-0.065031</td>\n",
              "      <td>0.015548</td>\n",
              "    </tr>\n",
              "    <tr>\n",
              "      <th>price</th>\n",
              "      <td>0.028942</td>\n",
              "      <td>3.327213</td>\n",
              "      <td>0.297624</td>\n",
              "      <td>-0.290487</td>\n",
              "      <td>-1.043887e+00</td>\n",
              "      <td>0.020654</td>\n",
              "      <td>-0.036379</td>\n",
              "      <td>-0.455794</td>\n",
              "      <td>-0.368010</td>\n",
              "      <td>-0.153717</td>\n",
              "      <td>-1.026233</td>\n",
              "      <td>-4.044011e-01</td>\n",
              "      <td>-9.294060e-02</td>\n",
              "      <td>0.699662</td>\n",
              "      <td>-0.070583</td>\n",
              "      <td>0.282949</td>\n",
              "      <td>-0.757780</td>\n",
              "      <td>0.279396</td>\n",
              "      <td>-0.128521</td>\n",
              "    </tr>\n",
              "    <tr>\n",
              "      <th>bedrooms</th>\n",
              "      <td>-0.002358</td>\n",
              "      <td>0.297624</td>\n",
              "      <td>1.675295</td>\n",
              "      <td>-0.489985</td>\n",
              "      <td>-2.794943e-01</td>\n",
              "      <td>0.108846</td>\n",
              "      <td>0.043606</td>\n",
              "      <td>0.023162</td>\n",
              "      <td>0.081654</td>\n",
              "      <td>-0.063508</td>\n",
              "      <td>0.212576</td>\n",
              "      <td>-7.333683e-01</td>\n",
              "      <td>-3.976463e-01</td>\n",
              "      <td>0.198346</td>\n",
              "      <td>0.039934</td>\n",
              "      <td>0.106050</td>\n",
              "      <td>-0.018525</td>\n",
              "      <td>0.049147</td>\n",
              "      <td>0.018659</td>\n",
              "    </tr>\n",
              "    <tr>\n",
              "      <th>bathrooms</th>\n",
              "      <td>-0.008433</td>\n",
              "      <td>-0.290487</td>\n",
              "      <td>-0.489985</td>\n",
              "      <td>3.373796</td>\n",
              "      <td>-4.976294e+00</td>\n",
              "      <td>0.022050</td>\n",
              "      <td>-0.674246</td>\n",
              "      <td>0.050125</td>\n",
              "      <td>-0.009071</td>\n",
              "      <td>-0.122798</td>\n",
              "      <td>-0.180575</td>\n",
              "      <td>3.339938e+00</td>\n",
              "      <td>1.374428e+00</td>\n",
              "      <td>-0.995839</td>\n",
              "      <td>-0.252989</td>\n",
              "      <td>0.017622</td>\n",
              "      <td>0.023899</td>\n",
              "      <td>0.035435</td>\n",
              "      <td>0.107461</td>\n",
              "    </tr>\n",
              "    <tr>\n",
              "      <th>sqft_living</th>\n",
              "      <td>0.019776</td>\n",
              "      <td>-1.045021</td>\n",
              "      <td>-0.278802</td>\n",
              "      <td>-4.972207</td>\n",
              "      <td>-3.384707e+13</td>\n",
              "      <td>-0.251485</td>\n",
              "      <td>0.535015</td>\n",
              "      <td>0.594827</td>\n",
              "      <td>-0.482332</td>\n",
              "      <td>-0.317829</td>\n",
              "      <td>-0.453012</td>\n",
              "      <td>3.051743e+13</td>\n",
              "      <td>1.631011e+13</td>\n",
              "      <td>1.444360</td>\n",
              "      <td>0.086515</td>\n",
              "      <td>-0.236039</td>\n",
              "      <td>0.264251</td>\n",
              "      <td>-0.227856</td>\n",
              "      <td>-0.945422</td>\n",
              "    </tr>\n",
              "    <tr>\n",
              "      <th>sqft_lot</th>\n",
              "      <td>0.148540</td>\n",
              "      <td>0.020654</td>\n",
              "      <td>0.108846</td>\n",
              "      <td>0.022050</td>\n",
              "      <td>-2.532749e-01</td>\n",
              "      <td>1.127000</td>\n",
              "      <td>0.092547</td>\n",
              "      <td>0.013058</td>\n",
              "      <td>-0.071271</td>\n",
              "      <td>0.013912</td>\n",
              "      <td>-0.017099</td>\n",
              "      <td>-9.338097e-02</td>\n",
              "      <td>3.555669e-02</td>\n",
              "      <td>0.082674</td>\n",
              "      <td>0.008652</td>\n",
              "      <td>-0.011707</td>\n",
              "      <td>0.075635</td>\n",
              "      <td>-0.251144</td>\n",
              "      <td>0.079731</td>\n",
              "    </tr>\n",
              "    <tr>\n",
              "      <th>floors</th>\n",
              "      <td>-0.015063</td>\n",
              "      <td>-0.036379</td>\n",
              "      <td>0.043606</td>\n",
              "      <td>-0.674246</td>\n",
              "      <td>5.360521e-01</td>\n",
              "      <td>0.092547</td>\n",
              "      <td>2.010046</td>\n",
              "      <td>0.000212</td>\n",
              "      <td>-0.035864</td>\n",
              "      <td>0.091956</td>\n",
              "      <td>-0.221481</td>\n",
              "      <td>-9.668680e-01</td>\n",
              "      <td>3.661624e-01</td>\n",
              "      <td>-0.488243</td>\n",
              "      <td>-0.079358</td>\n",
              "      <td>-0.173307</td>\n",
              "      <td>-0.120790</td>\n",
              "      <td>0.167458</td>\n",
              "      <td>0.278055</td>\n",
              "    </tr>\n",
              "    <tr>\n",
              "      <th>waterfront</th>\n",
              "      <td>0.004296</td>\n",
              "      <td>-0.455794</td>\n",
              "      <td>0.023162</td>\n",
              "      <td>0.050125</td>\n",
              "      <td>5.940220e-01</td>\n",
              "      <td>0.013058</td>\n",
              "      <td>0.000212</td>\n",
              "      <td>1.266112</td>\n",
              "      <td>-0.442468</td>\n",
              "      <td>0.008344</td>\n",
              "      <td>0.190111</td>\n",
              "      <td>-4.635449e-01</td>\n",
              "      <td>-2.082122e-01</td>\n",
              "      <td>-0.117043</td>\n",
              "      <td>-0.055768</td>\n",
              "      <td>-0.016358</td>\n",
              "      <td>0.114128</td>\n",
              "      <td>-0.012773</td>\n",
              "      <td>0.071106</td>\n",
              "    </tr>\n",
              "    <tr>\n",
              "      <th>view</th>\n",
              "      <td>-0.036777</td>\n",
              "      <td>-0.368010</td>\n",
              "      <td>0.081654</td>\n",
              "      <td>-0.009071</td>\n",
              "      <td>-4.804306e-01</td>\n",
              "      <td>-0.071271</td>\n",
              "      <td>-0.035864</td>\n",
              "      <td>-0.442468</td>\n",
              "      <td>1.476940</td>\n",
              "      <td>-0.005389</td>\n",
              "      <td>-0.070121</td>\n",
              "      <td>6.195365e-01</td>\n",
              "      <td>4.064018e-02</td>\n",
              "      <td>0.073521</td>\n",
              "      <td>-0.033150</td>\n",
              "      <td>-0.171971</td>\n",
              "      <td>0.201995</td>\n",
              "      <td>0.042255</td>\n",
              "      <td>-0.312387</td>\n",
              "    </tr>\n",
              "    <tr>\n",
              "      <th>condition</th>\n",
              "      <td>0.023572</td>\n",
              "      <td>-0.153717</td>\n",
              "      <td>-0.063508</td>\n",
              "      <td>-0.122798</td>\n",
              "      <td>-3.176441e-01</td>\n",
              "      <td>0.013912</td>\n",
              "      <td>0.091956</td>\n",
              "      <td>0.008344</td>\n",
              "      <td>-0.005389</td>\n",
              "      <td>1.256810</td>\n",
              "      <td>-0.007097</td>\n",
              "      <td>4.027163e-01</td>\n",
              "      <td>8.230743e-02</td>\n",
              "      <td>0.529219</td>\n",
              "      <td>0.210115</td>\n",
              "      <td>0.147948</td>\n",
              "      <td>0.099491</td>\n",
              "      <td>-0.023708</td>\n",
              "      <td>0.080543</td>\n",
              "    </tr>\n",
              "    <tr>\n",
              "      <th>grade</th>\n",
              "      <td>-0.050230</td>\n",
              "      <td>-1.026233</td>\n",
              "      <td>0.212576</td>\n",
              "      <td>-0.180575</td>\n",
              "      <td>-4.468741e-01</td>\n",
              "      <td>-0.017099</td>\n",
              "      <td>-0.221481</td>\n",
              "      <td>0.190111</td>\n",
              "      <td>-0.070121</td>\n",
              "      <td>-0.007097</td>\n",
              "      <td>3.732822</td>\n",
              "      <td>-7.848273e-01</td>\n",
              "      <td>-8.355576e-02</td>\n",
              "      <td>-0.854376</td>\n",
              "      <td>-0.049694</td>\n",
              "      <td>-0.003357</td>\n",
              "      <td>-0.098912</td>\n",
              "      <td>0.315796</td>\n",
              "      <td>-0.868408</td>\n",
              "    </tr>\n",
              "    <tr>\n",
              "      <th>sqft_above</th>\n",
              "      <td>0.011162</td>\n",
              "      <td>-0.408913</td>\n",
              "      <td>-0.737811</td>\n",
              "      <td>3.333431</td>\n",
              "      <td>3.051743e+13</td>\n",
              "      <td>-0.095168</td>\n",
              "      <td>-0.966522</td>\n",
              "      <td>-0.464508</td>\n",
              "      <td>0.621925</td>\n",
              "      <td>0.403215</td>\n",
              "      <td>-0.780245</td>\n",
              "      <td>-2.751534e+13</td>\n",
              "      <td>-1.470563e+13</td>\n",
              "      <td>-1.068467</td>\n",
              "      <td>-0.051316</td>\n",
              "      <td>0.020853</td>\n",
              "      <td>0.254082</td>\n",
              "      <td>-0.265622</td>\n",
              "      <td>-0.640774</td>\n",
              "    </tr>\n",
              "    <tr>\n",
              "      <th>sqft_basement</th>\n",
              "      <td>-0.012247</td>\n",
              "      <td>-0.095787</td>\n",
              "      <td>-0.401281</td>\n",
              "      <td>1.370799</td>\n",
              "      <td>1.631011e+13</td>\n",
              "      <td>0.034521</td>\n",
              "      <td>0.366040</td>\n",
              "      <td>-0.208720</td>\n",
              "      <td>0.041999</td>\n",
              "      <td>0.082615</td>\n",
              "      <td>-0.081266</td>\n",
              "      <td>-1.470563e+13</td>\n",
              "      <td>-7.859457e+12</td>\n",
              "      <td>-0.577647</td>\n",
              "      <td>-0.043544</td>\n",
              "      <td>-0.019000</td>\n",
              "      <td>-0.070947</td>\n",
              "      <td>0.202595</td>\n",
              "      <td>0.004134</td>\n",
              "    </tr>\n",
              "    <tr>\n",
              "      <th>yr_built</th>\n",
              "      <td>0.024178</td>\n",
              "      <td>0.699662</td>\n",
              "      <td>0.198346</td>\n",
              "      <td>-0.995839</td>\n",
              "      <td>1.441926e+00</td>\n",
              "      <td>0.082674</td>\n",
              "      <td>-0.488243</td>\n",
              "      <td>-0.117043</td>\n",
              "      <td>0.073521</td>\n",
              "      <td>0.529219</td>\n",
              "      <td>-0.854376</td>\n",
              "      <td>-1.066273e+00</td>\n",
              "      <td>-5.764745e-01</td>\n",
              "      <td>2.577564</td>\n",
              "      <td>0.519076</td>\n",
              "      <td>0.316087</td>\n",
              "      <td>0.151886</td>\n",
              "      <td>-0.450615</td>\n",
              "      <td>0.048999</td>\n",
              "    </tr>\n",
              "    <tr>\n",
              "      <th>yr_renovated</th>\n",
              "      <td>0.018961</td>\n",
              "      <td>-0.070583</td>\n",
              "      <td>0.039934</td>\n",
              "      <td>-0.252989</td>\n",
              "      <td>8.546521e-02</td>\n",
              "      <td>0.008652</td>\n",
              "      <td>-0.079358</td>\n",
              "      <td>-0.055768</td>\n",
              "      <td>-0.033150</td>\n",
              "      <td>0.210115</td>\n",
              "      <td>-0.049694</td>\n",
              "      <td>-5.036976e-02</td>\n",
              "      <td>-4.303787e-02</td>\n",
              "      <td>0.519076</td>\n",
              "      <td>1.152195</td>\n",
              "      <td>0.030650</td>\n",
              "      <td>0.062690</td>\n",
              "      <td>-0.063489</td>\n",
              "      <td>0.100929</td>\n",
              "    </tr>\n",
              "    <tr>\n",
              "      <th>zipcode</th>\n",
              "      <td>0.000680</td>\n",
              "      <td>0.282949</td>\n",
              "      <td>0.106050</td>\n",
              "      <td>0.017622</td>\n",
              "      <td>-2.360546e-01</td>\n",
              "      <td>-0.011707</td>\n",
              "      <td>-0.173307</td>\n",
              "      <td>-0.016358</td>\n",
              "      <td>-0.171971</td>\n",
              "      <td>0.147948</td>\n",
              "      <td>-0.003357</td>\n",
              "      <td>2.086676e-02</td>\n",
              "      <td>-1.899190e-02</td>\n",
              "      <td>0.316087</td>\n",
              "      <td>0.030650</td>\n",
              "      <td>1.686127</td>\n",
              "      <td>-0.372308</td>\n",
              "      <td>0.756666</td>\n",
              "      <td>0.198332</td>\n",
              "    </tr>\n",
              "    <tr>\n",
              "      <th>lat</th>\n",
              "      <td>0.006678</td>\n",
              "      <td>-0.757780</td>\n",
              "      <td>-0.018525</td>\n",
              "      <td>0.023899</td>\n",
              "      <td>2.645867e-01</td>\n",
              "      <td>0.075635</td>\n",
              "      <td>-0.120790</td>\n",
              "      <td>0.114128</td>\n",
              "      <td>0.201995</td>\n",
              "      <td>0.099491</td>\n",
              "      <td>-0.098912</td>\n",
              "      <td>2.537793e-01</td>\n",
              "      <td>-7.110914e-02</td>\n",
              "      <td>0.151886</td>\n",
              "      <td>0.062690</td>\n",
              "      <td>-0.372308</td>\n",
              "      <td>1.352758</td>\n",
              "      <td>-0.162652</td>\n",
              "      <td>-0.063159</td>\n",
              "    </tr>\n",
              "    <tr>\n",
              "      <th>long</th>\n",
              "      <td>-0.065031</td>\n",
              "      <td>0.279396</td>\n",
              "      <td>0.049147</td>\n",
              "      <td>0.035435</td>\n",
              "      <td>-2.237018e-01</td>\n",
              "      <td>-0.251144</td>\n",
              "      <td>0.167458</td>\n",
              "      <td>-0.012773</td>\n",
              "      <td>0.042255</td>\n",
              "      <td>-0.023708</td>\n",
              "      <td>0.315796</td>\n",
              "      <td>-2.693676e-01</td>\n",
              "      <td>2.005928e-01</td>\n",
              "      <td>-0.450615</td>\n",
              "      <td>-0.063489</td>\n",
              "      <td>0.756666</td>\n",
              "      <td>-0.162652</td>\n",
              "      <td>1.841369</td>\n",
              "      <td>-0.375912</td>\n",
              "    </tr>\n",
              "    <tr>\n",
              "      <th>sqft_living15</th>\n",
              "      <td>0.015548</td>\n",
              "      <td>-0.128521</td>\n",
              "      <td>0.018659</td>\n",
              "      <td>0.107461</td>\n",
              "      <td>-9.726362e-01</td>\n",
              "      <td>0.079731</td>\n",
              "      <td>0.278055</td>\n",
              "      <td>0.071106</td>\n",
              "      <td>-0.312387</td>\n",
              "      <td>0.080543</td>\n",
              "      <td>-0.868408</td>\n",
              "      <td>-6.162370e-01</td>\n",
              "      <td>1.724825e-02</td>\n",
              "      <td>0.048999</td>\n",
              "      <td>0.100929</td>\n",
              "      <td>0.198332</td>\n",
              "      <td>-0.063159</td>\n",
              "      <td>-0.375912</td>\n",
              "      <td>2.977561</td>\n",
              "    </tr>\n",
              "  </tbody>\n",
              "</table>\n",
              "</div>"
            ],
            "text/plain": [
              "                     id     price  bedrooms  ...       lat      long  sqft_living15\n",
              "id             1.023362  0.028942 -0.002358  ...  0.006678 -0.065031       0.015548\n",
              "price          0.028942  3.327213  0.297624  ... -0.757780  0.279396      -0.128521\n",
              "bedrooms      -0.002358  0.297624  1.675295  ... -0.018525  0.049147       0.018659\n",
              "bathrooms     -0.008433 -0.290487 -0.489985  ...  0.023899  0.035435       0.107461\n",
              "sqft_living    0.019776 -1.045021 -0.278802  ...  0.264251 -0.227856      -0.945422\n",
              "sqft_lot       0.148540  0.020654  0.108846  ...  0.075635 -0.251144       0.079731\n",
              "floors        -0.015063 -0.036379  0.043606  ... -0.120790  0.167458       0.278055\n",
              "waterfront     0.004296 -0.455794  0.023162  ...  0.114128 -0.012773       0.071106\n",
              "view          -0.036777 -0.368010  0.081654  ...  0.201995  0.042255      -0.312387\n",
              "condition      0.023572 -0.153717 -0.063508  ...  0.099491 -0.023708       0.080543\n",
              "grade         -0.050230 -1.026233  0.212576  ... -0.098912  0.315796      -0.868408\n",
              "sqft_above     0.011162 -0.408913 -0.737811  ...  0.254082 -0.265622      -0.640774\n",
              "sqft_basement -0.012247 -0.095787 -0.401281  ... -0.070947  0.202595       0.004134\n",
              "yr_built       0.024178  0.699662  0.198346  ...  0.151886 -0.450615       0.048999\n",
              "yr_renovated   0.018961 -0.070583  0.039934  ...  0.062690 -0.063489       0.100929\n",
              "zipcode        0.000680  0.282949  0.106050  ... -0.372308  0.756666       0.198332\n",
              "lat            0.006678 -0.757780 -0.018525  ...  1.352758 -0.162652      -0.063159\n",
              "long          -0.065031  0.279396  0.049147  ... -0.162652  1.841369      -0.375912\n",
              "sqft_living15  0.015548 -0.128521  0.018659  ... -0.063159 -0.375912       2.977561\n",
              "\n",
              "[19 rows x 19 columns]"
            ]
          },
          "metadata": {
            "tags": []
          },
          "execution_count": 78
        }
      ]
    },
    {
      "cell_type": "markdown",
      "metadata": {
        "id": "9URGCWIf1OYL",
        "colab_type": "text"
      },
      "source": [
        "None of the dropped based on the removal of sqft_lot15.\n",
        "\n",
        "Now we'll create a model based on our revised set of independent variables above, then displaying the residual plot for it."
      ]
    },
    {
      "cell_type": "code",
      "metadata": {
        "id": "Yee2wyf11VU-",
        "colab_type": "code",
        "colab": {
          "base_uri": "https://localhost:8080/",
          "height": 34
        },
        "outputId": "192ed1ae-34d7-41f4-dc2d-f8f8c18c9c5c"
      },
      "source": [
        "from sklearn import metrics\n",
        "from sklearn.model_selection import train_test_split\n",
        "from sklearn.linear_model import LinearRegression\n",
        "\n",
        "X = revised.values\n",
        "y = data['price'].values\n",
        "\n",
        "X_train, X_test, admit_train, admit_test = train_test_split(X, y, test_size=0.2, random_state=0)\n",
        "\n",
        "regressor = LinearRegression()\n",
        "regressor.fit(X_train, admit_train)\n",
        "\n",
        "# This is our prediction for admission based on our model\n",
        "admit_predict = regressor.predict(X_test)\n",
        "\n",
        "# We now create the residual by substracting the test value from the predicted \n",
        "# value for each row in our dataset\n",
        "\n",
        "residuals = np.subtract(admit_predict, admit_test)\n",
        "\n",
        "# Let's describe our residual:\n",
        "pd.DataFrame(residuals).describe()\n",
        "\n",
        "residuals.mean()"
      ],
      "execution_count": 79,
      "outputs": [
        {
          "output_type": "execute_result",
          "data": {
            "text/plain": [
              "1.0913094880954275e-11"
            ]
          },
          "metadata": {
            "tags": []
          },
          "execution_count": 79
        }
      ]
    },
    {
      "cell_type": "markdown",
      "metadata": {
        "id": "GJrAbDVS2SpK",
        "colab_type": "text"
      },
      "source": [
        "We are predicting the price of the houses based on the variables "
      ]
    },
    {
      "cell_type": "code",
      "metadata": {
        "id": "5KL7VEVE2jYH",
        "colab_type": "code",
        "colab": {
          "base_uri": "https://localhost:8080/",
          "height": 296
        },
        "outputId": "78c72442-87c1-4c6a-a4a7-12f0869d6031"
      },
      "source": [
        "#Plot Residual Plot\n",
        "import matplotlib.pyplot as plt\n",
        "\n",
        "plt.scatter(admit_predict, residuals, color='black')\n",
        "plt.ylabel('residual')\n",
        "plt.xlabel('fitted values')\n",
        "plt.axhline(y= residuals.mean(), color='red', linewidth=1)\n",
        "plt.show()"
      ],
      "execution_count": 80,
      "outputs": [
        {
          "output_type": "display_data",
          "data": {
            "image/png": "[encoded data removed]",
            "text/plain": [
              "<Figure size 432x288 with 1 Axes>"
            ]
          },
          "metadata": {
            "tags": []
          }
        }
      ]
    },
    {
      "cell_type": "markdown",
      "metadata": {
        "id": "UeOlGXu421HM",
        "colab_type": "text"
      },
      "source": [
        "The Residuals are centered around 0 which does not look so good. "
      ]
    },
    {
      "cell_type": "markdown",
      "metadata": {
        "id": "PWQgAosZ3HNX",
        "colab_type": "text"
      },
      "source": [
        "Let's perform a barlett's test\n",
        "\n",
        "This establishes as a null hypothesis that the variance is equal for all our datapoints,and the new hypothesis that the variance is different for at least one pair of datapoints."
      ]
    },
    {
      "cell_type": "code",
      "metadata": {
        "id": "c_mX2Epa3Wd8",
        "colab_type": "code",
        "colab": {
          "base_uri": "https://localhost:8080/",
          "height": 50
        },
        "outputId": "34c92761-5a95-4994-95b2-f07abfc11dc5"
      },
      "source": [
        "import scipy as sp\n",
        "\n",
        "test_result, p_value = sp.stats.bartlett(admit_predict, residuals)\n",
        "\n",
        "# To interpret the results we must also compute a critical value of the chi squared distribution\n",
        "degree_of_freedom = len(admit_predict)-1\n",
        "probability = 1 - p_value\n",
        "\n",
        "critical_value = sp.stats.chi2.ppf(probability, degree_of_freedom)\n",
        "print(p_value)\n",
        "\n",
        "# If the test_result is greater than the critical value, then we reject our null\n",
        "# hypothesis. This would mean that there are patterns to the variance of the data\n",
        "\n",
        "# Otherwise, we can identify no patterns, and we accept the null hypothesis that \n",
        "# the variance is homogeneous across our data\n",
        "\n",
        "if (test_result > critical_value):\n",
        "  print('the variances are unequal, and the model should be reassessed')\n",
        "else:\n",
        "  print('the variances are homogeneous!')"
      ],
      "execution_count": 82,
      "outputs": [
        {
          "output_type": "stream",
          "text": [
            "0.0\n",
            "the variances are homogeneous!\n"
          ],
          "name": "stdout"
        }
      ]
    },
    {
      "cell_type": "code",
      "metadata": {
        "id": "CucTcVYZFg0W",
        "colab_type": "code",
        "colab": {}
      },
      "source": [
        ""
      ],
      "execution_count": 0,
      "outputs": []
    }
  ]
}